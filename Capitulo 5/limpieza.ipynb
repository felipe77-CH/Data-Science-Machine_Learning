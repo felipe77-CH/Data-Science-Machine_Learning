{
 "cells": [
  {
   "cell_type": "markdown",
   "metadata": {},
   "source": [
    "## Capitulo V: Limpieza de datos"
   ]
  },
  {
   "cell_type": "markdown",
   "metadata": {},
   "source": [
    "# Importacion de bibliotecas"
   ]
  },
  {
   "cell_type": "code",
   "execution_count": 1,
   "metadata": {},
   "outputs": [],
   "source": [
    "import numpy as np\n",
    "import pandas as pd\n",
    "import matplotlib as plt\n",
    "import janitor as jn\n",
    "from sklearn.impute import SimpleImputer\n",
    "import matplotlib.pyplot as plt\n",
    "import seaborn as sns  \n",
    "import missingno as msno\n",
    "import os"
   ]
  },
  {
   "cell_type": "markdown",
   "metadata": {},
   "source": [
    "# Importacion de los datos "
   ]
  },
  {
   "cell_type": "code",
   "execution_count": 2,
   "metadata": {},
   "outputs": [],
   "source": [
    "# Ruta completa al archivo CSV\n",
    "file_path = 'C:/Users/felip/OneDrive/Documentos/Python/Codigos/Ciencia_Datos/Datos_titanic_CSV/titanic3.csv'\n",
    "# Importar la base de datos\n",
    "df = pd.read_csv(file_path)\n",
    "orig_df = df\n",
    "# Puedes imprimir el DataFrame si lo deseas\n",
    "# print(df)"
   ]
  },
  {
   "cell_type": "markdown",
   "metadata": {},
   "source": [
    "# Nombres de columnas "
   ]
  },
  {
   "cell_type": "markdown",
   "metadata": {},
   "source": [
    "Al usar pandas, tener nombres de columnas compatibles con Python hace posible el acceso a los atributos. Los nombres_limpios del pyjanitor La función devolverá un DataFrame con columnas en minúsculas. y espacios reemplazados por guiones bajos:\n",
    "\n",
    "La función `clean_names` de la biblioteca `janitor` en Python se utiliza para limpiar y estandarizar los nombres de las columnas en un DataFrame. Algunas de las transformaciones que realiza esta función incluyen:\n",
    "\n",
    "- **Eliminación de espacios en blanco:** Elimina los espacios en blanco al principio y al final de cada nombre de columna.\n",
    "\n",
    "- **Reemplazo de caracteres especiales:** Reemplaza caracteres especiales y espacios con guiones bajos (`_`) para hacer que los nombres de las columnas sean más amigables y compatibles.\n",
    "\n",
    "- **Conversión a minúsculas:** Convierte todos los nombres de las columnas a minúsculas para mantener consistencia.\n",
    "\n",
    "- **Eliminación de caracteres no deseados:** Elimina cualquier otro carácter que no sea alfanumérico o guion bajo.\n",
    "\n",
    "En resumen, `clean_names` ayuda a asegurar que los nombres de las columnas sean consistentes, limpios y fáciles de trabajar en análisis de datos, evitando problemas comunes asociados con caracteres especiales o espacios en blanco en los nombres de las columnas.\n"
   ]
  },
  {
   "cell_type": "code",
   "execution_count": 3,
   "metadata": {},
   "outputs": [
    {
     "name": "stdout",
     "output_type": "stream",
     "text": [
      "     a  _sales_numbers_\n",
      "0  1.0             20.0\n",
      "1  NaN             30.0\n",
      "2  3.0              NaN\n"
     ]
    }
   ],
   "source": [
    "#  Crea un DataFrame llamado Xbad con dos columnas, \"A\" y \" sales numbers \", y algunas celdas que contienen valores nulos (None).\n",
    "Xbad = pd.DataFrame({\"A\": [1, None, 3], \" sales numbers \": [20.0, 30.0, None]})\n",
    "# Utiliza la función \"clean_names\" de la biblioteca janitor para limpiar los nombres de las columnas en el DataFrame Xbad. \n",
    "# Esta función realiza transformaciones como eliminar espacios en blanco, reemplazar caracteres especiales con guiones bajos y convertir los nombres de las columnas a minúsculas.\n",
    "# Usa la función clean_names() de janitor para limpiar los nombres de las columnas\n",
    "Xbad_cleaned = jn.clean_names(Xbad)\n",
    "# Muestra el DataFrame limpio\n",
    "print(Xbad_cleaned)\n"
   ]
  },
  {
   "cell_type": "markdown",
   "metadata": {},
   "source": [
    "# Reemplazo de valores en nombres"
   ]
  },
  {
   "cell_type": "markdown",
   "metadata": {},
   "source": [
    "=\"https://pyjanitor-devs.github.io/pyjanitor/api/functions/#janitor.functions.coalesce\""
   ]
  },
  {
   "cell_type": "code",
   "execution_count": 4,
   "metadata": {},
   "outputs": [
    {
     "name": "stdout",
     "output_type": "stream",
     "text": [
      "   Aloha  Bell Chart  Animals@#$%^\n",
      "0      0           0             0\n",
      "1      1           1             1\n",
      "2      2           2             2\n",
      "   aloha  bell_chart  animals@#$%^\n",
      "0      0           0             0\n",
      "1      1           1             1\n",
      "2      2           2             2\n",
      "   aloha  bell_chart  animals\n",
      "0      0           0        0\n",
      "1      1           1        1\n",
      "2      2           2        2\n"
     ]
    }
   ],
   "source": [
    "import pandas as pd\n",
    "import janitor\n",
    "\n",
    "df = pd.DataFrame(\n",
    "    {\n",
    "        \"Aloha\": range(3),\n",
    "        \"Bell Chart\": range(3),\n",
    "        \"Animals@#$%^\": range(3)\n",
    "    }\n",
    ")\n",
    "\n",
    "print(df)\n",
    "\n",
    "# Limpieza de nombres de columnas sin eliminar caracteres especiales\n",
    "df_cleaned = df.clean_names()\n",
    "print(df_cleaned)\n",
    "\n",
    "# Limpieza de nombres de columnas eliminando caracteres especiales\n",
    "df_cleaned_no_special = df.clean_names(remove_special=True)\n",
    "print(df_cleaned_no_special)\n"
   ]
  },
  {
   "cell_type": "markdown",
   "metadata": {},
   "source": [
    "coalesce(df, *column_names, target_column_name=None, default_value=None)\n",
    "jn.coalesce(Xbad,columns=[\"A\", \" sales numbers \"],new_column_name=\"val\")"
   ]
  }
 ],
 "metadata": {
  "kernelspec": {
   "display_name": "datos",
   "language": "python",
   "name": "python3"
  },
  "language_info": {
   "codemirror_mode": {
    "name": "ipython",
    "version": 3
   },
   "file_extension": ".py",
   "mimetype": "text/x-python",
   "name": "python",
   "nbconvert_exporter": "python",
   "pygments_lexer": "ipython3",
   "version": "3.11.4"
  }
 },
 "nbformat": 4,
 "nbformat_minor": 2
}
