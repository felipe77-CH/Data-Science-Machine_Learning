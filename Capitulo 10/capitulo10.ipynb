{
 "cells": [
  {
   "cell_type": "markdown",
   "metadata": {},
   "source": [
    "# Importar las funciones "
   ]
  },
  {
   "cell_type": "code",
   "execution_count": 3,
   "metadata": {},
   "outputs": [],
   "source": [
    "import numpy as np\n",
    "import pandas as pd\n",
    "import matplotlib.pyplot as plt\n",
    "import pickle\n",
    "from itertools import zip_longest\n",
    "from tabulate import tabulate\n",
    "import pdfkit\n",
    "import seaborn as sns\n",
    "from itertools import zip_longest\n",
    "from sklearn.tree import DecisionTreeClassifier\n",
    "from sklearn import model_selection\n",
    "from sklearn.model_selection import train_test_split\n",
    "from sklearn.metrics import confusion_matrix\n",
    "from sklearn.metrics import roc_auc_score\n",
    "from sklearn.model_selection import KFold, cross_val_score  \n",
    "from sklearn.experimental import enable_iterative_imputer\n",
    "from sklearn import impute\n",
    "from sklearn.ensemble import RandomForestClassifier\n",
    "from sklearn import preprocessing\n",
    "from sklearn.dummy import DummyClassifier\n",
    "from sklearn import metrics\n",
    "import sklearn.linear_model as lm\n",
    "from sklearn.linear_model import LogisticRegression\n",
    "import sklearn.tree as tree\n",
    "from sklearn.metrics import accuracy_score\n",
    "import sklearn.neighbors as neighbors\n",
    "import sklearn.naive_bayes as nb\n",
    "import sklearn.svm as svm\n",
    "import sklearn.ensemble as ensemble\n",
    "from sklearn.metrics import confusion_matrix\n",
    "from yellowbrick.classifier import ConfusionMatrix\n",
    "from sklearn.neighbors import KNeighborsClassifier\n",
    "from yellowbrick.features import (JointPlotVisualizer,)\n",
    "from sklearn.naive_bayes import GaussianNB\n",
    "from sklearn.svm import SVC\n",
    "from sklearn.ensemble import RandomForestClassifier\n",
    "import xgboost"
   ]
  },
  {
   "cell_type": "markdown",
   "metadata": {},
   "source": [
    "# Exportar los datos "
   ]
  },
  {
   "cell_type": "code",
   "execution_count": 4,
   "metadata": {},
   "outputs": [],
   "source": [
    "# Ruta completa al archivo CSV\n",
    "file_path = 'C:/Users/felip/OneDrive/Documentos/Python/Codigos/Ciencia_Datos/Datos_titanic_CSV/titanic3.csv'\n",
    "# Importar la base de datos\n",
    "df = pd.read_csv(file_path)\n",
    "X= df\n",
    "# Puedes imprimir el DataFrame si lo deseas\n",
    "# print(df)"
   ]
  },
  {
   "cell_type": "code",
   "execution_count": 5,
   "metadata": {},
   "outputs": [],
   "source": [
    "def tweak_titanic(df):\n",
    "    df = df.drop(columns=[\n",
    "        \"name\",\n",
    "        \"ticket\",\n",
    "        \"home.dest\",\n",
    "        \"boat\",\n",
    "        \"body\",\n",
    "        \"cabin\"\n",
    "    ]).pipe(pd.get_dummies, drop_first=True)\n",
    "    return df\n",
    "\n",
    "ti_df = tweak_titanic(df)\n",
    "#print(ti_df)\n",
    "def get_train_test_X_y(df, y_col, size=0.3, std_cols=None):\n",
    "    #Obtencion del conjunto de prueba y entreanamiento\n",
    "    y = df[y_col]\n",
    "    X = df.drop(columns=y_col)\n",
    "    X_train, X_test, y_train, y_test = model_selection.train_test_split(X, y, test_size=size, random_state=42)\n",
    "    cols = X.columns\n",
    "    num_cols = [\"pclass\", \"age\", \"sibsp\", \"parch\", \"fare\"]\n",
    "    #Imputacion de los valores faltantes \n",
    "    fi = impute.IterativeImputer()\n",
    "    X_train.loc[:, num_cols] = fi.fit_transform(X_train[num_cols])\n",
    "    X_test.loc[:, num_cols] = fi.transform(X_test[num_cols])\n",
    "    #Estandarizacion de los valores \n",
    "    if std_cols:\n",
    "        std = preprocessing.StandardScaler()\n",
    "        X_train.loc[:, std_cols] = std.fit_transform(X_train[std_cols])\n",
    "        X_test.loc[:, std_cols] = std.transform(X_test[std_cols])\n",
    "    return X_train, X_test, y_train, y_test\n",
    "\n",
    "ti_df = tweak_titanic(df)\n",
    "std_cols = \"pclass,age,sibsp,fare\".split(\",\")\n",
    "X_train, X_test, y_train, y_test = get_train_test_X_y (ti_df, \"survived\", std_cols=std_cols)"
   ]
  },
  {
   "cell_type": "markdown",
   "metadata": {},
   "source": [
    "# Capitulo 10: Clasificacion "
   ]
  },
  {
   "cell_type": "markdown",
   "metadata": {},
   "source": [
    "*La clasificación es un mecanismo de `aprendizaje supervisado` para etiquetar un muestra basada en las `características`. El `aprendizaje supervisado` significa que tenemos etiquetas para clasificación o números para efectuar una regresión que el algoritmo debería aprender.*\n",
    "\n",
    "*En este capítulo veremos varios modelos que `clasificación.Sklearn`. se efectuara tambien con modelos que no hacen parte de esa biblioteca `sklearn`, pero implementan sklearninterfaz. Debido a que siguen la misma interfaz, es fácil probar las  diferentes familias de modelos y ver qué tan bien funcionan.*\n",
    "\n",
    "*En `sklearn` creamos una instancia de modelo y llamaremos a este el método `.fit`, en esta instancia creada y junto  con los datos de entrenamiento y las etiquetas de entrenamiento ahora podemos llamar el método `.predict` (o el .predict_proba o los métodos .predict_log_proba) con el modelo ajustado. A evaluar el modelo, utilizamos el `.score` con datos de prueba y etiquetas de prueba.*\n",
    "\n",
    "*El mayor desafío suele ser organizar los datos de una forma que Trabajará con `sklearn`. `datos (X)` deben ser un (m por n) matriz numpy (o pandas DataFrame) con m filas de muestra datos cada uno con n características (columnas). La `etiqueta (y)` es un vector (o serie pandas) de tamaño m con un valor (clase) para cada muestra.*"
   ]
  },
  {
   "cell_type": "markdown",
   "metadata": {},
   "source": [
    "*El método `.score` devuelve la precisión media, que por sí sola podría no ser suficiente para evaluar un clasificador. veremos otros métricas de evaluación.*\n",
    "*Examinaremos muchos modelos y discutiremos su eficiencia, la técnicas de preprocesamiento que requieren, cómo prevenir el sobreajuste, y si el modelo soporta la interpretación intuitiva deresultados.*"
   ]
  },
  {
   "cell_type": "markdown",
   "metadata": {},
   "source": [
    "**Comandos basicos a utilizar**"
   ]
  },
  {
   "cell_type": "markdown",
   "metadata": {},
   "source": [
    "`predict(X)`\n",
    "    *Predict classes*\n",
    "\n",
    "`predict_log_proba(X)`\n",
    "    *Predict log probability*\n",
    "\n",
    "`predict_proba(X)`\n",
    "    *Predict probability*\n",
    "\n",
    "`score(X, y[, sample_weight])`\n",
    "    *Get accuracy*"
   ]
  },
  {
   "cell_type": "markdown",
   "metadata": {},
   "source": [
    "# Logistic Regression (Regresion logistica): Ejemplo del titanic"
   ]
  },
  {
   "cell_type": "markdown",
   "metadata": {},
   "source": [
    "La regresión logística se define como un algoritmo de aprendizaje automático supervisado que realiza tareas de clasificación binaria prediciendo la probabilidad de un resultado, evento u observación\n",
    "\n",
    "La regresión logística estima probabilidades mediante el uso de un método logístico.función. (Ojo; aunque tiene regresión en el nombre,se utiliza para la clasificación.) Esta ha sido la clasificación estándar modelo para la mayoría de las ciencias."
   ]
  },
  {
   "cell_type": "markdown",
   "metadata": {},
   "source": [
    "*Las siguientes son algunas características del modelo que incluir para cada modelo:*"
   ]
  },
  {
   "cell_type": "markdown",
   "metadata": {},
   "source": [
    "*Eficiencia en tiempo de ejecucion*\n",
    "- Puede usar `n_jobs` si no usa el solucionador 'liblinear'.\n",
    "\n",
    "*Datos de preprocesamiento*\n",
    "- *Si el solucionador está configurado en `sag` o `saga`, estandarizar es lo mas conveniente para que la convergencia mejore. Puede manejar entradas escasas.*\n",
    "\n",
    "*Prevenir el sobreajuste*\n",
    "- El parámetro C controla la regularización. (La C inferior es más regularización, más alto significa menos.) Puede especificar la penalización a 'l1' o 'l2' (el valor predeterminado).\n",
    "\n",
    "*Interpretar resultados*\n",
    "- El atributo `.coef_ del modelo ajustado` muestra la decisión coeficientes de función. Un cambio en x cambia una unidad el log odds ratio por el coeficiente. El .intercept_ El atributo son las probabilidades logarítmicas inversas de la condición de referencia. \n",
    "\n",
    "*Consultar bibliografia: \"https://realpython.com/logistic-regression-python/\"*\n",
    "\n",
    "*A continuación se muestra un ejemplo utilizando este modelo:*"
   ]
  },
  {
   "cell_type": "code",
   "execution_count": 6,
   "metadata": {},
   "outputs": [
    {
     "data": {
      "text/plain": [
       "0.8015267175572519"
      ]
     },
     "execution_count": 6,
     "metadata": {},
     "output_type": "execute_result"
    }
   ],
   "source": [
    "from sklearn.linear_model import (LogisticRegression)\n",
    "\n",
    "lr=LogisticRegression(C=1, \n",
    "    class_weight=None,\n",
    "    dual=False, \n",
    "    fit_intercept=True,\n",
    "    intercept_scaling=1, \n",
    "    max_iter=100,\n",
    "    multi_class='ovr', \n",
    "    n_jobs=1, \n",
    "    penalty='l1',\n",
    "    random_state=42, \n",
    "    solver='liblinear',\n",
    "    tol=0.0001, \n",
    "    verbose=0, \n",
    "    warm_start=False)\n",
    "\n",
    "lr.fit(X_train, y_train)\n",
    "lr.score(X_test, y_test)"
   ]
  },
  {
   "cell_type": "markdown",
   "metadata": {},
   "source": [
    "# Logistic Regression (Regresion logistica): Ejemplo practico "
   ]
  },
  {
   "cell_type": "markdown",
   "metadata": {},
   "source": [
    "*Instance parameters:*\n",
    "\n",
    "- penalty='l2'\n",
    "\n",
    "    *Penalization norm, 'l1' or 'l2'.*\n",
    "- dual=False\n",
    "    Use dual formulation (only with 'l2' and 'liblinear').\n",
    "C=1.0\n",
    "    Positive float. Inverse regularization strength. Smaller is\n",
    "    stronger regularization.\n",
    "fit_intercept=True\n",
    "    Add bias to the decision function.\n",
    "intercept_scaling=1\n",
    "    If fit_intercept and 'liblinear', scale the intercept.\n",
    "max_iter=100\n",
    "    Maximum number of iterations.\n",
    "multi_class='ovr'\n",
    "    Use one versus rest for each class, or for 'multinomial',\n",
    "    train one class.\n",
    "class_weight=None\n",
    "    Dictionary or 'balanced'.\n",
    "solver='liblinear'\n",
    "    'liblinear' is good for small data. 'newton-cg', 'sag',\n",
    "    'saga', and 'lbfgs' are for multiclass data. 'liblinear'\n",
    "    and 'saga' only work with 'l1' penalty. The others work\n",
    "    with 'l2'.\n",
    "tol=0.0001\n",
    "    Stopping tolerance.\n",
    "verbose=0\n",
    "    Be verbose (if nonzero int).\n",
    "warm_start=False\n",
    "    If True, remember previous fit.\n",
    "njobs=1\n",
    "    Number of CPUs to use. -1 is all. Only works with\n",
    "    multi_class='over' and solver is not 'liblinear'.\n",
    "\n",
    "\n",
    "Attributes after fitting:\n",
    "coef_\n",
    "    Decision function coefficients\n",
    "intercept_\n",
    "    Intercept of the decision function\n",
    "n_iter_\n",
    "    Number of iterations\n",
    "The intercept is the log odds of the baseline condition. We can\n",
    "convert it back to a percent accuracy (proportion):"
   ]
  },
  {
   "cell_type": "code",
   "execution_count": 14,
   "metadata": {},
   "outputs": [],
   "source": [
    "import matplotlib.pyplot as plt\n",
    "import numpy as np\n",
    "from sklearn.linear_model import LogisticRegression\n",
    "from sklearn.metrics import classification_report, confusion_matrix"
   ]
  },
  {
   "cell_type": "code",
   "execution_count": 15,
   "metadata": {},
   "outputs": [],
   "source": [
    "x = np.arange(10).reshape(-1, 1)\n",
    "y = np.array([0, 0, 0, 0, 1, 1, 1, 1, 1, 1])"
   ]
  },
  {
   "cell_type": "code",
   "execution_count": 16,
   "metadata": {},
   "outputs": [],
   "source": [
    "model = LogisticRegression(solver='liblinear', random_state=0)"
   ]
  },
  {
   "cell_type": "code",
   "execution_count": 17,
   "metadata": {},
   "outputs": [
    {
     "data": {
      "text/html": [
       "<style>#sk-container-id-1 {color: black;}#sk-container-id-1 pre{padding: 0;}#sk-container-id-1 div.sk-toggleable {background-color: white;}#sk-container-id-1 label.sk-toggleable__label {cursor: pointer;display: block;width: 100%;margin-bottom: 0;padding: 0.3em;box-sizing: border-box;text-align: center;}#sk-container-id-1 label.sk-toggleable__label-arrow:before {content: \"▸\";float: left;margin-right: 0.25em;color: #696969;}#sk-container-id-1 label.sk-toggleable__label-arrow:hover:before {color: black;}#sk-container-id-1 div.sk-estimator:hover label.sk-toggleable__label-arrow:before {color: black;}#sk-container-id-1 div.sk-toggleable__content {max-height: 0;max-width: 0;overflow: hidden;text-align: left;background-color: #f0f8ff;}#sk-container-id-1 div.sk-toggleable__content pre {margin: 0.2em;color: black;border-radius: 0.25em;background-color: #f0f8ff;}#sk-container-id-1 input.sk-toggleable__control:checked~div.sk-toggleable__content {max-height: 200px;max-width: 100%;overflow: auto;}#sk-container-id-1 input.sk-toggleable__control:checked~label.sk-toggleable__label-arrow:before {content: \"▾\";}#sk-container-id-1 div.sk-estimator input.sk-toggleable__control:checked~label.sk-toggleable__label {background-color: #d4ebff;}#sk-container-id-1 div.sk-label input.sk-toggleable__control:checked~label.sk-toggleable__label {background-color: #d4ebff;}#sk-container-id-1 input.sk-hidden--visually {border: 0;clip: rect(1px 1px 1px 1px);clip: rect(1px, 1px, 1px, 1px);height: 1px;margin: -1px;overflow: hidden;padding: 0;position: absolute;width: 1px;}#sk-container-id-1 div.sk-estimator {font-family: monospace;background-color: #f0f8ff;border: 1px dotted black;border-radius: 0.25em;box-sizing: border-box;margin-bottom: 0.5em;}#sk-container-id-1 div.sk-estimator:hover {background-color: #d4ebff;}#sk-container-id-1 div.sk-parallel-item::after {content: \"\";width: 100%;border-bottom: 1px solid gray;flex-grow: 1;}#sk-container-id-1 div.sk-label:hover label.sk-toggleable__label {background-color: #d4ebff;}#sk-container-id-1 div.sk-serial::before {content: \"\";position: absolute;border-left: 1px solid gray;box-sizing: border-box;top: 0;bottom: 0;left: 50%;z-index: 0;}#sk-container-id-1 div.sk-serial {display: flex;flex-direction: column;align-items: center;background-color: white;padding-right: 0.2em;padding-left: 0.2em;position: relative;}#sk-container-id-1 div.sk-item {position: relative;z-index: 1;}#sk-container-id-1 div.sk-parallel {display: flex;align-items: stretch;justify-content: center;background-color: white;position: relative;}#sk-container-id-1 div.sk-item::before, #sk-container-id-1 div.sk-parallel-item::before {content: \"\";position: absolute;border-left: 1px solid gray;box-sizing: border-box;top: 0;bottom: 0;left: 50%;z-index: -1;}#sk-container-id-1 div.sk-parallel-item {display: flex;flex-direction: column;z-index: 1;position: relative;background-color: white;}#sk-container-id-1 div.sk-parallel-item:first-child::after {align-self: flex-end;width: 50%;}#sk-container-id-1 div.sk-parallel-item:last-child::after {align-self: flex-start;width: 50%;}#sk-container-id-1 div.sk-parallel-item:only-child::after {width: 0;}#sk-container-id-1 div.sk-dashed-wrapped {border: 1px dashed gray;margin: 0 0.4em 0.5em 0.4em;box-sizing: border-box;padding-bottom: 0.4em;background-color: white;}#sk-container-id-1 div.sk-label label {font-family: monospace;font-weight: bold;display: inline-block;line-height: 1.2em;}#sk-container-id-1 div.sk-label-container {text-align: center;}#sk-container-id-1 div.sk-container {/* jupyter's `normalize.less` sets `[hidden] { display: none; }` but bootstrap.min.css set `[hidden] { display: none !important; }` so we also need the `!important` here to be able to override the default hidden behavior on the sphinx rendered scikit-learn.org. See: https://github.com/scikit-learn/scikit-learn/issues/21755 */display: inline-block !important;position: relative;}#sk-container-id-1 div.sk-text-repr-fallback {display: none;}</style><div id=\"sk-container-id-1\" class=\"sk-top-container\"><div class=\"sk-text-repr-fallback\"><pre>LogisticRegression(random_state=0, solver=&#x27;liblinear&#x27;)</pre><b>In a Jupyter environment, please rerun this cell to show the HTML representation or trust the notebook. <br />On GitHub, the HTML representation is unable to render, please try loading this page with nbviewer.org.</b></div><div class=\"sk-container\" hidden><div class=\"sk-item\"><div class=\"sk-estimator sk-toggleable\"><input class=\"sk-toggleable__control sk-hidden--visually\" id=\"sk-estimator-id-1\" type=\"checkbox\" checked><label for=\"sk-estimator-id-1\" class=\"sk-toggleable__label sk-toggleable__label-arrow\">LogisticRegression</label><div class=\"sk-toggleable__content\"><pre>LogisticRegression(random_state=0, solver=&#x27;liblinear&#x27;)</pre></div></div></div></div></div>"
      ],
      "text/plain": [
       "LogisticRegression(random_state=0, solver='liblinear')"
      ]
     },
     "execution_count": 17,
     "metadata": {},
     "output_type": "execute_result"
    }
   ],
   "source": [
    "model.fit(x, y)"
   ]
  },
  {
   "cell_type": "markdown",
   "metadata": {},
   "source": [
    "LogisticRegression(C=1.0, class_weight=None, dual=False, fit_intercept=True,\n",
    "                   intercept_scaling=1, l1_ratio=None, max_iter=100,\n",
    "                   multi_class='warn', n_jobs=None, penalty='l2',\n",
    "                   random_state=0, solver='liblinear', tol=0.0001, verbose=0,\n",
    "                   warm_start=False)"
   ]
  },
  {
   "cell_type": "code",
   "execution_count": 18,
   "metadata": {},
   "outputs": [],
   "source": [
    "model = LogisticRegression(solver='liblinear', random_state=0).fit(x, y)"
   ]
  },
  {
   "cell_type": "code",
   "execution_count": 7,
   "metadata": {},
   "outputs": [
    {
     "data": {
      "text/plain": [
       "array([1.2237674])"
      ]
     },
     "execution_count": 7,
     "metadata": {},
     "output_type": "execute_result"
    }
   ],
   "source": [
    "lr.intercept_"
   ]
  },
  {
   "cell_type": "code",
   "execution_count": 8,
   "metadata": {},
   "outputs": [
    {
     "data": {
      "text/plain": [
       "array([0.77272586])"
      ]
     },
     "execution_count": 8,
     "metadata": {},
     "output_type": "execute_result"
    }
   ],
   "source": [
    "def inv_logit(p):\n",
    "    return np.exp(p) / (1 + np.exp(p))\n",
    "inv_logit(lr.intercept_)"
   ]
  },
  {
   "cell_type": "markdown",
   "metadata": {},
   "source": [
    "Podemos inspeccionar los coeficientes. El logit inverso de los coeficientes. da la proporción de casos positivos. En este caso, si la tarifa sube, tenemos más probabilidades de sobrevivir. Si el sexo es masculino, somos menos probabilidades de sobrevivir:"
   ]
  },
  {
   "cell_type": "code",
   "execution_count": 9,
   "metadata": {},
   "outputs": [
    {
     "name": "stdout",
     "output_type": "stream",
     "text": [
      "age            0.092      0.523\n",
      "sex           -0.058      0.486\n",
      "name          -0.268      0.433\n",
      "survived      -0.287      0.429\n",
      "parch         -0.442      0.391\n",
      "ticket        -0.483      0.381\n",
      "pclass        -0.749      0.321\n",
      "sibsp         -2.450      0.079\n"
     ]
    }
   ],
   "source": [
    "cols = X.columns\n",
    "for col, val in sorted(zip(cols, lr.coef_[0]), key=lambda x: x[1], reverse=True):\n",
    "    print(f\"{col:10}{val:10.3f} {inv_logit(val):10.3f}\")\n"
   ]
  },
  {
   "cell_type": "code",
   "execution_count": 13,
   "metadata": {},
   "outputs": [
    {
     "name": "stderr",
     "output_type": "stream",
     "text": [
      "c:\\Users\\felip\\OneDrive\\Documentos\\Python\\Codigos\\Ciencia_Datos\\datos\\Lib\\site-packages\\sklearn\\base.py:465: UserWarning: X does not have valid feature names, but LogisticRegression was fitted with feature names\n",
      "  warnings.warn(\n",
      "c:\\Users\\felip\\OneDrive\\Documentos\\Python\\Codigos\\Ciencia_Datos\\datos\\Lib\\site-packages\\yellowbrick\\model_selection\\importances.py:194: YellowbrickWarning: detected multi-dimensional feature importances but stack=False, using mean to aggregate them.\n",
      "  warnings.warn(\n"
     ]
    },
    {
     "data": {
      "image/png": "[encoded data removed]",
      "text/plain": [
       "<Figure size 600x400 with 1 Axes>"
      ]
     },
     "metadata": {},
     "output_type": "display_data"
    },
    {
     "data": {
      "text/plain": [
       "<Axes: title={'center': 'Feature Importances of 8 Features using LogisticRegression'}, xlabel='relative coefficient magnitude'>"
      ]
     },
     "execution_count": 13,
     "metadata": {},
     "output_type": "execute_result"
    }
   ],
   "source": [
    "from yellowbrick.model_selection.importances import FeatureImportances\n",
    "import matplotlib.pyplot as plt\n",
    "\n",
    "# Crear una figura y ejes para el gráfico\n",
    "fig, ax = plt.subplots(figsize=(6, 4))\n",
    "\n",
    "# Crear una instancia de FeatureImportances con el modelo de regresión lineal (lr)\n",
    "fi_viz = FeatureImportances(lr)\n",
    "\n",
    "# Ajustar el modelo a los datos de entrada (X) y las etiquetas (y)\n",
    "fi_viz.fit(X_train, y_train)\n",
    "\n",
    "# Visualizar la importancia de las características\n",
    "fi_viz.poof()"
   ]
  },
  {
   "cell_type": "code",
   "execution_count": 19,
   "metadata": {},
   "outputs": [
    {
     "name": "stdout",
     "output_type": "stream",
     "text": [
      "[[4.03541657]]\n"
     ]
    }
   ],
   "source": [
    "import numpy\n",
    "from sklearn import linear_model\n",
    "\n",
    "#Reshaped for Logistic function.\n",
    "X = numpy.array([3.78, 2.44, 2.09, 0.14, 1.72, 1.65, 4.92, 4.37, 4.96, 4.52, 3.69, 5.88]).reshape(-1,1)\n",
    "y = numpy.array([0, 0, 0, 0, 0, 0, 1, 1, 1, 1, 1, 1])\n",
    "\n",
    "logr = linear_model.LogisticRegression()\n",
    "logr.fit(X,y)\n",
    "\n",
    "log_odds = logr.coef_\n",
    "odds = numpy.exp(log_odds)\n",
    "\n",
    "print(odds)\n",
    "\n",
    "def logit2prob(logr,x):\n",
    "  log_odds = logr.coef_ * x + logr.intercept_\n",
    "  odds = numpy.exp(log_odds)\n",
    "  probability = odds / (1 + odds)\n",
    "  return(probability)"
   ]
  },
  {
   "cell_type": "markdown",
   "metadata": {},
   "source": [
    "# Naive Bayes"
   ]
  },
  {
   "cell_type": "code",
   "execution_count": null,
   "metadata": {},
   "outputs": [],
   "source": []
  }
 ],
 "metadata": {
  "kernelspec": {
   "display_name": "Python 3",
   "language": "python",
   "name": "python3"
  },
  "language_info": {
   "codemirror_mode": {
    "name": "ipython",
    "version": 3
   },
   "file_extension": ".py",
   "mimetype": "text/x-python",
   "name": "python",
   "nbconvert_exporter": "python",
   "pygments_lexer": "ipython3",
   "version": "3.11.4"
  }
 },
 "nbformat": 4,
 "nbformat_minor": 2
}
