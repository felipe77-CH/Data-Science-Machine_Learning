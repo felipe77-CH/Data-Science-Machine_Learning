{
 "cells": [
  {
   "cell_type": "code",
   "execution_count": 93,
   "metadata": {},
   "outputs": [],
   "source": [
    "import numpy as np\n",
    "import pandas as pd\n",
    "import matplotlib.pyplot as plt\n",
    "import sweetviz as sv\n",
    "import pickle\n",
    "from itertools import zip_longest\n",
    "from tabulate import tabulate\n",
    "import pdfkit\n",
    "import seaborn as sns\n",
    "from itertools import zip_longest\n",
    "from sklearn.tree import DecisionTreeClassifier\n",
    "from sklearn import model_selection\n",
    "from sklearn.model_selection import train_test_split\n",
    "from sklearn.metrics import confusion_matrix\n",
    "from sklearn.metrics import roc_auc_score\n",
    "from sklearn.model_selection import KFold, cross_val_score  \n",
    "from sklearn.experimental import enable_iterative_imputer\n",
    "from sklearn import impute\n",
    "from sklearn.ensemble import RandomForestClassifier\n",
    "from sklearn import preprocessing\n",
    "from sklearn.dummy import DummyClassifier\n",
    "from sklearn import metrics\n",
    "import sklearn.linear_model as lm\n",
    "from sklearn.linear_model import LogisticRegression\n",
    "import sklearn.tree as tree\n",
    "from sklearn.metrics import accuracy_score\n",
    "import sklearn.neighbors as neighbors\n",
    "import sklearn.naive_bayes as nb\n",
    "import sklearn.svm as svm\n",
    "import sklearn.ensemble as ensemble\n",
    "import xgboost\n",
    "from sklearn.metrics import confusion_matrix\n",
    "from yellowbrick.classifier import ConfusionMatrix\n",
    "from sklearn.neighbors import KNeighborsClassifier\n",
    "from yellowbrick.features import (JointPlotVisualizer,)\n",
    "from sklearn.naive_bayes import GaussianNB\n",
    "from sklearn.svm import SVC\n",
    "from sklearn.ensemble import RandomForestClassifier\n",
    "import xgboost"
   ]
  },
  {
   "cell_type": "markdown",
   "metadata": {},
   "source": [
    "# Creacion de los datos "
   ]
  },
  {
   "cell_type": "code",
   "execution_count": 38,
   "metadata": {},
   "outputs": [
    {
     "name": "stdout",
     "output_type": "stream",
     "text": [
      "   a     b\n",
      "0  0  -100\n",
      "1  1   -50\n",
      "2  2     0\n",
      "3  3   200\n",
      "4  4  1000\n"
     ]
    }
   ],
   "source": [
    "X2 = pd.DataFrame({\n",
    "    \"a\": range(5),\n",
    "    \"b\": [-100, -50, 0, 200, 1000],\n",
    "})\n",
    "print(X2)"
   ]
  },
  {
   "cell_type": "markdown",
   "metadata": {},
   "source": [
    "# Estandarizar"
   ]
  },
  {
   "cell_type": "markdown",
   "metadata": {},
   "source": [
    "Algunos algoritmos, como SVM, funcionan mejor cuando los datos\n",
    "está estandarizado. Cada columna debe tener un valor medio de 0.\n",
    "y desviación estándar de 1. Sklearn proporciona un .fit_transform\n",
    "método que combina .fit y .transform:"
   ]
  },
  {
   "cell_type": "markdown",
   "metadata": {},
   "source": [
    "El código utiliza la clase `StandardScaler` de la biblioteca `scikit-learn` (`sklearn`) para realizar el escalado estándar (también conocido como normalización z-score) en los datos contenidos en el DataFrame `X2`. Aquí tienes una explicación en español:\n",
    "\n",
    "**Creación de la instancia del StandardScaler:**\n",
    "- `std = preprocessing.StandardScaler()` crea un objeto `StandardScaler` que se utilizará para realizar el escalado estándar.\n",
    "\n",
    "**Ajuste y transformación de los datos:**\n",
    "- `std.fit_transform(X2)` ajusta el escalador a los datos en `X2` y luego transforma esos datos, es decir, realiza el escalado estándar. El resultado escalado se almacena en `X2_scaled`.\n",
    "\n",
    "Después de este proceso, `X2_scaled` contendrá los datos de `X2` escalados de acuerdo con la media y la desviación estándar de cada columna, lo que significa que los datos tendrán una media de cero y una desviación estándar de uno. Esto es útil en muchas aplicaciones de aprendizaje automático donde se benefician de tener características con escalas comparables.\n"
   ]
  },
  {
   "cell_type": "code",
   "execution_count": 39,
   "metadata": {},
   "outputs": [
    {
     "data": {
      "text/plain": [
       "array([[-1.41421356, -0.75995002],\n",
       "       [-0.70710678, -0.63737744],\n",
       "       [ 0.        , -0.51480485],\n",
       "       [ 0.70710678, -0.02451452],\n",
       "       [ 1.41421356,  1.93664683]])"
      ]
     },
     "execution_count": 39,
     "metadata": {},
     "output_type": "execute_result"
    }
   ],
   "source": [
    "from sklearn import preprocessing\n",
    "std = preprocessing.StandardScaler()\n",
    "std.fit_transform(X2)"
   ]
  },
  {
   "cell_type": "markdown",
   "metadata": {},
   "source": [
    "`std.scale_` no es un atributo directo de la clase `StandardScaler` en scikit-learn. En cambio, puedes acceder a la desviación estándar utilizada para el escalado estándar a través del atributo `std.scale_` después de ajustar el escalador a los datos.\n",
    "\n",
    "Aquí hay un ejemplo de cómo puedes acceder a la desviación estándar después de ajustar el `StandardScaler`:"
   ]
  },
  {
   "cell_type": "code",
   "execution_count": 40,
   "metadata": {},
   "outputs": [
    {
     "data": {
      "text/plain": [
       "array([  1.41421356, 407.92156109])"
      ]
     },
     "execution_count": 40,
     "metadata": {},
     "output_type": "execute_result"
    }
   ],
   "source": [
    "std.scale_"
   ]
  },
  {
   "cell_type": "code",
   "execution_count": 41,
   "metadata": {},
   "outputs": [
    {
     "data": {
      "text/plain": [
       "array([  2., 210.])"
      ]
     },
     "execution_count": 41,
     "metadata": {},
     "output_type": "execute_result"
    }
   ],
   "source": [
    "std.mean_"
   ]
  },
  {
   "cell_type": "code",
   "execution_count": 42,
   "metadata": {},
   "outputs": [
    {
     "data": {
      "text/plain": [
       "array([2.000e+00, 1.664e+05])"
      ]
     },
     "execution_count": 42,
     "metadata": {},
     "output_type": "execute_result"
    }
   ],
   "source": [
    "std.var_"
   ]
  },
  {
   "cell_type": "markdown",
   "metadata": {},
   "source": [
    "*Estandarizamos toda las columnas solo con los valores de la segunda*"
   ]
  },
  {
   "cell_type": "code",
   "execution_count": 43,
   "metadata": {},
   "outputs": [
    {
     "data": {
      "text/html": [
       "<div>\n",
       "<style scoped>\n",
       "    .dataframe tbody tr th:only-of-type {\n",
       "        vertical-align: middle;\n",
       "    }\n",
       "\n",
       "    .dataframe tbody tr th {\n",
       "        vertical-align: top;\n",
       "    }\n",
       "\n",
       "    .dataframe thead th {\n",
       "        text-align: right;\n",
       "    }\n",
       "</style>\n",
       "<table border=\"1\" class=\"dataframe\">\n",
       "  <thead>\n",
       "    <tr style=\"text-align: right;\">\n",
       "      <th></th>\n",
       "      <th>a</th>\n",
       "      <th>b</th>\n",
       "    </tr>\n",
       "  </thead>\n",
       "  <tbody>\n",
       "    <tr>\n",
       "      <th>0</th>\n",
       "      <td>-1.264911</td>\n",
       "      <td>-0.679720</td>\n",
       "    </tr>\n",
       "    <tr>\n",
       "      <th>1</th>\n",
       "      <td>-0.632456</td>\n",
       "      <td>-0.570088</td>\n",
       "    </tr>\n",
       "    <tr>\n",
       "      <th>2</th>\n",
       "      <td>0.000000</td>\n",
       "      <td>-0.460455</td>\n",
       "    </tr>\n",
       "    <tr>\n",
       "      <th>3</th>\n",
       "      <td>0.632456</td>\n",
       "      <td>-0.021926</td>\n",
       "    </tr>\n",
       "    <tr>\n",
       "      <th>4</th>\n",
       "      <td>1.264911</td>\n",
       "      <td>1.732190</td>\n",
       "    </tr>\n",
       "  </tbody>\n",
       "</table>\n",
       "</div>"
      ],
      "text/plain": [
       "          a         b\n",
       "0 -1.264911 -0.679720\n",
       "1 -0.632456 -0.570088\n",
       "2  0.000000 -0.460455\n",
       "3  0.632456 -0.021926\n",
       "4  1.264911  1.732190"
      ]
     },
     "execution_count": 43,
     "metadata": {},
     "output_type": "execute_result"
    }
   ],
   "source": [
    "X_std = (X2 - X2.mean()) / X2.std()\n",
    "X_std"
   ]
  },
  {
   "cell_type": "code",
   "execution_count": 44,
   "metadata": {},
   "outputs": [
    {
     "data": {
      "text/plain": [
       "a    4.440892e-17\n",
       "b    0.000000e+00\n",
       "dtype: float64"
      ]
     },
     "execution_count": 44,
     "metadata": {},
     "output_type": "execute_result"
    }
   ],
   "source": [
    "X_std.mean()"
   ]
  },
  {
   "cell_type": "code",
   "execution_count": 45,
   "metadata": {},
   "outputs": [
    {
     "data": {
      "text/plain": [
       "a    1.0\n",
       "b    1.0\n",
       "dtype: float64"
      ]
     },
     "execution_count": 45,
     "metadata": {},
     "output_type": "execute_result"
    }
   ],
   "source": [
    "X_std.std()"
   ]
  },
  {
   "cell_type": "markdown",
   "metadata": {},
   "source": [
    "# Scale to Range"
   ]
  },
  {
   "cell_type": "markdown",
   "metadata": {},
   "source": [
    "*Escalar al rango es traducir datos para que estén entre 0 y 1, incluido. Tener los datos vinculados puede resultar útil. Sin embargo, si Si tienes valores atípicos, probablemente quieras tener cuidado al usar esto:*"
   ]
  },
  {
   "cell_type": "code",
   "execution_count": 46,
   "metadata": {},
   "outputs": [
    {
     "data": {
      "text/plain": [
       "array([[0.        , 0.        ],\n",
       "       [0.25      , 0.04545455],\n",
       "       [0.5       , 0.09090909],\n",
       "       [0.75      , 0.27272727],\n",
       "       [1.        , 1.        ]])"
      ]
     },
     "execution_count": 46,
     "metadata": {},
     "output_type": "execute_result"
    }
   ],
   "source": [
    "from sklearn import preprocessing\n",
    "mms = preprocessing.MinMaxScaler()\n",
    "mms.fit(X2)\n",
    "mms.transform(X2)"
   ]
  },
  {
   "cell_type": "markdown",
   "metadata": {},
   "source": [
    "*Para la version de pandas:*"
   ]
  },
  {
   "cell_type": "code",
   "execution_count": 47,
   "metadata": {},
   "outputs": [
    {
     "data": {
      "text/html": [
       "<div>\n",
       "<style scoped>\n",
       "    .dataframe tbody tr th:only-of-type {\n",
       "        vertical-align: middle;\n",
       "    }\n",
       "\n",
       "    .dataframe tbody tr th {\n",
       "        vertical-align: top;\n",
       "    }\n",
       "\n",
       "    .dataframe thead th {\n",
       "        text-align: right;\n",
       "    }\n",
       "</style>\n",
       "<table border=\"1\" class=\"dataframe\">\n",
       "  <thead>\n",
       "    <tr style=\"text-align: right;\">\n",
       "      <th></th>\n",
       "      <th>a</th>\n",
       "      <th>b</th>\n",
       "    </tr>\n",
       "  </thead>\n",
       "  <tbody>\n",
       "    <tr>\n",
       "      <th>0</th>\n",
       "      <td>0.00</td>\n",
       "      <td>0.000000</td>\n",
       "    </tr>\n",
       "    <tr>\n",
       "      <th>1</th>\n",
       "      <td>0.25</td>\n",
       "      <td>0.045455</td>\n",
       "    </tr>\n",
       "    <tr>\n",
       "      <th>2</th>\n",
       "      <td>0.50</td>\n",
       "      <td>0.090909</td>\n",
       "    </tr>\n",
       "    <tr>\n",
       "      <th>3</th>\n",
       "      <td>0.75</td>\n",
       "      <td>0.272727</td>\n",
       "    </tr>\n",
       "    <tr>\n",
       "      <th>4</th>\n",
       "      <td>1.00</td>\n",
       "      <td>1.000000</td>\n",
       "    </tr>\n",
       "  </tbody>\n",
       "</table>\n",
       "</div>"
      ],
      "text/plain": [
       "      a         b\n",
       "0  0.00  0.000000\n",
       "1  0.25  0.045455\n",
       "2  0.50  0.090909\n",
       "3  0.75  0.272727\n",
       "4  1.00  1.000000"
      ]
     },
     "execution_count": 47,
     "metadata": {},
     "output_type": "execute_result"
    }
   ],
   "source": [
    "(X2 - X2.min()) / (X2.max() - X2.min())"
   ]
  },
  {
   "cell_type": "markdown",
   "metadata": {},
   "source": [
    "# \"Dummy\" Variables"
   ]
  },
  {
   "cell_type": "markdown",
   "metadata": {},
   "source": [
    "*Podemos usar pandas para crear variables ficticias a partir de categorías fecha. Esto también se conoce como codificación one-hot o indicador. codificación. Las variables ficticias son especialmente útiles si los datos son nominal (desordenado). La función get_dummies en pandas crea varias columnas para una columna categórica, cada una con un 1 o 0 si la columna original tenía ese valor:*"
   ]
  },
  {
   "cell_type": "code",
   "execution_count": 48,
   "metadata": {},
   "outputs": [
    {
     "name": "stdout",
     "output_type": "stream",
     "text": [
      "     name    inst\n",
      "0  George    Bass\n",
      "1    Paul  Guitar\n"
     ]
    }
   ],
   "source": [
    "X_cat = pd.DataFrame({\"name\": [\"George\", \"Paul\"],\"inst\": [\"Bass\", \"Guitar\"]})\n",
    "print(X_cat)"
   ]
  },
  {
   "cell_type": "markdown",
   "metadata": {},
   "source": [
    "\n",
    "Aquí está la versión pandas. Tenga en cuenta que la opción drop_first puede ser\n",
    "Se utiliza para eliminar una columna (una de las columnas ficticias es una\n",
    "combinación lineal de las otras columnas):"
   ]
  },
  {
   "cell_type": "code",
   "execution_count": 49,
   "metadata": {},
   "outputs": [
    {
     "data": {
      "text/html": [
       "<div>\n",
       "<style scoped>\n",
       "    .dataframe tbody tr th:only-of-type {\n",
       "        vertical-align: middle;\n",
       "    }\n",
       "\n",
       "    .dataframe tbody tr th {\n",
       "        vertical-align: top;\n",
       "    }\n",
       "\n",
       "    .dataframe thead th {\n",
       "        text-align: right;\n",
       "    }\n",
       "</style>\n",
       "<table border=\"1\" class=\"dataframe\">\n",
       "  <thead>\n",
       "    <tr style=\"text-align: right;\">\n",
       "      <th></th>\n",
       "      <th>name_Paul</th>\n",
       "      <th>inst_Guitar</th>\n",
       "    </tr>\n",
       "  </thead>\n",
       "  <tbody>\n",
       "    <tr>\n",
       "      <th>0</th>\n",
       "      <td>False</td>\n",
       "      <td>False</td>\n",
       "    </tr>\n",
       "    <tr>\n",
       "      <th>1</th>\n",
       "      <td>True</td>\n",
       "      <td>True</td>\n",
       "    </tr>\n",
       "  </tbody>\n",
       "</table>\n",
       "</div>"
      ],
      "text/plain": [
       "   name_Paul  inst_Guitar\n",
       "0      False        False\n",
       "1       True         True"
      ]
     },
     "execution_count": 49,
     "metadata": {},
     "output_type": "execute_result"
    }
   ],
   "source": [
    "pd.get_dummies(X_cat, drop_first=True)"
   ]
  },
  {
   "cell_type": "code",
   "execution_count": 50,
   "metadata": {},
   "outputs": [
    {
     "data": {
      "text/html": [
       "<div>\n",
       "<style scoped>\n",
       "    .dataframe tbody tr th:only-of-type {\n",
       "        vertical-align: middle;\n",
       "    }\n",
       "\n",
       "    .dataframe tbody tr th {\n",
       "        vertical-align: top;\n",
       "    }\n",
       "\n",
       "    .dataframe thead th {\n",
       "        text-align: right;\n",
       "    }\n",
       "</style>\n",
       "<table border=\"1\" class=\"dataframe\">\n",
       "  <thead>\n",
       "    <tr style=\"text-align: right;\">\n",
       "      <th></th>\n",
       "      <th>A</th>\n",
       "      <th>names</th>\n",
       "      <th>Fred</th>\n",
       "      <th>George</th>\n",
       "      <th>John</th>\n",
       "      <th>Paul</th>\n",
       "    </tr>\n",
       "  </thead>\n",
       "  <tbody>\n",
       "    <tr>\n",
       "      <th>0</th>\n",
       "      <td>1.0</td>\n",
       "      <td>Fred,George</td>\n",
       "      <td>1</td>\n",
       "      <td>1</td>\n",
       "      <td>0</td>\n",
       "      <td>0</td>\n",
       "    </tr>\n",
       "    <tr>\n",
       "      <th>1</th>\n",
       "      <td>NaN</td>\n",
       "      <td>George</td>\n",
       "      <td>0</td>\n",
       "      <td>1</td>\n",
       "      <td>0</td>\n",
       "      <td>0</td>\n",
       "    </tr>\n",
       "    <tr>\n",
       "      <th>2</th>\n",
       "      <td>3.0</td>\n",
       "      <td>John,Paul</td>\n",
       "      <td>0</td>\n",
       "      <td>0</td>\n",
       "      <td>1</td>\n",
       "      <td>1</td>\n",
       "    </tr>\n",
       "  </tbody>\n",
       "</table>\n",
       "</div>"
      ],
      "text/plain": [
       "     A        names  Fred  George  John  Paul\n",
       "0  1.0  Fred,George     1       1     0     0\n",
       "1  NaN       George     0       1     0     0\n",
       "2  3.0    John,Paul     0       0     1     1"
      ]
     },
     "execution_count": 50,
     "metadata": {},
     "output_type": "execute_result"
    }
   ],
   "source": [
    "import janitor as jn\n",
    "\n",
    "X_cat2 = pd.DataFrame({\n",
    "    \"A\": [1, None, 3],\n",
    "    \"names\": [\"Fred,George\", \"George\", \"John,Paul\"],\n",
    "})\n",
    "\n",
    "jn.expand_column(X_cat2, \"names\", sep=\",\")\n"
   ]
  },
  {
   "cell_type": "markdown",
   "metadata": {},
   "source": [
    "# Codificador de etiquetas"
   ]
  },
  {
   "cell_type": "markdown",
   "metadata": {},
   "source": [
    "Una alternativa a la variable de codificación ficticia es la codificación de etiquetas.\n",
    "Esto tomará datos categóricos y asignará a cada valor un número.\n",
    "Es útil para datos de alta cardinalidad. Este codificador impone ordinalidad,\n",
    "que puede ser deseable o no. Puede ocupar menos\n",
    "espacio que la codificación one-hot, y algunos algoritmos (de árbol) pueden\n",
    "lidiar con esta codificación.\n",
    "El codificador de etiquetas solo puede procesar una columna a la vez:"
   ]
  },
  {
   "cell_type": "code",
   "execution_count": 51,
   "metadata": {},
   "outputs": [
    {
     "name": "stdout",
     "output_type": "stream",
     "text": [
      "     name    inst\n",
      "0  George    Bass\n",
      "1    Paul  Guitar\n",
      "   name  inst\n",
      "0     0     0\n",
      "1     1     1\n"
     ]
    }
   ],
   "source": [
    "from sklearn import preprocessing\n",
    "import pandas as pd\n",
    "\n",
    "X_cat = pd.DataFrame({\"name\": [\"George\", \"Paul\"],\"inst\": [\"Bass\", \"Guitar\"]})\n",
    "print(X_cat)\n",
    "\n",
    "lab = preprocessing.LabelEncoder()\n",
    "\n",
    "# Apply LabelEncoder to each column\n",
    "X_cat[\"name\"] = lab.fit_transform(X_cat[\"name\"])\n",
    "X_cat[\"inst\"] = lab.fit_transform(X_cat[\"inst\"])\n",
    "\n",
    "print(X_cat)\n",
    "\n"
   ]
  },
  {
   "cell_type": "markdown",
   "metadata": {},
   "source": [
    "*Este código creará una nueva serie de datos numéricos de un panda serie. Usamos el método .as_ordered para asegurar que el La categoría está ordenada:*"
   ]
  },
  {
   "cell_type": "code",
   "execution_count": 52,
   "metadata": {},
   "outputs": [
    {
     "data": {
      "text/plain": [
       "array(['Guitar', 'Guitar', 'Bass'], dtype=object)"
      ]
     },
     "execution_count": 52,
     "metadata": {},
     "output_type": "execute_result"
    }
   ],
   "source": [
    "lab.inverse_transform([1, 1, 0])"
   ]
  },
  {
   "cell_type": "markdown",
   "metadata": {},
   "source": [
    "También puedes usar pandas para etiquetar la codificación. Primero, conviertes el\n",
    "columna a un tipo de columna categórica y luego extraiga la\n",
    "código numérico del mismo.\n",
    "Este código creará una nueva serie de datos numéricos de un panda.\n",
    "serie. Usamos el método .as_ordered para asegurar que el\n",
    "La categoría está ordenada:"
   ]
  },
  {
   "cell_type": "code",
   "execution_count": 53,
   "metadata": {},
   "outputs": [
    {
     "data": {
      "text/plain": [
       "0    1\n",
       "1    2\n",
       "dtype: int8"
      ]
     },
     "execution_count": 53,
     "metadata": {},
     "output_type": "execute_result"
    }
   ],
   "source": [
    "X_cat.name.astype(\"category\").cat.as_ordered().cat.codes +1"
   ]
  },
  {
   "cell_type": "markdown",
   "metadata": {},
   "source": [
    "# Frequency Encoding"
   ]
  },
  {
   "cell_type": "markdown",
   "metadata": {},
   "source": [
    "Otra opción para manejar datos categóricos de alta cardinalidad es\n",
    "para codificarlo en frecuencia. Esto significa reemplazar el nombre del\n",
    "categoría con el recuento que tenía en los datos de entrenamiento. Usaremos\n",
    "pandas para hacer esto. Primero, usaremos pandas .value_counts\n",
    "método para hacer un mapeo (una serie de pandas que mapea cadenas\n",
    "para contar). Con el mapeo podemos usar el método .map para\n",
    "de la codificación:"
   ]
  },
  {
   "cell_type": "code",
   "execution_count": 54,
   "metadata": {},
   "outputs": [
    {
     "name": "stdout",
     "output_type": "stream",
     "text": [
      "name\n",
      "0    1\n",
      "1    1\n",
      "Name: count, dtype: int64\n"
     ]
    }
   ],
   "source": [
    "mapping = X_cat.name.value_counts()\n",
    "print(mapping)"
   ]
  },
  {
   "cell_type": "markdown",
   "metadata": {},
   "source": [
    "# Pulling Categories from Strings"
   ]
  },
  {
   "cell_type": "markdown",
   "metadata": {},
   "source": [
    "Una forma de aumentar la precisión del modelo del Titanic es tirar\n",
    "sacar títulos de los nombres. Un truco rápido para encontrar los más comunes.\n",
    "triples es usar la clase Counter:"
   ]
  },
  {
   "cell_type": "markdown",
   "metadata": {},
   "source": [
    "Usando estas manipulaciones y pandas, puedes crear muñecos\n",
    "variables o combinar columnas con recuentos bajos en otras categorías\n",
    "(o dejarlos)"
   ]
  },
  {
   "cell_type": "code",
   "execution_count": 55,
   "metadata": {},
   "outputs": [],
   "source": [
    "from collections import Counter\n",
    "\n",
    "# Importacion de los datos del titanic \n",
    "# Ruta completa al archivo CSV\n",
    "file_path = 'C:/Users/felip/OneDrive/Documentos/Python/Codigos/Ciencia_Datos/Datos_titanic_CSV/titanic3.csv'\n",
    "# Importar la base de datos\n",
    "df = pd.read_csv(file_path)\n",
    "X= df\n",
    "c = Counter()\n",
    "def triples(val):\n",
    "    for i in range(len(val)):\n",
    "        c[val[i : i + 3]] += 1"
   ]
  },
  {
   "cell_type": "markdown",
   "metadata": {},
   "source": [
    "La función apply en pandas se utiliza para aplicar una función a lo largo de un eje del DataFrame"
   ]
  },
  {
   "cell_type": "code",
   "execution_count": 56,
   "metadata": {},
   "outputs": [
    {
     "data": {
      "text/plain": [
       "0       None\n",
       "1       None\n",
       "2       None\n",
       "3       None\n",
       "4       None\n",
       "        ... \n",
       "1304    None\n",
       "1305    None\n",
       "1306    None\n",
       "1307    None\n",
       "1308    None\n",
       "Name: name, Length: 1309, dtype: object"
      ]
     },
     "execution_count": 56,
     "metadata": {},
     "output_type": "execute_result"
    }
   ],
   "source": [
    "X.name.apply(triples)"
   ]
  },
  {
   "cell_type": "code",
   "execution_count": 57,
   "metadata": {},
   "outputs": [
    {
     "data": {
      "text/plain": [
       "[(', M', 1282),\n",
       " (' Mr', 954),\n",
       " ('r. ', 830),\n",
       " ('Mr.', 757),\n",
       " ('s. ', 460),\n",
       " ('n, ', 320),\n",
       " (' Mi', 283),\n",
       " ('iss', 261),\n",
       " ('ss.', 261),\n",
       " ('Mis', 260)]"
      ]
     },
     "execution_count": 57,
     "metadata": {},
     "output_type": "execute_result"
    }
   ],
   "source": [
    "c.most_common(10)"
   ]
  },
  {
   "cell_type": "code",
   "execution_count": 58,
   "metadata": {},
   "outputs": [
    {
     "name": "stderr",
     "output_type": "stream",
     "text": [
      "<>:1: DeprecationWarning: invalid escape sequence '\\.'\n",
      "<>:1: DeprecationWarning: invalid escape sequence '\\.'\n",
      "C:\\Users\\felip\\AppData\\Local\\Temp\\ipykernel_19608\\1228772012.py:1: DeprecationWarning: invalid escape sequence '\\.'\n",
      "  df.name.str.extract(\"([A-Za-z]+)\\.\", expand=False).head()\n"
     ]
    },
    {
     "data": {
      "text/plain": [
       "0      Miss\n",
       "1    Master\n",
       "2      Miss\n",
       "3        Mr\n",
       "4       Mrs\n",
       "Name: name, dtype: object"
      ]
     },
     "execution_count": 58,
     "metadata": {},
     "output_type": "execute_result"
    }
   ],
   "source": [
    "df.name.str.extract(\"([A-Za-z]+)\\.\", expand=False).head()"
   ]
  },
  {
   "cell_type": "code",
   "execution_count": 59,
   "metadata": {},
   "outputs": [
    {
     "name": "stderr",
     "output_type": "stream",
     "text": [
      "<>:1: DeprecationWarning: invalid escape sequence '\\.'\n",
      "<>:1: DeprecationWarning: invalid escape sequence '\\.'\n",
      "C:\\Users\\felip\\AppData\\Local\\Temp\\ipykernel_19608\\2743877583.py:1: DeprecationWarning: invalid escape sequence '\\.'\n",
      "  df.name.str.extract(\"([A-Za-z]+)\\.\", expand=False).value_counts()\n"
     ]
    },
    {
     "data": {
      "text/plain": [
       "name\n",
       "Mr          757\n",
       "Miss        260\n",
       "Mrs         197\n",
       "Master       61\n",
       "Rev           8\n",
       "Dr            8\n",
       "Col           4\n",
       "Mlle          2\n",
       "Ms            2\n",
       "Major         2\n",
       "Capt          1\n",
       "Sir           1\n",
       "Dona          1\n",
       "Jonkheer      1\n",
       "Countess      1\n",
       "Don           1\n",
       "Mme           1\n",
       "Lady          1\n",
       "Name: count, dtype: int64"
      ]
     },
     "execution_count": 59,
     "metadata": {},
     "output_type": "execute_result"
    }
   ],
   "source": [
    "df.name.str.extract(\"([A-Za-z]+)\\.\", expand=False).value_counts()"
   ]
  },
  {
   "cell_type": "markdown",
   "metadata": {},
   "source": [
    "# Other Categorical Encoding"
   ]
  },
  {
   "cell_type": "markdown",
   "metadata": {},
   "source": [
    "La biblioteca categorical_encoding es un conjunto de transformadores scikit-learn Se utiliza para convertir datos categóricos en datos numéricos. A Una característica interesante de esta biblioteca es que admite la salida de pandas. DataFrames (a diferencia de scikit-learn, que los transforma en numerosas matrices).Un algoritmo implementado en la biblioteca es un codificador hash.Esto es útil si no sabes cuántas categorías tienes.con anticipación o si estás usando una bolsa de palabras para representar texto. Esto dividirá las columnas categóricas en n_components. Si está utilizando el aprendizaje en línea (modelos que se pueden actualizar),Esto puede ser muy útil:"
   ]
  },
  {
   "cell_type": "code",
   "execution_count": 60,
   "metadata": {},
   "outputs": [
    {
     "data": {
      "text/html": [
       "<div>\n",
       "<style scoped>\n",
       "    .dataframe tbody tr th:only-of-type {\n",
       "        vertical-align: middle;\n",
       "    }\n",
       "\n",
       "    .dataframe tbody tr th {\n",
       "        vertical-align: top;\n",
       "    }\n",
       "\n",
       "    .dataframe thead th {\n",
       "        text-align: right;\n",
       "    }\n",
       "</style>\n",
       "<table border=\"1\" class=\"dataframe\">\n",
       "  <thead>\n",
       "    <tr style=\"text-align: right;\">\n",
       "      <th></th>\n",
       "      <th>col_0</th>\n",
       "      <th>col_1</th>\n",
       "      <th>col_2</th>\n",
       "      <th>col_3</th>\n",
       "      <th>col_4</th>\n",
       "      <th>col_5</th>\n",
       "      <th>col_6</th>\n",
       "      <th>col_7</th>\n",
       "    </tr>\n",
       "  </thead>\n",
       "  <tbody>\n",
       "    <tr>\n",
       "      <th>0</th>\n",
       "      <td>0</td>\n",
       "      <td>0</td>\n",
       "      <td>0</td>\n",
       "      <td>1</td>\n",
       "      <td>0</td>\n",
       "      <td>1</td>\n",
       "      <td>0</td>\n",
       "      <td>0</td>\n",
       "    </tr>\n",
       "    <tr>\n",
       "      <th>1</th>\n",
       "      <td>0</td>\n",
       "      <td>2</td>\n",
       "      <td>0</td>\n",
       "      <td>0</td>\n",
       "      <td>0</td>\n",
       "      <td>0</td>\n",
       "      <td>0</td>\n",
       "      <td>0</td>\n",
       "    </tr>\n",
       "  </tbody>\n",
       "</table>\n",
       "</div>"
      ],
      "text/plain": [
       "   col_0  col_1  col_2  col_3  col_4  col_5  col_6  col_7\n",
       "0      0      0      0      1      0      1      0      0\n",
       "1      0      2      0      0      0      0      0      0"
      ]
     },
     "execution_count": 60,
     "metadata": {},
     "output_type": "execute_result"
    }
   ],
   "source": [
    "import category_encoders as ce\n",
    "X_cat = pd.DataFrame({\"name\": [\"George\", \"Paul\"],\"inst\": [\"Bass\", \"Guitar\"]})\n",
    "he = ce.HashingEncoder(verbose=1)\n",
    "he.fit_transform(X_cat)"
   ]
  },
  {
   "cell_type": "code",
   "execution_count": 61,
   "metadata": {},
   "outputs": [
    {
     "name": "stdout",
     "output_type": "stream",
     "text": [
      "   name   size\n",
      "0  Fred  small\n",
      "1  John    med\n",
      "2  Matt    xxl\n"
     ]
    }
   ],
   "source": [
    "size_df = pd.DataFrame(\n",
    "    {\n",
    "        \"name\": [\"Fred\", \"John\", \"Matt\"], \n",
    "        \"size\": [\"small\", \"med\", \"xxl\"],   \n",
    "    }\n",
    ")\n",
    "print(size_df)\n"
   ]
  },
  {
   "cell_type": "code",
   "execution_count": 62,
   "metadata": {},
   "outputs": [],
   "source": [
    "import category_encoders as ce  # Importa la biblioteca category_encoders y la aliasa como ce\n",
    "\n",
    "# Crea un objeto OrdinalEncoder llamado ore\n",
    "ore = ce.OrdinalEncoder(\n",
    "    mapping=[\n",
    "        {\n",
    "            \"col\": \"size\",  # Especifica la columna a codificar\n",
    "            \"mapping\": {\n",
    "                \"small\": 1,  # Mapea la categoría \"small\" al valor 1\n",
    "                \"med\": 2,    # Mapea la categoría \"med\" al valor 2\n",
    "                \"lg\": 3,     # Mapea la categoría \"lg\" al valor 3\n",
    "            },\n",
    "        }\n",
    "    ]\n",
    ")\n"
   ]
  },
  {
   "cell_type": "code",
   "execution_count": 63,
   "metadata": {},
   "outputs": [
    {
     "data": {
      "text/html": [
       "<div>\n",
       "<style scoped>\n",
       "    .dataframe tbody tr th:only-of-type {\n",
       "        vertical-align: middle;\n",
       "    }\n",
       "\n",
       "    .dataframe tbody tr th {\n",
       "        vertical-align: top;\n",
       "    }\n",
       "\n",
       "    .dataframe thead th {\n",
       "        text-align: right;\n",
       "    }\n",
       "</style>\n",
       "<table border=\"1\" class=\"dataframe\">\n",
       "  <thead>\n",
       "    <tr style=\"text-align: right;\">\n",
       "      <th></th>\n",
       "      <th>name</th>\n",
       "      <th>size</th>\n",
       "    </tr>\n",
       "  </thead>\n",
       "  <tbody>\n",
       "    <tr>\n",
       "      <th>0</th>\n",
       "      <td>Fred</td>\n",
       "      <td>1.0</td>\n",
       "    </tr>\n",
       "    <tr>\n",
       "      <th>1</th>\n",
       "      <td>John</td>\n",
       "      <td>2.0</td>\n",
       "    </tr>\n",
       "    <tr>\n",
       "      <th>2</th>\n",
       "      <td>Matt</td>\n",
       "      <td>-1.0</td>\n",
       "    </tr>\n",
       "  </tbody>\n",
       "</table>\n",
       "</div>"
      ],
      "text/plain": [
       "   name  size\n",
       "0  Fred   1.0\n",
       "1  John   2.0\n",
       "2  Matt  -1.0"
      ]
     },
     "execution_count": 63,
     "metadata": {},
     "output_type": "execute_result"
    }
   ],
   "source": [
    "ore.fit_transform(size_df)"
   ]
  },
  {
   "cell_type": "markdown",
   "metadata": {},
   "source": [
    "Esta referencia explica muchos de los algoritmos del categórico_\n",
    "biblioteca de codificación.\n",
    "Si tiene datos de alta cardinalidad (una gran cantidad de valores únicos)\n",
    "considere usar uno de los codificadores bayesianos que generan un\n",
    "una sola columna por columna categórica. Estos son TargetEn\n",
    "codificador, LeaveOneOutEncoder, WOEEncoder, JamesSteinEncoder,\n",
    "y MEestimateEncoder.\n",
    "Por ejemplo, para convertir la columna de supervivencia del Titanic en una mezcla\n",
    "de la probabilidad posterior del objetivo y la probabilidad previa\n",
    "Dada la información del título (categórica), utilice el siguiente código:"
   ]
  },
  {
   "cell_type": "code",
   "execution_count": 67,
   "metadata": {},
   "outputs": [
    {
     "name": "stdout",
     "output_type": "stream",
     "text": [
      "0    0.710036\n",
      "1    0.579928\n",
      "2    0.710036\n",
      "Name: Title, dtype: float64\n"
     ]
    }
   ],
   "source": [
    "import category_encoders as ce\n",
    "import pandas as pd\n",
    "\n",
    "def get_title(df):\n",
    "    return df.name.str.extract(\"([A-Za-z]+)\\\\.\", expand=False)\n",
    "\n",
    "# Supongamos que df es tu DataFrame\n",
    "df = pd.DataFrame({\n",
    "    \"name\": [\"Mr. Smith\", \"Miss Johnson\", \"Dr. Brown\"],\n",
    "    \"survived\": [1, 0, 1]\n",
    "})\n",
    "\n",
    "te = ce.TargetEncoder(cols=\"Title\")\n",
    "result = te.fit_transform(df.assign(Title=get_title), df.survived)[\"Title\"].head()\n",
    "\n",
    "print(result)\n"
   ]
  },
  {
   "cell_type": "markdown",
   "metadata": {},
   "source": [
    "# Date Feature Engineering"
   ]
  },
  {
   "cell_type": "markdown",
   "metadata": {},
   "source": [
    "La biblioteca fastai tiene una función add_datepart que generará\n",
    "columnas de atributos de fecha basadas en una columna de fecha y hora. Esto es\n",
    "útil ya que la mayoría de los algoritmos de aprendizaje automático no podrían\n",
    "inferir este tipo de señal a partir de una representación numérica de un\n",
    "fecha:"
   ]
  },
  {
   "cell_type": "code",
   "execution_count": 79,
   "metadata": {},
   "outputs": [
    {
     "name": "stdout",
     "output_type": "stream",
     "text": [
      "   fechaYear  fechaMonth  fechaWeek  fechaDay  fechaDayofweek  fechaDayofyear  \\\n",
      "0       2022           1         52         1               5               1   \n",
      "1       2022           2          5         1               1              32   \n",
      "2       2022           3          9         1               1              60   \n",
      "\n",
      "   fechaIs_month_end  fechaIs_month_start  fechaIs_quarter_end  \\\n",
      "0              False                 True                False   \n",
      "1              False                 True                False   \n",
      "2              False                 True                False   \n",
      "\n",
      "   fechaIs_quarter_start  fechaIs_year_end  fechaIs_year_start  fechaElapsed  \n",
      "0                   True             False                True  1.640995e+09  \n",
      "1                  False             False               False  1.643674e+09  \n",
      "2                  False             False               False  1.646093e+09  \n"
     ]
    }
   ],
   "source": [
    "from fastai.tabular.all import add_datepart\n",
    "import pandas as pd\n",
    "\n",
    "# Crear un DataFrame de ejemplo con una columna de fecha\n",
    "df = pd.DataFrame({\n",
    "    \"fecha\": pd.to_datetime([\"2022-01-01\", \"2022-02-01\", \"2022-03-01\"])\n",
    "})\n",
    "\n",
    "# Aplicar add_datepart para agregar características de la fecha\n",
    "add_datepart(df, \"fecha\")\n",
    "\n",
    "# Mostrar el DataFrame resultante\n",
    "print(df)"
   ]
  },
  {
   "cell_type": "code",
   "execution_count": 80,
   "metadata": {},
   "outputs": [
    {
     "data": {
      "text/html": [
       "<div>\n",
       "<style scoped>\n",
       "    .dataframe tbody tr th:only-of-type {\n",
       "        vertical-align: middle;\n",
       "    }\n",
       "\n",
       "    .dataframe tbody tr th {\n",
       "        vertical-align: top;\n",
       "    }\n",
       "\n",
       "    .dataframe thead th {\n",
       "        text-align: right;\n",
       "    }\n",
       "</style>\n",
       "<table border=\"1\" class=\"dataframe\">\n",
       "  <thead>\n",
       "    <tr style=\"text-align: right;\">\n",
       "      <th></th>\n",
       "      <th>0</th>\n",
       "      <th>1</th>\n",
       "      <th>2</th>\n",
       "    </tr>\n",
       "  </thead>\n",
       "  <tbody>\n",
       "    <tr>\n",
       "      <th>fechaYear</th>\n",
       "      <td>2022</td>\n",
       "      <td>2022</td>\n",
       "      <td>2022</td>\n",
       "    </tr>\n",
       "    <tr>\n",
       "      <th>fechaMonth</th>\n",
       "      <td>1</td>\n",
       "      <td>2</td>\n",
       "      <td>3</td>\n",
       "    </tr>\n",
       "    <tr>\n",
       "      <th>fechaWeek</th>\n",
       "      <td>52</td>\n",
       "      <td>5</td>\n",
       "      <td>9</td>\n",
       "    </tr>\n",
       "    <tr>\n",
       "      <th>fechaDay</th>\n",
       "      <td>1</td>\n",
       "      <td>1</td>\n",
       "      <td>1</td>\n",
       "    </tr>\n",
       "    <tr>\n",
       "      <th>fechaDayofweek</th>\n",
       "      <td>5</td>\n",
       "      <td>1</td>\n",
       "      <td>1</td>\n",
       "    </tr>\n",
       "    <tr>\n",
       "      <th>fechaDayofyear</th>\n",
       "      <td>1</td>\n",
       "      <td>32</td>\n",
       "      <td>60</td>\n",
       "    </tr>\n",
       "    <tr>\n",
       "      <th>fechaIs_month_end</th>\n",
       "      <td>False</td>\n",
       "      <td>False</td>\n",
       "      <td>False</td>\n",
       "    </tr>\n",
       "    <tr>\n",
       "      <th>fechaIs_month_start</th>\n",
       "      <td>True</td>\n",
       "      <td>True</td>\n",
       "      <td>True</td>\n",
       "    </tr>\n",
       "    <tr>\n",
       "      <th>fechaIs_quarter_end</th>\n",
       "      <td>False</td>\n",
       "      <td>False</td>\n",
       "      <td>False</td>\n",
       "    </tr>\n",
       "    <tr>\n",
       "      <th>fechaIs_quarter_start</th>\n",
       "      <td>True</td>\n",
       "      <td>False</td>\n",
       "      <td>False</td>\n",
       "    </tr>\n",
       "    <tr>\n",
       "      <th>fechaIs_year_end</th>\n",
       "      <td>False</td>\n",
       "      <td>False</td>\n",
       "      <td>False</td>\n",
       "    </tr>\n",
       "    <tr>\n",
       "      <th>fechaIs_year_start</th>\n",
       "      <td>True</td>\n",
       "      <td>False</td>\n",
       "      <td>False</td>\n",
       "    </tr>\n",
       "    <tr>\n",
       "      <th>fechaElapsed</th>\n",
       "      <td>1640995200.0</td>\n",
       "      <td>1643673600.0</td>\n",
       "      <td>1646092800.0</td>\n",
       "    </tr>\n",
       "  </tbody>\n",
       "</table>\n",
       "</div>"
      ],
      "text/plain": [
       "                                  0             1             2\n",
       "fechaYear                      2022          2022          2022\n",
       "fechaMonth                        1             2             3\n",
       "fechaWeek                        52             5             9\n",
       "fechaDay                          1             1             1\n",
       "fechaDayofweek                    5             1             1\n",
       "fechaDayofyear                    1            32            60\n",
       "fechaIs_month_end             False         False         False\n",
       "fechaIs_month_start            True          True          True\n",
       "fechaIs_quarter_end           False         False         False\n",
       "fechaIs_quarter_start          True         False         False\n",
       "fechaIs_year_end              False         False         False\n",
       "fechaIs_year_start             True         False         False\n",
       "fechaElapsed           1640995200.0  1643673600.0  1646092800.0"
      ]
     },
     "execution_count": 80,
     "metadata": {},
     "output_type": "execute_result"
    }
   ],
   "source": [
    "df.T"
   ]
  },
  {
   "cell_type": "markdown",
   "metadata": {},
   "source": [
    "# Add col_na Feature"
   ]
  },
  {
   "cell_type": "markdown",
   "metadata": {},
   "source": [
    "La biblioteca fastai solía tener una función para crear una columna.\n",
    "para completar un valor faltante (con la mediana) e indicar que un\n",
    "faltaba valor. Puede haber alguna señal al saber que\n",
    "faltaba un valor. Aquí hay una copia de la función y una\n",
    "ejemplo usándolo"
   ]
  },
  {
   "cell_type": "code",
   "execution_count": 81,
   "metadata": {},
   "outputs": [],
   "source": [
    "from pandas.api.types import is_numeric_dtype"
   ]
  },
  {
   "cell_type": "code",
   "execution_count": 82,
   "metadata": {},
   "outputs": [],
   "source": [
    "def fix_missing(df, col, name, na_dict):\n",
    "    if is_numeric_dtype(col):\n",
    "        if pd.isnull(col).sum() or (\n",
    "            name in na_dict\n",
    "        ):\n",
    "            df[name + \"_na\"] = pd.isnull(col)\n",
    "            filler = (\n",
    "                na_dict[name]\n",
    "                if name in na_dict\n",
    "                else col.median()\n",
    "            )\n",
    "            df[name] = col.fillna(filler)\n",
    "            na_dict[name] = filler\n",
    "            \n",
    "    return na_dict\n"
   ]
  },
  {
   "cell_type": "code",
   "execution_count": 83,
   "metadata": {},
   "outputs": [],
   "source": [
    "data = pd.DataFrame({\"A\": [0, None, 5, 100]})"
   ]
  },
  {
   "cell_type": "code",
   "execution_count": 84,
   "metadata": {},
   "outputs": [
    {
     "data": {
      "text/plain": [
       "{'A': 5.0}"
      ]
     },
     "execution_count": 84,
     "metadata": {},
     "output_type": "execute_result"
    }
   ],
   "source": [
    "fix_missing(data, data.A, \"A\", {})"
   ]
  },
  {
   "cell_type": "code",
   "execution_count": 85,
   "metadata": {},
   "outputs": [
    {
     "data": {
      "text/html": [
       "<div>\n",
       "<style scoped>\n",
       "    .dataframe tbody tr th:only-of-type {\n",
       "        vertical-align: middle;\n",
       "    }\n",
       "\n",
       "    .dataframe tbody tr th {\n",
       "        vertical-align: top;\n",
       "    }\n",
       "\n",
       "    .dataframe thead th {\n",
       "        text-align: right;\n",
       "    }\n",
       "</style>\n",
       "<table border=\"1\" class=\"dataframe\">\n",
       "  <thead>\n",
       "    <tr style=\"text-align: right;\">\n",
       "      <th></th>\n",
       "      <th>A</th>\n",
       "      <th>A_na</th>\n",
       "    </tr>\n",
       "  </thead>\n",
       "  <tbody>\n",
       "    <tr>\n",
       "      <th>0</th>\n",
       "      <td>0.0</td>\n",
       "      <td>False</td>\n",
       "    </tr>\n",
       "    <tr>\n",
       "      <th>1</th>\n",
       "      <td>5.0</td>\n",
       "      <td>True</td>\n",
       "    </tr>\n",
       "    <tr>\n",
       "      <th>2</th>\n",
       "      <td>5.0</td>\n",
       "      <td>False</td>\n",
       "    </tr>\n",
       "    <tr>\n",
       "      <th>3</th>\n",
       "      <td>100.0</td>\n",
       "      <td>False</td>\n",
       "    </tr>\n",
       "  </tbody>\n",
       "</table>\n",
       "</div>"
      ],
      "text/plain": [
       "       A   A_na\n",
       "0    0.0  False\n",
       "1    5.0   True\n",
       "2    5.0  False\n",
       "3  100.0  False"
      ]
     },
     "execution_count": 85,
     "metadata": {},
     "output_type": "execute_result"
    }
   ],
   "source": [
    "data"
   ]
  },
  {
   "cell_type": "code",
   "execution_count": 86,
   "metadata": {},
   "outputs": [],
   "source": [
    "data = pd.DataFrame({\"A\": [0, None, 5, 100]})\n",
    "data[\"A_na\"] = data.A.isnull()\n",
    "data[\"A\"] = data.A.fillna(data.A.median())"
   ]
  },
  {
   "cell_type": "code",
   "execution_count": 87,
   "metadata": {},
   "outputs": [
    {
     "data": {
      "text/html": [
       "<div>\n",
       "<style scoped>\n",
       "    .dataframe tbody tr th:only-of-type {\n",
       "        vertical-align: middle;\n",
       "    }\n",
       "\n",
       "    .dataframe tbody tr th {\n",
       "        vertical-align: top;\n",
       "    }\n",
       "\n",
       "    .dataframe thead th {\n",
       "        text-align: right;\n",
       "    }\n",
       "</style>\n",
       "<table border=\"1\" class=\"dataframe\">\n",
       "  <thead>\n",
       "    <tr style=\"text-align: right;\">\n",
       "      <th></th>\n",
       "      <th>A</th>\n",
       "      <th>A_na</th>\n",
       "    </tr>\n",
       "  </thead>\n",
       "  <tbody>\n",
       "    <tr>\n",
       "      <th>0</th>\n",
       "      <td>0.0</td>\n",
       "      <td>False</td>\n",
       "    </tr>\n",
       "    <tr>\n",
       "      <th>1</th>\n",
       "      <td>5.0</td>\n",
       "      <td>True</td>\n",
       "    </tr>\n",
       "    <tr>\n",
       "      <th>2</th>\n",
       "      <td>5.0</td>\n",
       "      <td>False</td>\n",
       "    </tr>\n",
       "    <tr>\n",
       "      <th>3</th>\n",
       "      <td>100.0</td>\n",
       "      <td>False</td>\n",
       "    </tr>\n",
       "  </tbody>\n",
       "</table>\n",
       "</div>"
      ],
      "text/plain": [
       "       A   A_na\n",
       "0    0.0  False\n",
       "1    5.0   True\n",
       "2    5.0  False\n",
       "3  100.0  False"
      ]
     },
     "execution_count": 87,
     "metadata": {},
     "output_type": "execute_result"
    }
   ],
   "source": [
    "data"
   ]
  },
  {
   "cell_type": "markdown",
   "metadata": {},
   "source": [
    "# Manual Feature Engineering"
   ]
  },
  {
   "cell_type": "markdown",
   "metadata": {},
   "source": []
  },
  {
   "cell_type": "code",
   "execution_count": null,
   "metadata": {},
   "outputs": [],
   "source": []
  }
 ],
 "metadata": {
  "kernelspec": {
   "display_name": "datos",
   "language": "python",
   "name": "python3"
  },
  "language_info": {
   "codemirror_mode": {
    "name": "ipython",
    "version": 3
   },
   "file_extension": ".py",
   "mimetype": "text/x-python",
   "name": "python",
   "nbconvert_exporter": "python",
   "pygments_lexer": "ipython3",
   "version": "3.11.4"
  }
 },
 "nbformat": 4,
 "nbformat_minor": 2
}
