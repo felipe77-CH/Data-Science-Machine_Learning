{
 "cells": [
  {
   "cell_type": "markdown",
   "metadata": {},
   "source": [
    "Capitulo 3: Tutorial de clasificación-Conjunto de datos del Titanic\n",
    "========"
   ]
  },
  {
   "cell_type": "markdown",
   "metadata": {},
   "source": [
    "# Importacion de las bibliotecas a utilizar "
   ]
  },
  {
   "cell_type": "code",
   "execution_count": 41,
   "metadata": {},
   "outputs": [],
   "source": [
    "import numpy as np\n",
    "import pandas as pd\n",
    "import matplotlib.pyplot as plt\n",
    "import sweetviz as sv\n",
    "import pickle\n",
    "from itertools import zip_longest\n",
    "from tabulate import tabulate\n",
    "import pdfkit\n",
    "from itertools import zip_longest\n",
    "from sklearn.tree import DecisionTreeClassifier\n",
    "from sklearn import model_selection\n",
    "from sklearn.model_selection import train_test_split\n",
    "from sklearn.metrics import confusion_matrix\n",
    "from sklearn.metrics import roc_auc_score\n",
    "from sklearn.model_selection import KFold, cross_val_score  \n",
    "from sklearn.experimental import enable_iterative_imputer\n",
    "from sklearn import impute\n",
    "from sklearn.ensemble import RandomForestClassifier\n",
    "from sklearn import preprocessing\n",
    "from sklearn.dummy import DummyClassifier\n",
    "from sklearn import metrics\n",
    "import sklearn.linear_model as lm\n",
    "from sklearn.linear_model import LogisticRegression\n",
    "import sklearn.tree as tree\n",
    "from sklearn.metrics import accuracy_score\n",
    "import sklearn.neighbors as neighbors\n",
    "import sklearn.naive_bayes as nb\n",
    "import sklearn.svm as svm\n",
    "import sklearn.ensemble as ensemble\n",
    "import xgboost\n",
    "from sklearn.metrics import confusion_matrix\n",
    "from yellowbrick.classifier import ConfusionMatrix\n",
    "from sklearn.neighbors import KNeighborsClassifier\n",
    "from sklearn.naive_bayes import GaussianNB\n",
    "from sklearn.svm import SVC\n",
    "from sklearn.ensemble import RandomForestClassifier\n",
    "import xgboost\n"
   ]
  },
  {
   "cell_type": "markdown",
   "metadata": {},
   "source": [
    "# Importacion de los datos"
   ]
  },
  {
   "cell_type": "markdown",
   "metadata": {},
   "source": [
    "*La importacion de los datos parten del archivo *`\"CSV\"`*.* *`Un archivo CSV (Comma-Separated Values)`*  \n",
    "*Un* *`archivo CSV (Comma-Separated Values)`* *es un formato de archivo que se utiliza para almacenar datos tabulares, como una hoja de cálculo o una base de datos. En un archivo CSV, los datos se organizan en filas y columnas, y cada celda de la tabla está separada por un delimitador, comúnmente una coma (,).*\n",
    "*Cada fila del archivo CSV representa una entrada de datos, y las columnas dentro de esa fila contienen los valores asociados con diferentes atributos o características. La primera fila a menudo se utiliza para los encabezados, que describen el contenido de cada columna.*"
   ]
  },
  {
   "cell_type": "markdown",
   "metadata": {},
   "source": [
    "*Consideremos el siguente ejemplo:*"
   ]
  },
  {
   "cell_type": "markdown",
   "metadata": {},
   "source": [
    "*Nombre,Edad,Ciudad*  \n",
    "*Juan,25,Medellín*  \n",
    "*María,30,Bogotá*  \n",
    "*Carlos,22,Cali*  \n"
   ]
  },
  {
   "cell_type": "markdown",
   "metadata": {},
   "source": [
    "\n",
    "| Nombre | Edad | Ciudad    |\n",
    "|--------|------|-----------|\n",
    "| Juan   | 25   | Medellín  |\n",
    "| María  | 30   | Bogotá    |\n",
    "| Carlos | 22   | Cali      |\n"
   ]
  },
  {
   "cell_type": "code",
   "execution_count": 42,
   "metadata": {},
   "outputs": [],
   "source": [
    "#Importar la base de datos \n",
    "df = pd.read_csv('titanic3.csv')\n",
    "#Efectuo la copia del dataframe Importado\n",
    "orig_df=df.copy()\n",
    "#print(df)"
   ]
  },
  {
   "cell_type": "markdown",
   "metadata": {},
   "source": [
    "# Importacion de datos CSV"
   ]
  },
  {
   "cell_type": "code",
   "execution_count": 43,
   "metadata": {},
   "outputs": [],
   "source": [
    "import pandas as pd\n",
    "\n",
    "def importar_csv_a_dataframe(path):\n",
    "    try:\n",
    "        dataframe = pd.read_csv(path)\n",
    "        return dataframe\n",
    "    except FileNotFoundError:\n",
    "        print(f\"El archivo no fue encontrado en la ruta: {path}\")\n",
    "        return None\n",
    "    except Exception as e:\n",
    "        print(f\"Error al leer el archivo CSV: {e}\")\n",
    "        return None\n",
    "\n",
    "# Ejemplo de uso\n",
    "ruta_archivo = 'C:/Users/felip/OneDrive/Documentos/Python/Codigos/Ciencia_Datos/Datos_titanic_CSV/titanic3.csv'\n",
    "datos_dataframe = importar_csv_a_dataframe(ruta_archivo)"
   ]
  },
  {
   "cell_type": "markdown",
   "metadata": {},
   "source": [
    "# Naturaleza de los datos"
   ]
  },
  {
   "cell_type": "code",
   "execution_count": 44,
   "metadata": {},
   "outputs": [
    {
     "name": "stdout",
     "output_type": "stream",
     "text": [
      "pclass         int64\n",
      "survived       int64\n",
      "name          object\n",
      "sex           object\n",
      "age          float64\n",
      "sibsp          int64\n",
      "parch          int64\n",
      "ticket        object\n",
      "fare         float64\n",
      "cabin         object\n",
      "embarked      object\n",
      "boat          object\n",
      "body         float64\n",
      "home.dest     object\n",
      "dtype: object\n"
     ]
    }
   ],
   "source": [
    "#Analisar los tipos de datos que tengo en el data_frame\n",
    "tipos_de_datos = df.dtypes\n",
    "print(tipos_de_datos)"
   ]
  },
  {
   "cell_type": "markdown",
   "metadata": {},
   "source": [
    "*Una vez que tengamos los datos, debemos asegurarnos de que estén en un formato que podemos utilizar para crear un modelo. La mayoría de los modelos de \"Machine Learning\" requiere que nuestras características sean numéricas (entero o flotante). Además,muchos modelos fallan si se les pasan valores faltantes (NaN enpandas o numpy). Algunos modelos funcionan mejor si los datos son estandarizado (dado un valor medio de 0 y una desviación estándarde 1). Nos ocuparemos de estos problemas utilizando pandas o scikitleearn.*\n",
    "*Además, el conjunto de datos del Titanic tiene características con fugas.Las características con \"fugas\" son variables que contienen información sobre el futuro o objetivo. No hay nada malo en tener datos sobre el objetivo, y a menudo tenemos esos datos durante el tiempo de creación del modelo.Sin embargo, si esas variables no están disponibles cuando realizamos una predicción en una nueva muestra, deberíamos eliminarlos del modelo ya que están filtrando datos del futuro.Limpiar los datos puede llevar un poco de tiempo. Ayuda a tener accesoa un experto en la materia (PYME) que pueda proporcionar orientación sobre lidiar con valores atípicos o datos faltantes.*"
   ]
  },
  {
   "cell_type": "markdown",
   "metadata": {},
   "source": [
    "| Columna    | Descripción                  | Tipo    |\n",
    "|------------|-----------------------------|---------|\n",
    "| pclass     | Clase del pasajero           | int64   |\n",
    "| survived   | Sobrevivió (0 = No, 1 = Sí)  | int64   |\n",
    "| name       | Nombre del pasajero          | object  |\n",
    "| sex        | Género                       | object  |\n",
    "| age        | Edad                         | float64 |\n",
    "| sibsp      | Número de hermanos/cónyuges a bordo | int64   |\n",
    "| parch      | Número de padres/hijos a bordo      | int64   |\n",
    "| ticket     | Número de boleto             | object  |\n",
    "| fare       | Tarifa del pasaje            | float64 |\n",
    "| cabin      | Número de cabina             | object  |\n",
    "| embarked   | Puerto de embarque           | object  |\n",
    "| boat       | Número del bote de rescate   | object  |\n",
    "| body       | Número de identificación del cuerpo (si falleció) | float64 |\n",
    "| home.dest  | Destino del pasajero         | object  |\n"
   ]
  },
  {
   "cell_type": "markdown",
   "metadata": {},
   "source": [
    "- **pclass**: Representa la clase del pasajero (1, 2, 3).\n",
    "- **survived**: Indica si el pasajero sobrevivió (1) o no (0).\n",
    "- **name**: Nombre del pasajero.\n",
    "- **sex**: Género del pasajero (object indica que es una cadena de texto).\n",
    "- **age**: Edad del pasajero.\n",
    "- **sibsp**: Número de hermanos o cónyuges a bordo.\n",
    "- **parch**: Número de padres o hijos a bordo.\n",
    "- **ticket**: Número del boleto.\n",
    "- **fare**: Tarifa del pasaje.\n",
    "- **cabin**: Número de cabina.\n",
    "- **embarked**: Puerto de embarque (C = Cherbourg, Q = Queenstown, S = Southampton).\n",
    "- **boat**: Número del bote de rescate.\n",
    "- **body**: Número de identificación del cuerpo (si falleció).\n",
    "- **home.dest**: Destino del pasajero."
   ]
  },
  {
   "cell_type": "markdown",
   "metadata": {},
   "source": [
    "- **int64**: Este tipo de dato representa enteros de 64 bits, es decir, **números enteros**. Las columnas como *pclass*, *survived*, *sibsp*, y *parch* parecen contener información numérica entera.\n",
    "\n",
    "- **object**: Este tipo de dato se utiliza para representar **cadenas de texto** u otros objetos más complejos. Las columnas como *name*, *sex*, *ticket*, *cabin*, *embarked*, *boat*, y *home.dest* son de tipo *object* porque contienen información de texto.\n",
    "\n",
    "- **float64**: Este tipo de dato se utiliza para representar números de punto flotante, es decir, números con decimales. Las columnas como *age*, *fare*, y *body* son de tipo *float64*.\n"
   ]
  },
  {
   "cell_type": "markdown",
   "metadata": {},
   "source": [
    "# Analisis exploratorio de los datos con Sweetviz"
   ]
  },
  {
   "cell_type": "markdown",
   "metadata": {},
   "source": [
    "*Utiliza la biblioteca *`sweetviz`* *para generar un informe de análisis exploratorio de datos (EDA) y luego usa *`wkhtmltopdf`* *a través de *`pdfkit`* *para convertir ese informe HTML en un archivo PDF.* *Este proceso puede ser útil para generar informes visuales de análisis de datos en un formato más portable como PDF.*\n",
    "\n",
    "*Enlace de la biblioteca: \"https://pypi.org/project/sweetviz/\"*"
   ]
  },
  {
   "cell_type": "code",
   "execution_count": 45,
   "metadata": {},
   "outputs": [],
   "source": [
    "# Análisis Exploratorio de Datos (EDA) con Sweetviz:\n",
    "\n",
    "#report = sv.analyze(df)\n",
    "#report.show_html('Pasajeros_titanic_reporte.html')\n",
    "\n",
    "# Generación de un Archivo PDF a partir del Informe HTML:\n",
    "\n",
    "# Ruta al archivo HTML del informe\n",
    "#html_report_file = 'Pasajeros_titanic_reporte.html'\n",
    "\n",
    "# Ruta de salida para el archivo PDF\n",
    "#pdf_output_file = 'Pasajeros_titanic_reporte.pdf'\n",
    "\n",
    "# Especifica la ruta al ejecutable de wkhtmltopdf manualmente\n",
    "#config = pdfkit.configuration(wkhtmltopdf='C:/Program Files/wkhtmltopdf/bin/wkhtmltopdf.exe')\n",
    "#pdfkit.from_file(html_report_file, pdf_output_file, configuration=config)\n",
    "\n"
   ]
  },
  {
   "cell_type": "markdown",
   "metadata": {},
   "source": [
    "# Analisis alternativas exploratorias ; usando Pandas y Numpy "
   ]
  },
  {
   "cell_type": "markdown",
   "metadata": {},
   "source": [
    "<span style=\"font-size:30px; font-weight:bold;\">Analisis exploratoria: Estadistica clasica </span>"
   ]
  },
  {
   "cell_type": "code",
   "execution_count": 46,
   "metadata": {},
   "outputs": [
    {
     "name": "stdout",
     "output_type": "stream",
     "text": [
      "|       |      pclass |    survived |       age |       sibsp |       parch |      fare |     body |\n",
      "|:-----:|------------:|------------:|----------:|------------:|------------:|----------:|---------:|\n",
      "| count | 1309        | 1309        | 1046      | 1309        | 1309        | 1308      | 121      |\n",
      "| mean  |    2.29488  |    0.381971 |   29.8811 |    0.498854 |    0.385027 |   33.2955 | 160.81   |\n",
      "|  std  |    0.837836 |    0.486055 |   14.4135 |    1.04166  |    0.86556  |   51.7587 |  97.6969 |\n",
      "|  min  |    1        |    0        |    0.17   |    0        |    0        |    0      |   1      |\n",
      "|  25%  |    2        |    0        |   21      |    0        |    0        |    7.8958 |  72      |\n",
      "|  50%  |    3        |    0        |   28      |    0        |    0        |   14.4542 | 155      |\n",
      "|  75%  |    3        |    1        |   39      |    1        |    0        |   31.275  | 256      |\n",
      "|  max  |    3        |    1        |   80      |    8        |    9        |  512.329  | 328      |\n"
     ]
    }
   ],
   "source": [
    "#Hacer el analisis estadistico para todas las columnas con valores numericos\n",
    "#variable=nombre_dataframe.describe().iloc(:,tamanho de las columnas)\n",
    "Analisis = df.describe().iloc[:, :14]\n",
    "#print(Analisis)\n",
    "# Imprimir la tabla en formato Markdown\n",
    "print(Analisis.to_markdown(stralign=\"center\"))\n",
    "#Analisis_quinta_columna = df.iloc[:, 4].describe()\n",
    "#print(Analisis_quinta_columna)"
   ]
  },
  {
   "cell_type": "markdown",
   "metadata": {},
   "source": [
    "<span style=\"font-size:30px; font-weight:bold;\">Analisis exploratoria: Datos Ausentes </span>"
   ]
  },
  {
   "cell_type": "markdown",
   "metadata": {},
   "source": [
    "*La presencia de datos faltantes, es la situación a la que permanentemente se enfrentan investigadores y tomadores de decisiones. Disponer de un archivo de datos completos es ideal, pero aplicar métodos de imputación inapropiados para lograrlo, puede generar más problemas de los que resuelve. Durante las últimas décadas se han desarrollado procedimientos que tienen mejores propiedades estadísticas que las opciones tradicionales como la eliminación de datos (listwise), el pareo de observaciones (pairwise), el método de medias y el hot-deck. Los algoritmos de imputación múltiple (IM) se pueden aplicar utilizando paquetes comerciales y de acceso gratuito, pero imputar información no debe entenderse como un fin en sí mismo.*"
   ]
  },
  {
   "cell_type": "markdown",
   "metadata": {},
   "source": [
    "<span style=\"font-size:18px; font-weight:bold;\">Analisis exploratoria: Reportar los  Datos Ausentes en cifras enteras </span>"
   ]
  },
  {
   "cell_type": "code",
   "execution_count": 47,
   "metadata": {},
   "outputs": [
    {
     "name": "stdout",
     "output_type": "stream",
     "text": [
      "|           |  Valores Ausentes (Entero)  |\n",
      "|:---------:|:---------------------------:|\n",
      "|  pclass   |              0              |\n",
      "| survived  |              0              |\n",
      "|   name    |              0              |\n",
      "|    sex    |              0              |\n",
      "|    age    |             263             |\n",
      "|   sibsp   |              0              |\n",
      "|   parch   |              0              |\n",
      "|  ticket   |              0              |\n",
      "|   fare    |              1              |\n",
      "|   cabin   |            1014             |\n",
      "| embarked  |              2              |\n",
      "|   boat    |             823             |\n",
      "|   body    |            1188             |\n",
      "| home.dest |             564             |\n"
     ]
    }
   ],
   "source": [
    "#Identifica valores ausentes de cada variable contenida en la columna como variables enteras \n",
    "valores_ausentes=df.isnull().sum()\n",
    "#print(valores_asutentes)\n",
    "# Crea un DataFrame con los resultados\n",
    "df_valores_ausentes = pd.DataFrame(valores_ausentes, columns=[\"Valores Ausentes (Entero)\"])\n",
    "# Imprimir la tabla en formato Markdown\n",
    "print(tabulate(df_valores_ausentes, tablefmt=\"pipe\", headers=\"keys\", stralign=\"center\", numalign=\"center\"))"
   ]
  },
  {
   "cell_type": "markdown",
   "metadata": {},
   "source": [
    "<span style=\"font-size:18px; font-weight:bold;\">Analisis exploratoria: Reportar Datos Ausentes en porcentaje</span>"
   ]
  },
  {
   "cell_type": "code",
   "execution_count": 48,
   "metadata": {},
   "outputs": [
    {
     "name": "stdout",
     "output_type": "stream",
     "text": [
      "|  Variable  |  Porcentaje de Valores Ausentes [%]  |\n",
      "|:----------:|:------------------------------------:|\n",
      "|   pclass   |                  0                   |\n",
      "|  survived  |                  0                   |\n",
      "|    name    |                  0                   |\n",
      "|    sex     |                  0                   |\n",
      "|    age     |               20.0917                |\n",
      "|   sibsp    |                  0                   |\n",
      "|   parch    |                  0                   |\n",
      "|   ticket   |                  0                   |\n",
      "|    fare    |              0.0763942               |\n",
      "|   cabin    |               77.4637                |\n",
      "|  embarked  |               0.152788               |\n",
      "|    boat    |               62.8724                |\n",
      "|    body    |               90.7563                |\n",
      "| home.dest  |               43.0863                |\n"
     ]
    }
   ],
   "source": [
    "# Calcula el porcentaje de valores ausentes para cada variable en tu DataFrame\n",
    "valores_ausentes_porcentaje = df.isnull().mean() * 100\n",
    "#print(valores_asutentes)\n",
    "# Convertir la serie a un DataFrame para que tabulate pueda manejarlo\n",
    "df_valores_ausentes_porcentaje = valores_ausentes_porcentaje.to_frame().reset_index()\n",
    "# Nombrar las columnas del nuevo DataFrame\n",
    "# Nombrar las columnas del nuevo DataFrame\n",
    "df_valores_ausentes_porcentaje.columns = [\"Variable\", \"Porcentaje de Valores Ausentes [%]\"]\n",
    "# Imprimir la tabla en formato Markdown sin mostrar los índices de las filas\n",
    "print(tabulate(df_valores_ausentes_porcentaje, tablefmt=\"pipe\", headers=\"keys\", stralign=\"center\", numalign=\"center\", showindex=False))\n",
    "\n"
   ]
  },
  {
   "cell_type": "markdown",
   "metadata": {},
   "source": [
    "<span style=\"font-size:18px; font-weight:bold;\">Analisis exploratoria: Propiedades importantes</span>"
   ]
  },
  {
   "cell_type": "markdown",
   "metadata": {},
   "source": [
    "*Valores nulos por fila* "
   ]
  },
  {
   "cell_type": "code",
   "execution_count": 49,
   "metadata": {},
   "outputs": [
    {
     "name": "stdout",
     "output_type": "stream",
     "text": [
      "0     1\n",
      "1     1\n",
      "2     2\n",
      "3     1\n",
      "4     2\n",
      "5     1\n",
      "6     1\n",
      "7     2\n",
      "8     1\n",
      "9     2\n",
      "10    1\n",
      "dtype: int64\n"
     ]
    }
   ],
   "source": [
    "# Está calculando la cantidad de valores nulos por fila (a lo largo del eje 1, es decir, a lo largo de las columnas) y luego selecciona las primeras 11 filas (índices del 0 al 10) del resultado.\n",
    "# Serie que muestra la cantidad de valores nulos por fila para las primeras 11 filas de tu DataFrame.\n",
    "valores_asutentes=df.isnull().sum(axis=1).loc[:10]\n",
    "print(valores_asutentes)"
   ]
  },
  {
   "cell_type": "markdown",
   "metadata": {},
   "source": [
    "*Contar los nulos por filas*"
   ]
  },
  {
   "cell_type": "code",
   "execution_count": 50,
   "metadata": {},
   "outputs": [],
   "source": [
    "#se verifica si al menos un valor en cada fila es nulo.\n",
    "mask=df.isnull().any(axis=1)\n",
    "filas_con_nulos = df[mask]\n",
    "# Contar valores nulos por fila\n",
    "nulos_por_fila = df.isnull().sum(axis=1)\n",
    "# Contar valores no nulos por fila\n",
    "no_nulos_por_fila = df.notna().sum(axis=1)\n",
    "\n",
    "# Crear un nuevo DataFrame con los resultados\n",
    "#resultados = pd.DataFrame({'Nulos': nulos_por_fila, 'No Nulos': no_nulos_por_fila})\n",
    "\n",
    "# Mostrar el nuevo DataFrame\n",
    "#print(resultados)\n",
    "# Contar el número total de filas con al menos un valor nulo\n",
    "#filas_con_nulos = (df.isnull().any(axis=1)).sum()\n",
    "# Mostrar el resultado\n",
    "#print(f\"Total de filas con al menos un valor nulo: {filas_con_nulos}\")\n"
   ]
  },
  {
   "cell_type": "markdown",
   "metadata": {},
   "source": [
    "*Utilizando listas boleanas*"
   ]
  },
  {
   "cell_type": "markdown",
   "metadata": {},
   "source": [
    "*`mask.head()`* *Este método de pandas se utiliza para obtener las primeras filas de un DataFrame o una Serie. Si mask es un DataFrame o una Serie, *`mask.head()`* *devolverá por defecto las primeras 5 filas. Puedes especificar un número diferente de filas pasando un argumento, por ejemplo, mask.head(10) devolvería las primeras 10 filas.*"
   ]
  },
  {
   "cell_type": "code",
   "execution_count": 51,
   "metadata": {},
   "outputs": [
    {
     "name": "stdout",
     "output_type": "stream",
     "text": [
      "0    True\n",
      "1    True\n",
      "2    True\n",
      "3    True\n",
      "4    True\n",
      "5    True\n",
      "6    True\n",
      "7    True\n",
      "8    True\n",
      "9    True\n",
      "dtype: bool\n"
     ]
    }
   ],
   "source": [
    "mask_2=mask.head(10)\n",
    "print(mask_2)"
   ]
  },
  {
   "cell_type": "markdown",
   "metadata": {},
   "source": [
    "*Contar la frecuencia de valroes numericos*"
   ]
  },
  {
   "cell_type": "code",
   "execution_count": 52,
   "metadata": {},
   "outputs": [
    {
     "name": "stdout",
     "output_type": "stream",
     "text": [
      "sex\n",
      "male      843\n",
      "female    466\n",
      "Name: count, dtype: int64\n"
     ]
    }
   ],
   "source": [
    "#En las columnas con valores de objetos se utiliza esta funcion para contar el tipo de variables que se almaceno \n",
    "#.value_counts() Se aplica el método value_counts() a la Serie resultante. Este método cuenta la frecuencia de cada valor único en la Serie, \n",
    "#lo que significa que determina cuántas veces aparece cada valor en la columna \"sex\".\n",
    "#dropna=False: El argumento dropna se establece en False, lo que significa que se contarán los valores nulos (NaN) en la columna \"sex\". \n",
    "# Si hubiera valores nulos en la columna, también se contarán en el resultado.\n",
    "contador = df.sex.value_counts(dropna=False)\n",
    "print(contador)\n"
   ]
  },
  {
   "cell_type": "code",
   "execution_count": 53,
   "metadata": {},
   "outputs": [],
   "source": [
    "embarcados=df.embarked.value_counts(dropna=False)\n",
    "#print(embarcados)"
   ]
  },
  {
   "cell_type": "markdown",
   "metadata": {},
   "source": [
    "# Creacion de atributos"
   ]
  },
  {
   "cell_type": "markdown",
   "metadata": {},
   "source": [
    "*La **\"creación de atributos\"** se refiere al proceso de generar nuevas características (o atributos) a partir de los datos existentes en un conjunto de datos. Estos nuevos atributos se calculan o derivan de las características originales y se pueden diseñar para proporcionar información adicional o para facilitar la tarea de aprendizaje automático.*\n",
    "\n",
    "**Ingeniería de Características:**\n",
    "Esto implica crear nuevas características a partir de las existentes utilizando conocimiento del dominio o intuición. Por ejemplo, si tienes la fecha de nacimiento de las personas, podrías crear una nueva característica para representar su edad.\n",
    "\n",
    "**Transformaciones Matemáticas:**\n",
    "Aplicar funciones matemáticas a las características existentes para obtener nuevas. Por ejemplo, calcular el logaritmo o la raíz cuadrada de una característica.\n",
    "\n",
    "**Normalización o Estandarización:**\n",
    "Ajustar las escalas de las características para que tengan una media de cero y una desviación estándar de uno. Esto a menudo se realiza para asegurar que todas las características contribuyan de manera equitativa al modelo.\n",
    "\n",
    "**Binning o Discretización:**\n",
    "Agrupar valores continuos en intervalos discretos. Esto puede facilitar la interpretación y puede ser útil en algoritmos que trabajan mejor con datos categóricos.\n",
    "\n",
    "**Codificación One-Hot:**\n",
    "Convertir variables categóricas en vectores binarios (0 o 1) para que puedan ser proporcionadas a los algoritmos de aprendizaje automático que esperan datos numéricos.\n",
    "\n",
    "**Interacciones entre Características:**\n",
    "Crear nuevas características basadas en la interacción de dos o más características. Por ejemplo, si tienes las características \"ancho\" y \"alto\", podrías crear una nueva característica llamada \"área\" multiplicando estas dos.\n"
   ]
  },
  {
   "cell_type": "markdown",
   "metadata": {},
   "source": [
    "<span style=\"font-size:30px; font-weight:bold;\">Extrayendo columnas del DataFrame</span>"
   ]
  },
  {
   "cell_type": "code",
   "execution_count": 54,
   "metadata": {},
   "outputs": [
    {
     "name": "stdout",
     "output_type": "stream",
     "text": [
      "0                      Allen, Miss. Elisabeth Walton\n",
      "1                     Allison, Master. Hudson Trevor\n",
      "2                       Allison, Miss. Helen Loraine\n",
      "3               Allison, Mr. Hudson Joshua Creighton\n",
      "4    Allison, Mrs. Hudson J C (Bessie Waldo Daniels)\n",
      "Name: name, dtype: object\n"
     ]
    }
   ],
   "source": [
    "#Extraer los valores de una columna y almacenarla en una nueva \n",
    "name=df.name\n",
    "#print(name)\n",
    "#Sirve para selecionar filas\n",
    "nombres=name.head()\n",
    "print(nombres)"
   ]
  },
  {
   "cell_type": "markdown",
   "metadata": {},
   "source": [
    "<span style=\"font-size:30px; font-weight:bold;\">Extrayendo columnas del DataFrame</span>"
   ]
  },
  {
   "cell_type": "markdown",
   "metadata": {},
   "source": [
    "*Se está utilizando el método* *`\"drop\"`* *para eliminar varias columnas del *`\"DataFrame original (df)\"`*. *Las columnas que se están eliminando son \"name\", \"ticket\", \"home.dest\", \"boat\", \"body\", y \"cabin\". Aquí hay una explicación línea por línea*\n",
    "- *\"name\" debido a que no aporta a la informacion y ademas es muy variado como string*\n",
    "- *\"ticket\" contiene los numeros de identificaciond e los boletos del barco, por lo que no es de mucha utilidad*\n",
    "- *\"home dest\" contiene los lugares hacia donde se dirigia*\n",
    "- *\"boat\" contiene el bote por el que se fueron*\n",
    "- *\"body\"*\n",
    "- *\"cabin\"*\n"
   ]
  },
  {
   "cell_type": "code",
   "execution_count": 55,
   "metadata": {},
   "outputs": [],
   "source": [
    "#Eliminar columnas y genera un nuevo dataframe\n",
    "df_nuevo=df.drop(\n",
    "    columns=[\n",
    "    \"name\",\n",
    "    \"ticket\",\n",
    "    \"home.dest\",\n",
    "    \"boat\",\n",
    "    \"body\",\n",
    "    \"cabin\",\n",
    "    ]\n",
    ")\n",
    "#print(df_nuevo)\n",
    "#print(\"----------------------------------\")\n",
    "#print(\"Dataframe inicial\")\n",
    "#print(df.dtypes)\n",
    "#print(\"----------------------------------\")\n",
    "#print(\"Columnas Eliminadas\")\n",
    "#print(df_nuevo.dtypes)\n"
   ]
  },
  {
   "cell_type": "markdown",
   "metadata": {},
   "source": [
    "<span style=\"font-size:30px; font-weight:bold;\">Creacion de columnas \"Dummys\"</span>"
   ]
  },
  {
   "cell_type": "markdown",
   "metadata": {},
   "source": [
    "La función *`\"get_dummies\"`* *de pandas se utiliza para realizar la codificación \"One-hot\" de un DataFrame llamado *`\"df_nuevo\"`*. *La codificación \"One-hot\" se utiliza para convertir variables categóricas en variables binarias (0 o 1) que pueden ser procesadas por algoritmos de aprendizaje automático.* \n",
    "\n",
    "*Cuando aplicas*`\"get_dummies(df_nuevo)\"`* *pandas identificará automáticamente las columnas \"Categóricas\" en el DataFrame df_nuevo y creará nuevas columnas binarias para cada categoría en esas columnas categóricas. Cada nueva columna binaria representa una categoría diferente y tendrá un valor de 1 si esa categoría está presente en la fila correspondiente y 0 en caso contrario.*\n",
    "\n",
    "*El resultado, df_nuevo, contendrá las nuevas columnas binarias en lugar de las columnas originales que eran categóricas. Esta transformación es útil para preparar datos categóricos para su uso en modelos de aprendizaje automático que requieren datos numéricos en lugar de categóricos.*\n",
    "\n",
    "*Por ejemplo, si *`\"df_nuevo\"`* *contiene una columna llamada \"Color\" con valores como \"Rojo\", \"Verde\" y \"Azul\", get_dummies creará tres nuevas columnas llamadas \"Color_Rojo\", \"Color_Verde\" y \"Color_Azul\", y asignará 1 a la columna correspondiente para indicar el color presente en cada fila.*"
   ]
  },
  {
   "cell_type": "code",
   "execution_count": 56,
   "metadata": {},
   "outputs": [
    {
     "name": "stdout",
     "output_type": "stream",
     "text": [
      "|  Variables entrada  |  Primera eliminacion  |  Creacion de dummys  |\n",
      "|:-------------------:|:---------------------:|:--------------------:|\n",
      "|       pclass        |        pclass         |        pclass        |\n",
      "|      survived       |       survived        |       survived       |\n",
      "|        name         |          sex          |         age          |\n",
      "|         sex         |          age          |        sibsp         |\n",
      "|         age         |         sibsp         |        parch         |\n",
      "|        sibsp        |         parch         |         fare         |\n",
      "|        parch        |         fare          |      sex_female      |\n",
      "|       ticket        |       embarked        |       sex_male       |\n",
      "|        fare         |                       |      embarked_C      |\n",
      "|        cabin        |                       |      embarked_Q      |\n",
      "|      embarked       |                       |      embarked_S      |\n",
      "|        boat         |                       |                      |\n",
      "|        body         |                       |                      |\n",
      "|      home.dest      |                       |                      |\n"
     ]
    }
   ],
   "source": [
    "# Obtencion del nuevo Dataframe \n",
    "df_nuevo_dummy=pd.get_dummies(df_nuevo)\n",
    "# Obtener las columnas iniciales, anteriores y nuevas\n",
    "columnas_inicial = list(df.columns)\n",
    "columnas_anteriores = list(df_nuevo.columns)\n",
    "columnas_nuevas = list(df_nuevo_dummy.columns)\n",
    "# Obtener la longitud máxima de las listas\n",
    "max_length = max(len(columnas_inicial), len(columnas_anteriores), len(columnas_nuevas))\n",
    "# Extender las listas más cortas con valores nulos\n",
    "columnas_inicial.extend([None] * (max_length - len(columnas_inicial)))\n",
    "columnas_anteriores.extend([None] * (max_length - len(columnas_anteriores)))\n",
    "columnas_nuevas.extend([None] * (max_length - len(columnas_nuevas)))\n",
    "# Crear una lista de tuplas\n",
    "tabla_columnas = list(zip_longest(columnas_inicial, columnas_anteriores, columnas_nuevas))\n",
    "# Imprimir la tabla en formato Markdown\n",
    "print(tabulate(tabla_columnas, headers=[\"Variables entrada\", \"Primera eliminacion\", \"Creacion de dummys\"], tablefmt=\"pipe\", stralign=\"center\"))"
   ]
  },
  {
   "cell_type": "markdown",
   "metadata": {},
   "source": [
    "<span style=\"font-size:30px; font-weight:bold;\">Eliminacion de columnas en DF con  \"Dummys\"</span>"
   ]
  },
  {
   "cell_type": "markdown",
   "metadata": {},
   "source": [
    "*Es este caso, para el dataframe definido como *`\"df_nuevo\"`* *se van a Eliminar las columnas que presenten una alta correlacion, como es el caso de los sexos (Establecido por convencion binarios)*"
   ]
  },
  {
   "cell_type": "code",
   "execution_count": 57,
   "metadata": {},
   "outputs": [],
   "source": [
    "#Deshacernos de la colimna de hombre porque tiene una alta correlacion con la otra (el nivel de femenino y masculino para generos binarios es autocorrelacion)\n",
    "df_nuevo_dummy=df_nuevo_dummy.drop(columns=\"sex_male\")\n",
    "#print(df_nuevo_dummy.columns)"
   ]
  },
  {
   "cell_type": "markdown",
   "metadata": {},
   "source": [
    "# Separacion del conjunto de datos"
   ]
  },
  {
   "cell_type": "markdown",
   "metadata": {},
   "source": [
    "*Vamos a efectuar una separacion de variables, la cual asigna el valor de respuesta u \"tasa de exito\" a la categoria de sobrevivencia, denotada como **\"SURVIVED\"*** *El resto de variables numericas y categoricas van a ser nuestros vectores de entrada para el analisis de los datos (X)*"
   ]
  },
  {
   "cell_type": "code",
   "execution_count": 58,
   "metadata": {},
   "outputs": [],
   "source": [
    "y = df_nuevo_dummy.survived\n",
    "X = df_nuevo_dummy.drop(columns=\"survived\")\n",
    "#print(X)\n",
    "#Como se le aplico una categorizacion de variable dummy, los datos aparecen en binario, indicando 1 para vivo y 0 para muerto\n",
    "#print(y)"
   ]
  },
  {
   "cell_type": "markdown",
   "metadata": {},
   "source": [
    "<span style=\"font-size:30px; font-weight:bold;\">División de los datos : Conjuntos de entrenamiento y prueba</span>"
   ]
  },
  {
   "cell_type": "markdown",
   "metadata": {},
   "source": [
    "En ciencia de datos y aprendizaje automático, se utiliza comúnmente la división del conjunto de datos en dos subconjuntos principales: el *conjunto de entrenamiento* (training set) y el *conjunto de prueba* (test set). Estos conjuntos son esenciales para evaluar el rendimiento de un modelo y generalizar su capacidad de predicción a nuevos datos.\n",
    "\n",
    "**Conjunto de Entrenamiento (Training Set):**\n",
    "- Este conjunto se utiliza para entrenar el modelo, es decir, para ajustar los parámetros del modelo según los datos de entrada.\n",
    "- El modelo \"aprende\" de este conjunto, ajustándose a los patrones y relaciones presentes en los datos.\n",
    "- Generalmente, el conjunto de entrenamiento es la parte más grande del conjunto de datos, a menudo alrededor del 70-80%.\n",
    "\n",
    "**Conjunto de Prueba (Test Set):**\n",
    "- Este conjunto se utiliza para evaluar el rendimiento del modelo en datos no vistos durante el entrenamiento.\n",
    "- Después de entrenar el modelo con el conjunto de entrenamiento, se prueba con el conjunto de prueba para ver qué tan bien generaliza a nuevos datos.\n",
    "- El conjunto de prueba se utiliza para medir la capacidad de generalización del modelo y detectar posibles problemas de sobreajuste (overfitting).\n"
   ]
  },
  {
   "cell_type": "code",
   "execution_count": 59,
   "metadata": {},
   "outputs": [],
   "source": [
    "# X son las características, y es la variable objetivo\n",
    "# Se utiliza un 70% para entrenamiento y un 30% para prueba por lo general \n",
    "# El parámetro random_state garantiza reproducibilidad\n",
    "porcentaje_conjunto_prueba=0.3\n",
    "semilla_inicial=42\n",
    "X_train, X_test, y_train, y_test = train_test_split(\n",
    "    X,        # Características\n",
    "    y,        # Variable objetivo\n",
    "    test_size=porcentaje_conjunto_prueba,  # Porcentaje para el conjunto de prueba\n",
    "    random_state=semilla_inicial  # Semilla para reproducibilidad\n",
    ")"
   ]
  },
  {
   "cell_type": "markdown",
   "metadata": {},
   "source": [
    "<span style=\"font-size:20px; font-weight:bold;\">Verificacion de la separacion</span>"
   ]
  },
  {
   "cell_type": "code",
   "execution_count": 60,
   "metadata": {},
   "outputs": [
    {
     "name": "stdout",
     "output_type": "stream",
     "text": [
      "<class 'pandas.core.frame.DataFrame'>\n",
      "Index: 916 entries, 1214 to 1126\n",
      "Data columns (total 9 columns):\n",
      " #   Column      Non-Null Count  Dtype  \n",
      "---  ------      --------------  -----  \n",
      " 0   pclass      916 non-null    int64  \n",
      " 1   age         729 non-null    float64\n",
      " 2   sibsp       916 non-null    int64  \n",
      " 3   parch       916 non-null    int64  \n",
      " 4   fare        915 non-null    float64\n",
      " 5   sex_female  916 non-null    bool   \n",
      " 6   embarked_C  916 non-null    bool   \n",
      " 7   embarked_Q  916 non-null    bool   \n",
      " 8   embarked_S  916 non-null    bool   \n",
      "dtypes: bool(4), float64(2), int64(3)\n",
      "memory usage: 46.5 KB\n",
      "None\n",
      "['pclass', 'age', 'sibsp', 'parch', 'fare', 'sex_female', 'embarked_C', 'embarked_Q', 'embarked_S']\n"
     ]
    }
   ],
   "source": [
    "# Imprimir conjunto de entrenamiento X\n",
    "#print(\"Conjunto de Entrenamiento (X):\")\n",
    "print(X_train.info())\n",
    "#print(X_test.info())\n",
    "\n",
    "# Imprimir conjunto de entrenamiento y\n",
    "#print(\"\\nConjunto de Entrenamiento (y):\")\n",
    "#print(y_train.info())\n",
    "\n",
    "# Imprimir conjunto de prueba X\n",
    "#print(\"\\nConjunto de Prueba (X):\")\n",
    "#print(X_test.info())\n",
    "\n",
    "# Imprimir conjunto de prueba y\n",
    "#print(\"\\nConjunto de Prueba (y):\")\n",
    "#print(y_test.info())\n",
    "columnas_nuevas_entrenamiento = list(X_train.columns)\n",
    "\n",
    "print(columnas_nuevas_entrenamiento)"
   ]
  },
  {
   "cell_type": "markdown",
   "metadata": {},
   "source": [
    "<span style=\"font-size:30px; font-weight:bold;\">Pre-Acondicionamiento: Reemplazar los valores faltantes en las columnas numéricas especificadas </span>"
   ]
  },
  {
   "cell_type": "markdown",
   "metadata": {},
   "source": [
    "*Este código utiliza la técnica de* *`\"Imputación iterativa\"`* *para reemplazar los valores faltantes en las columnas numéricas especificadas en num_cols en los conjuntos de entrenamiento y prueba (X_train y X_test). Los resultados se imprimen al final, pero están comentados. Puedes descomentar esas líneas según sea necesario para inspeccionar los conjuntos de entrenamiento y prueba después de la imputación.*"
   ]
  },
  {
   "cell_type": "code",
   "execution_count": 61,
   "metadata": {},
   "outputs": [],
   "source": [
    "#Definir el numero de columnas donde vamos a realizar las operaciones\n",
    "num_cols = [\"pclass\",\"age\",\"sibsp\",\"parch\",\"fare\",\"sex_female\",]\n",
    "imputer = impute.IterativeImputer()\n",
    "#Colocamos a los datos de entrnamiento\n",
    "imputed = imputer.fit_transform(X_train[num_cols])\n",
    "X_train.loc[:, num_cols] = imputed\n",
    "#Colocamos a los datos de prueba\n",
    "imputed = imputer.transform(X_test[num_cols])\n",
    "X_test.loc[:, num_cols] = imputed\n",
    "#print(\"-----------------------------------\")\n",
    "#print(\"-----------------------------------\")\n",
    "#print(X_train.columns)\n",
    "#print(X_train)\n",
    "#print(\"-----------------------------------\")\n",
    "#print(\"-----------------------------------\")\n",
    "#print(X_test.columns)\n",
    "#print(X_test)\n"
   ]
  },
  {
   "cell_type": "markdown",
   "metadata": {},
   "source": [
    "\n",
    "*\"NUM_COLS\"* es una lista que contiene los nombres de las columnas que deseas imputar. Estas columnas contienen variables numéricas en tus datos.\n",
    "\n",
    "*\"IMPUTER\"* es un objeto creado a partir de la clase \"IterativeImputer\". Este objeto se utilizará para realizar la imputación de valores faltantes en las columnas especificadas en num_cols.\n",
    "\n",
    "*\"imputed\"* es una variable donde se almacenan los valores imputados. Se crea utilizando la función `fit_transform` del objeto imputer. Esta función toma como entrada las columnas numéricas de `X_train` especificadas en `num_cols` y calcula los valores imputados. Luego, estos valores imputados se asignan a la variable `imputed`.\n",
    "\n",
    "A continuación, se actualiza el DataFrame `X_train` con los valores imputados. Se utiliza la función `loc` para seleccionar las mismas columnas numéricas especificadas en `num_cols`, y se les asigna los valores imputados que se calcularon previamente en el paso anterior.\n",
    "\n",
    "Luego, se aplica la función `transform` del objeto imputer a las mismas columnas numéricas en el conjunto de prueba (`X_test`). Esto utiliza la información aprendida durante el ajuste en el conjunto de entrenamiento para imputar los valores faltantes en el conjunto de prueba y actualiza `X_test` con los valores imputados.\n",
    "\n",
    "Finalmente, se repite el proceso de actualización del DataFrame `X_test` con los valores imputados utilizando la función `loc`.\n",
    "\n",
    "En resumen, este código utiliza la técnica de imputación iterativa para reemplazar los valores faltantes en las columnas numéricas especificadas en `num_cols` en los conjuntos de entrenamiento y prueba (`X_train` y `X_test`). La imputación es útil cuando se tienen datos faltantes y se desea realizar análisis o modelado de datos sin eliminar las filas con datos faltantes."
   ]
  },
  {
   "cell_type": "markdown",
   "metadata": {},
   "source": [
    "<span style=\"font-size: 36pt;\">Datos normalizados</span>"
   ]
  },
  {
   "cell_type": "markdown",
   "metadata": {},
   "source": [
    "**Normalizar datos** es un proceso importante en el preprocesamiento de datos para muchos algoritmos de aprendizaje automático. Aquí hay algunas razones clave para normalizar los datos:\n",
    "\n",
    "- **Escalas Consistentes:** Al normalizar, puedes asegurarte de que todas las variables tengan la misma escala. Esto es crucial para algoritmos que son sensibles a las diferencias de escala entre las características, como las máquinas de soporte vectorial (SVM) o los métodos basados en la distancia, como el k-vecino más cercano (K-NN).\n",
    "\n",
    "- **Mejora la Convergencia:** Algoritmos basados en métodos iterativos, como el descenso de gradiente en algoritmos de optimización, pueden converger más rápido en datos normalizados. La normalización evita que las variables con valores grandes dominen la contribución a las actualizaciones de parámetros.\n",
    "\n",
    "- **Evita Problemas Numéricos:** Al normalizar, reduces el riesgo de problemas numéricos, como la pérdida de precisión debido a la magnitud de los números.\n",
    "\n",
    "- **Interpretación más Sencilla:** La normalización facilita la interpretación de los coeficientes o importancias en algunos modelos. Por ejemplo, en la regresión lineal, los coeficientes representan la contribución promedio de una variable, y la normalización facilita la comparación de estas contribuciones.\n",
    "\n",
    "- **Mejora el Rendimiento:** Algoritmos que utilizan medidas de distancia, como k-NN o k-medias, pueden funcionar mejor con datos normalizados, ya que las distancias se calculan de manera más significativa.\n",
    "\n",
    "Es importante señalar que no todos los algoritmos requieren normalización, y la necesidad de normalización puede depender del contexto específico del problema y del algoritmo que se esté utilizando. Sin embargo, en muchos casos, normalizar los datos es una buena práctica para mejorar la estabilidad y el rendimiento de los modelos.\n"
   ]
  },
  {
   "cell_type": "code",
   "execution_count": 62,
   "metadata": {},
   "outputs": [
    {
     "name": "stdout",
     "output_type": "stream",
     "text": [
      "-----------------------------------\n",
      "Conjunto de Entrenamiento:\n",
      "-----------------------------------\n",
      "-----------------------------------\n",
      "Conjunto de Prueba:\n",
      "-----------------------------------\n"
     ]
    }
   ],
   "source": [
    "# Creación de una lista de nombres de columnas:\n",
    "cols = \"pclass,age,sibsp,fare\".split(\",\")\n",
    "#cols=columnas_nuevas_entrenamiento\n",
    "\n",
    "# Creación de un objeto StandardScaler\n",
    "sca = preprocessing.StandardScaler()\n",
    "\n",
    "# Estándarizar las características del conjunto de entrenamiento\n",
    "X_train_std = sca.fit_transform(X_train[cols])\n",
    "X_train_std = pd.DataFrame(X_train_std, columns=cols)\n",
    "\n",
    "# Estándarizar las características del conjunto de prueba\n",
    "X_test_std = sca.transform(X_test[cols])\n",
    "X_test_std = pd.DataFrame(X_test_std, columns=cols)\n",
    "\n",
    "# Imprimir información del conjunto de entrenamiento\n",
    "print(\"-----------------------------------\")\n",
    "print(\"Conjunto de Entrenamiento:\")\n",
    "print(\"-----------------------------------\")\n",
    "#print(X_train.columns)\n",
    "#print(X_train.info())\n",
    "#print(X_train)\n",
    "\n",
    "# Imprimir información del conjunto de prueba\n",
    "print(\"-----------------------------------\")\n",
    "print(\"Conjunto de Prueba:\")\n",
    "print(\"-----------------------------------\")\n",
    "#print(X_test.columns)\n",
    "#print(X_test.info())\n",
    "#print(X_test)\n"
   ]
  },
  {
   "cell_type": "markdown",
   "metadata": {},
   "source": [
    "# Definicion de funciones base "
   ]
  },
  {
   "cell_type": "markdown",
   "metadata": {},
   "source": [
    "*El código elaborado define una función llamada **\"tweak_titanic\"** que realiza ciertas transformaciones en un DataFrame (df). Aquí está lo que hace esta línea de código en particular:*\n",
    "\n",
    "**\"df.drop(columns=[...]\"** *Esta parte del código elimina varias columnas del DataFrame df. Las columnas especificadas en la lista, como \"name\", \"ticket\", \"home.dest\", \"boat\", \"body\", y \"cabin\", se eliminan del DataFrame. Esto significa que estas columnas ya no estarán presentes en el DataFrame resultante.*\n",
    "\n",
    "**\".pipe(pd.get_dummies, drop_first=True)\"** *Después de eliminar las columnas especificadas, se aplica una técnica de codificación llamada \"one-hot encoding\" utilizando pd.get_dummies. Esta técnica se utiliza comúnmente para convertir variables categóricas en variables binarias (0 o 1) para que puedan ser utilizadas en modelos de aprendizaje automático.*\n",
    "\n",
    "**pd.get_dummies** *toma el DataFrame resultante después de eliminar las columnas y crea columnas binarias para las variables categóricas presentes en el DataFrame. Cada valor único en una variable categórica se convierte en una nueva columna binaria. El parámetro drop_first=True indica que se debe eliminar una de las columnas binarias para evitar la \"trampa de las variables ficticias\" (dummy variable trap), donde una columna se puede predecir a partir de las demás.\n",
    "return df: La función devuelve el DataFrame modificado después de realizar estas transformaciones.*\n",
    "\n",
    "**En resumen**, esta función tweak_titanic elimina las columnas especificadas y aplica la codificación one-hot encoding a las variables categóricas restantes en el DataFrame df. El resultado es un DataFrame transformado que es más adecuado para su uso en modelos de aprendizaje automático que requieren características numéricas en lugar de categóricas."
   ]
  },
  {
   "cell_type": "code",
   "execution_count": 63,
   "metadata": {},
   "outputs": [],
   "source": [
    "def tweak_titanic(df):\n",
    "    df = df.drop(columns=[\n",
    "        \"name\",\n",
    "        \"ticket\",\n",
    "        \"home.dest\",\n",
    "        \"boat\",\n",
    "        \"body\",\n",
    "        \"cabin\"\n",
    "    ]).pipe(pd.get_dummies, drop_first=True)\n",
    "    return df\n",
    "ti_df = tweak_titanic(orig_df)\n",
    "#print(ti_df)"
   ]
  },
  {
   "cell_type": "markdown",
   "metadata": {},
   "source": [
    "<span style=\"font-size:30px; font-weight:bold;\">Simplificacion de obtención de conjuntos de entrenamiento y prueba, imputación de valores faltantes en columnas numéricas e la estandarización de columnas específicas</span>"
   ]
  },
  {
   "cell_type": "code",
   "execution_count": 64,
   "metadata": {},
   "outputs": [],
   "source": [
    "def get_train_test_X_y(df, y_col, size=0.3, std_cols=None):\n",
    "    #Obtencion del conjunto de prueba y entreanamiento\n",
    "    y = df[y_col]\n",
    "    X = df.drop(columns=y_col)\n",
    "    X_train, X_test, y_train, y_test = model_selection.train_test_split(X, y, test_size=size, random_state=42)\n",
    "    cols = X.columns\n",
    "    num_cols = [\"pclass\", \"age\", \"sibsp\", \"parch\", \"fare\"]\n",
    "    #Imputacion de los valores faltantes \n",
    "    fi = impute.IterativeImputer()\n",
    "    X_train.loc[:, num_cols] = fi.fit_transform(X_train[num_cols])\n",
    "    X_test.loc[:, num_cols] = fi.transform(X_test[num_cols])\n",
    "    #Estandarizacion de los valores \n",
    "    if std_cols:\n",
    "        std = preprocessing.StandardScaler()\n",
    "        X_train.loc[:, std_cols] = std.fit_transform(X_train[std_cols])\n",
    "        X_test.loc[:, std_cols] = std.transform(X_test[std_cols])\n",
    "    return X_train, X_test, y_train, y_test\n"
   ]
  },
  {
   "cell_type": "markdown",
   "metadata": {},
   "source": [
    "<span style=\"font-size:30px; font-weight:bold;\">Aplicando las funciones al conjunto de datos </span>"
   ]
  },
  {
   "cell_type": "code",
   "execution_count": 65,
   "metadata": {},
   "outputs": [],
   "source": [
    "ti_df = tweak_titanic(orig_df)\n",
    "std_cols = \"pclass,age,sibsp,fare\".split(\",\")\n",
    "X_train, X_test, y_train, y_test = get_train_test_X_y(ti_df, \"survived\", std_cols=std_cols)\n"
   ]
  },
  {
   "cell_type": "markdown",
   "metadata": {},
   "source": [
    "# Procesamiento con machine Learning"
   ]
  },
  {
   "cell_type": "markdown",
   "metadata": {},
   "source": [
    "*El valor de 0.5699 es la precisión del modelo DummyClassifier en los datos de prueba. Esta precisión representa la proporción de predicciones correctas que el modelo Dummy hizo en el conjunto de datos de prueba. En otras palabras, el 56.99% de las predicciones realizadas por el modelo Dummy fueron correctas en tus datos de prueba.*\n",
    "\n",
    "*Dado que el modelo Dummy es un modelo muy simple que toma decisiones aleatorias o basadas en reglas muy simples, su precisión es relativamente baja. En este caso, una precisión de aproximadamente 0.57 indica que, en promedio, el modelo Dummy acertó alrededor del 57% de las veces en los ejemplos de prueba.*\n",
    "\n",
    "*Este valor puede servir como referencia para comparar con otros modelos más avanzados que puedas entrenar. Por lo general, deseas que tus modelos reales tengan una precisión mucho mayor que la del modelo Dummy para considerarlos efectivos en la tarea que estás abordando.*"
   ]
  },
  {
   "cell_type": "markdown",
   "metadata": {},
   "source": [
    "# Procesamiento con machine Learning"
   ]
  },
  {
   "cell_type": "markdown",
   "metadata": {},
   "source": [
    "<span style=\"font-size:20px; font-weight:bold;\">Estimadores de prueba : CLASIFICADOS DUMMY</span>\n"
   ]
  },
  {
   "cell_type": "markdown",
   "metadata": {},
   "source": [
    "\n",
    "*Un clasificador **`\"Dummy (Dummy Classifier)\"`** es un tipo de clasificador que se utiliza como referencia básica o línea base para evaluar el rendimiento de otros clasificadores más complejos. A diferencia de los clasificadores más avanzados, un clasificador Dummy toma decisiones de clasificación de manera simple y siguiendo reglas predefinidas, sin aprender de los datos.*\n",
    "\n",
    "*Existen dos tipos principales de clasificadores Dummy:*\n",
    "\n",
    "**`Clasificador Dummy Estratificado (Stratified)`**: *Este tipo de clasificador asigna las clases a las instancias en proporciones proporcionales a la frecuencia de las clases en el conjunto de entrenamiento. Por ejemplo, si tienes un conjunto de datos con dos clases, una representando el 70% de las instancias y la otra el 30%, un clasificador Dummy Estratificado asignará las clases de manera que refleje esa proporción.*\n",
    "\n",
    "**`Clasificador Dummy Aleatorio (Random):`** *Este clasificador toma decisiones de clasificación de manera completamente aleatoria. No tiene en cuenta la distribución de clases en el conjunto de entrenamiento y, por lo tanto, sus predicciones son completamente al azar. Este tipo de clasificador se utiliza para establecer un punto de referencia muy básico.*\n"
   ]
  },
  {
   "cell_type": "markdown",
   "metadata": {},
   "source": [
    "***Cuando se realiza un aprendizaje supervisado, una simple comprobación de cordura consiste en comparar el estimador propio con reglas simples.*** `DummyClassifier` implementa varias de estas estrategias simples para la clasificación:\n",
    "\n",
    "- **`stratified`:** genera predicciones aleatorias respetando la distribución de la clase del conjunto de entrenamiento.\n",
    "\n",
    "- **`most_frequent`:** siempre predice la etiqueta más frecuente en el conjunto de entrenamiento.\n",
    "\n",
    "- **`prior`:** siempre predice la clase que maximiza la clase anterior (como `most_frequent`) y `predict_proba` devuelve la clase anterior.\n",
    "\n",
    "- **`uniform`:** genera predicciones uniformemente al azar.\n",
    "\n",
    "- **`constant`:** siempre predice un valor constante proporcionado por el usuario.\n",
    "\n",
    "Una motivación importante de este método es la puntuación F1, cuando la clase positiva está en la minoría.\n",
    "\n",
    "\n",
    "Manual: \"https://qu4nt.github.io/sklearn-doc-es/modules/generated/sklearn.dummy.DummyClassifier.html#sklearn.dummy.DummyClassifier\""
   ]
  },
  {
   "cell_type": "code",
   "execution_count": 66,
   "metadata": {},
   "outputs": [
    {
     "name": "stdout",
     "output_type": "stream",
     "text": [
      "|                            Modelo                             |                             Parámetros                              |   Score en conjunto de prueba |\n",
      "|:-------------------------------------------------------------:|:-------------------------------------------------------------------:|------------------------------:|\n",
      "|           Dummy Classifier con valores por defecto            |    {'constant': None, 'random_state': None, 'strategy': 'prior'}    |                      0.569975 |\n",
      "|           Dummy Classifier con estrategia uniforme            |    {'constant': None, 'random_state': 42, 'strategy': 'uniform'}    |                      0.483461 |\n",
      "| Dummy Classifier con estrategia constante y valor entre 0 y 1 |     {'constant': 0, 'random_state': 42, 'strategy': 'constant'}     |                      0.569975 |\n",
      "|         Dummy Classifier con estrategia estratificada         |  {'constant': None, 'random_state': 42, 'strategy': 'stratified'}   |                      0.486005 |\n",
      "|        Dummy Classifier con estrategia 'most_frequent'        | {'constant': None, 'random_state': 42, 'strategy': 'most_frequent'} |                      0.569975 |\n"
     ]
    }
   ],
   "source": [
    "\n",
    "# Dummy Classifier con valores por defecto (strategy='prior')\n",
    "bm = DummyClassifier()\n",
    "bm.fit(X_train, y_train)\n",
    "table_default = [\n",
    "    [\"Dummy Classifier con valores por defecto\", bm.get_params(), bm.score(X_test, y_test)]\n",
    "]\n",
    "\n",
    "# Dummy Classifier con estrategia uniforme\n",
    "bm = DummyClassifier(constant=None, random_state=42, strategy='uniform')\n",
    "bm.fit(X_train, y_train)\n",
    "table_uniform = [\n",
    "    [\"Dummy Classifier con estrategia uniforme\", bm.get_params(), bm.score(X_test, y_test)]\n",
    "]\n",
    "\n",
    "# Dummy Classifier con estrategia constante y valor entre 0 y 1\n",
    "constante = 0\n",
    "bm = DummyClassifier(constant=constante, random_state=42, strategy='constant')\n",
    "bm.fit(X_train, y_train)\n",
    "table_constant = [\n",
    "    [\"Dummy Classifier con estrategia constante y valor entre 0 y 1\", bm.get_params(), bm.score(X_test, y_test)]\n",
    "]\n",
    "\n",
    "# Dummy Classifier con estrategia estratificada\n",
    "bm = DummyClassifier(constant=None, random_state=42, strategy='stratified')\n",
    "bm.fit(X_train, y_train)\n",
    "table_stratified = [\n",
    "    [\"Dummy Classifier con estrategia estratificada\", bm.get_params(), bm.score(X_test, y_test)]\n",
    "]\n",
    "\n",
    "# Dummy Classifier con estrategia 'most_frequent'\n",
    "bm = DummyClassifier(random_state=42, strategy='most_frequent')\n",
    "bm.fit(X_train, y_train)\n",
    "table_most_frequent = [\n",
    "    [\"Dummy Classifier con estrategia 'most_frequent'\", bm.get_params(), bm.score(X_test, y_test)]\n",
    "]\n",
    "\n",
    "# Imprimir la tabla en formato Markdown\n",
    "table = table_default + table_uniform + table_constant + table_stratified + table_most_frequent\n",
    "print(tabulate(table, headers=[\"Modelo\", \"Parámetros\", \"Score en conjunto de prueba\"], tablefmt=\"pipe\", stralign=\"center\"))\n"
   ]
  },
  {
   "cell_type": "markdown",
   "metadata": {},
   "source": [
    "<span style=\"font-size:30px; font-weight:bold;\">Diferentes modelos de \"Machine Learning\" : DUMMYCLASSIFIER-LOGISTICREGRESSION-DECISIONTREECLASSIFIER-KNEIGHBORSCALSSIFIER-GAUSSIANNB-SVC-RANDOMFORESTCLASSIFIER-XGBCLASSIFIER</span>"
   ]
  },
  {
   "cell_type": "code",
   "execution_count": 67,
   "metadata": {},
   "outputs": [
    {
     "name": "stdout",
     "output_type": "stream",
     "text": [
      "--------------------------------------------------------------------\n",
      "DummyClassifier - Mean accuracy: 0.6180\n",
      "[0.66463415 0.62804878 0.62804878 0.54878049 0.6402439  0.62576687\n",
      " 0.60122699 0.60736196]\n",
      "--------------------------------------------------------------------\n",
      "--------------------------------------------------------------------\n",
      "LogisticRegression - Mean accuracy: 0.7922\n",
      "[0.80487805 0.79268293 0.81707317 0.82317073 0.73170732 0.79141104\n",
      " 0.77300613 0.80368098]\n",
      "--------------------------------------------------------------------\n",
      "--------------------------------------------------------------------\n",
      "DecisionTreeClassifier - Mean accuracy: 0.7685\n",
      "[0.76219512 0.76829268 0.79268293 0.77439024 0.79878049 0.7607362\n",
      " 0.75460123 0.73619632]\n",
      "--------------------------------------------------------------------\n",
      "--------------------------------------------------------------------\n",
      "KNeighborsClassifier - Mean accuracy: 0.7838\n",
      "[0.81097561 0.79878049 0.81707317 0.73780488 0.76829268 0.78527607\n",
      " 0.74846626 0.80368098]\n",
      "--------------------------------------------------------------------\n",
      "--------------------------------------------------------------------\n",
      "GaussianNB - Mean accuracy: 0.7716\n",
      "[0.7804878  0.75609756 0.81707317 0.76219512 0.76829268 0.77300613\n",
      " 0.74233129 0.77300613]\n",
      "--------------------------------------------------------------------\n",
      "--------------------------------------------------------------------\n",
      "SVC - Mean accuracy: 0.8052\n",
      "[0.82317073 0.82317073 0.82317073 0.79878049 0.78658537 0.79141104\n",
      " 0.80368098 0.79141104]\n",
      "--------------------------------------------------------------------\n"
     ]
    },
    {
     "name": "stdout",
     "output_type": "stream",
     "text": [
      "--------------------------------------------------------------------\n",
      "RandomForestClassifier - Mean accuracy: 0.7853\n",
      "[0.79878049 0.7804878  0.7804878  0.76829268 0.78658537 0.79141104\n",
      " 0.79141104 0.78527607]\n",
      "--------------------------------------------------------------------\n",
      "--------------------------------------------------------------------\n",
      "XGBClassifier - Mean accuracy: 0.7945\n",
      "[0.80487805 0.80487805 0.80487805 0.76829268 0.79878049 0.79754601\n",
      " 0.79141104 0.78527607]\n",
      "--------------------------------------------------------------------\n"
     ]
    }
   ],
   "source": [
    "# Preparacion de lada a ser utilizada \n",
    "X = pd.concat([X_train, X_test])\n",
    "y = pd.concat([y_train, y_test])\n",
    "# Definicion de los valores \n",
    "models = [\n",
    "    DummyClassifier(),\n",
    "    LogisticRegression(),\n",
    "    DecisionTreeClassifier(),\n",
    "    KNeighborsClassifier(),\n",
    "    GaussianNB(),\n",
    "    SVC(),\n",
    "    RandomForestClassifier(),\n",
    "    xgboost.XGBClassifier()\n",
    "]\n",
    "\n",
    "# Lista para armazenar as pontuações médias\n",
    "mean_scores = []\n",
    "\n",
    "for model in models:\n",
    "    #Crea un objeto KFold que se utilizará para realizar la validación cruzada k-fold. \n",
    "    # En este caso, se están realizando 10 divisiones (n_splits=10) \n",
    "    # los datos se barajan antes de dividirlos (shuffle=True)\n",
    "    # se establece una semilla aleatoria para reproducibilidad (random_state=42)\n",
    "    kfold = model_selection.KFold(n_splits=8, shuffle=True, random_state=42)\n",
    "    #Utiliza la función cross_val_score para realizar la validación cruzada para el modelo actual (model). \n",
    "    # Se evalúa el rendimiento del modelo utilizando los datos de entrada X y las etiquetas y con el esquema de validación cruzada definido por kfold. \n",
    "    # El resultado es una lista de puntuaciones de rendimiento para cada división.\n",
    "    scores = model_selection.cross_val_score(model, X, y, cv=kfold)\n",
    "    mean_scores.append(scores.mean())\n",
    "    print(\"--------------------------------------------------------------------\")\n",
    "    print(f'{model.__class__.__name__} - Mean accuracy: {scores.mean():.4f}')\n",
    "    print(scores)\n",
    "    print(\"--------------------------------------------------------------------\")"
   ]
  },
  {
   "cell_type": "markdown",
   "metadata": {},
   "source": [
    "*Codigo para efectuar una comparacion de iteracion del parametro k*\n",
    "\n",
    "X = pd.concat([X_train, X_test])\n",
    "y = pd.concat([y_train, y_test])\n",
    "\n",
    "Definicion de los valores \n",
    "\n",
    "models = [\n",
    "    DummyClassifier(),\n",
    "    LogisticRegression(),\n",
    "    DecisionTreeClassifier(),\n",
    "    KNeighborsClassifier(),\n",
    "    GaussianNB(),\n",
    "    SVC(),\n",
    "    RandomForestClassifier(),\n",
    "    xgboost.XGBClassifier()\n",
    "]\n",
    "\n",
    "Lista para armazenar as pontuações médias\n",
    "mean_scores = []\n",
    "for model in models:\n",
    "    # Iterar sobre el número de divisiones en la validación cruzada (k)\n",
    "    for k in range(2, 20):\n",
    "        kfold = model_selection.KFold(n_splits=k, shuffle=True, random_state=42)\n",
    "        scores = model_selection.cross_val_score(model, X, y, cv=kfold)\n",
    "        mean_score = scores.mean()\n",
    "        print(\"------------------------------------------------------------\")\n",
    "        print(f'{model.__class__.__name__} - Mean accuracy for k={k}: {mean_score:.4f}')\n",
    "        print(\"Individual scores:\")\n",
    "        print(scores)\n",
    "        print(\"------------------------------------------------------------\")\n"
   ]
  },
  {
   "cell_type": "code",
   "execution_count": 68,
   "metadata": {},
   "outputs": [
    {
     "name": "stdout",
     "output_type": "stream",
     "text": [
      "-----------------------------------------------------------------\n",
      "La lista de valores de k es: \n",
      "[2, 3, 4, 5, 6, 7, 8, 9, 10, 11, 12, 13, 14, 15, 16, 17, 18, 19, 20]\n",
      "El modelo es:\n",
      "DummyClassifier()\n",
      "la lista que contiene los valores de k promedio de cada iteracion es:\n",
      "[0.6180299740878212, 0.6180116725799341, 0.6180073842022824, 0.6180135123278055, 0.6180127909737059, 0.6180290297937356, 0.6180139907227293, 0.6180234083871307, 0.6180035231943628, 0.6180290297937356, 0.6180011120378093, 0.6180502665651181, 0.618026277085989, 0.6179641239986068, 0.6179802770249925, 0.6180290297937356, 0.618034415694233, 0.6179835778705074, 0.618018648018648]\n",
      "El valor maximo es :\n",
      "0.6180502665651181\n",
      "En el valor de k igual a :\n",
      "13\n",
      "-----------------------------------------------------------------\n",
      "-----------------------------------------------------------------\n",
      "La lista de valores de k es: \n",
      "[2, 3, 4, 5, 6, 7, 8, 9, 10, 11, 12, 13, 14, 15, 16, 17, 18, 19, 20]\n",
      "El modelo es:\n",
      "LogisticRegression()\n",
      "la lista que contiene los valores de k promedio de cada iteracion es:\n",
      "[0.7799787566823073, 0.7883872525350072, 0.7860912210039531, 0.7876224737504021, 0.7929775320123441, 0.7929717341482047, 0.7922012943288943, 0.7875872566000105, 0.7906928948913682, 0.7891520244461422, 0.7898874061718097, 0.7922086824067022, 0.7936644115436154, 0.7907088122605366, 0.7937462360734717, 0.7899159663865546, 0.7899331980382209, 0.7937586934087136, 0.7928904428904431]\n",
      "El valor maximo es :\n",
      "0.7937586934087136\n",
      "En el valor de k igual a :\n",
      "19\n",
      "-----------------------------------------------------------------\n",
      "-----------------------------------------------------------------\n",
      "La lista de valores de k es: \n",
      "[2, 3, 4, 5, 6, 7, 8, 9, 10, 11, 12, 13, 14, 15, 16, 17, 18, 19, 20]\n",
      "El modelo es:\n",
      "DecisionTreeClassifier()\n",
      "la lista que contiene los valores de k promedio de cada iteracion es:\n",
      "[0.7486635385297757, 0.7448460101190352, 0.7601276385470277, 0.7662367289637624, 0.7616389482356555, 0.7669977081741788, 0.7722907002843035, 0.7677846008502597, 0.7730945390487375, 0.7738731856378915, 0.7738254100639422, 0.7761309977151563, 0.7731068405399222, 0.7654475792406826, 0.7685185185185186, 0.7708174178762414, 0.7623985286656519, 0.7700341005967605, 0.7723776223776225]\n",
      "El valor maximo es :\n",
      "0.7761309977151563\n",
      "En el valor de k igual a :\n",
      "13\n",
      "-----------------------------------------------------------------\n",
      "-----------------------------------------------------------------\n",
      "La lista de valores de k es: \n",
      "[2, 3, 4, 5, 6, 7, 8, 9, 10, 11, 12, 13, 14, 15, 16, 17, 18, 19, 20]\n",
      "El modelo es:\n",
      "KNeighborsClassifier()\n",
      "la lista que contiene los valores de k promedio de cada iteracion es:\n",
      "[0.7647057450334991, 0.7631701411486436, 0.7753901879615127, 0.784554414904507, 0.7753934341530169, 0.7822765469824294, 0.783793767768966, 0.7883745341940902, 0.7876394597768643, 0.7906799083269672, 0.7860856269113151, 0.7921706016755523, 0.7891296532339771, 0.7975269940787182, 0.7906598163203855, 0.7906799083269672, 0.7944782682225604, 0.7899223762731639, 0.7937062937062938]\n",
      "El valor maximo es :\n",
      "0.7975269940787182\n",
      "En el valor de k igual a :\n",
      "15\n",
      "-----------------------------------------------------------------\n",
      "-----------------------------------------------------------------\n",
      "La lista de valores de k es: \n",
      "[2, 3, 4, 5, 6, 7, 8, 9, 10, 11, 12, 13, 14, 15, 16, 17, 18, 19, 20]\n",
      "El modelo es:\n",
      "GaussianNB()\n",
      "la lista que contiene los valores de k promedio de cada iteracion es:\n",
      "[0.755536101967925, 0.7685305705428309, 0.7685281009920191, 0.7715773156678658, 0.7723562760951225, 0.7662337662337662, 0.7715612374682028, 0.7692699312444236, 0.7723429242513211, 0.7761650114591291, 0.774596886294134, 0.7753693830921553, 0.7761136712749616, 0.7784743991640544, 0.7768932550436616, 0.7784568372803667, 0.7784225435481144, 0.7761811818548928, 0.7776456876456879]\n",
      "El valor maximo es :\n",
      "0.7784743991640544\n",
      "En el valor de k igual a :\n",
      "15\n",
      "-----------------------------------------------------------------\n",
      "-----------------------------------------------------------------\n",
      "La lista de valores de k es: \n",
      "[2, 3, 4, 5, 6, 7, 8, 9, 10, 11, 12, 13, 14, 15, 16, 17, 18, 19, 20]\n",
      "El modelo es:\n",
      "SVC()\n",
      "la lista que contiene los valores de k promedio de cada iteracion es:\n",
      "[0.7937355557111843, 0.8044213045577647, 0.8036520101439546, 0.8059518586762598, 0.8067145629983382, 0.8082505729564554, 0.8051726395331438, 0.8067023565842649, 0.8074750440399295, 0.8097784568372804, 0.8089797053099805, 0.8090175171363291, 0.8089518580252966, 0.8097265761058864, 0.8074657482685939, 0.8082505729564553, 0.8082614578048368, 0.810528559249787, 0.808939393939394]\n",
      "El valor maximo es :\n",
      "0.810528559249787\n",
      "En el valor de k igual a :\n",
      "19\n",
      "-----------------------------------------------------------------\n",
      "-----------------------------------------------------------------\n",
      "La lista de valores de k es: \n",
      "[2, 3, 4, 5, 6, 7, 8, 9, 10, 11, 12, 13, 14, 15, 16, 17, 18, 19, 20]\n",
      "El modelo es:\n",
      "RandomForestClassifier()\n",
      "la lista que contiene los valores de k promedio de cada iteracion es:\n",
      "[0.768521371711371, 0.7715886745183661, 0.7845668307600507, 0.789149191307654, 0.784557273120802, 0.7899159663865546, 0.7899147089630405, 0.7869049493518081, 0.7845449207281268, 0.7967914438502675, 0.7975465665832638, 0.7991012947448591, 0.7945059973199987, 0.7921630094043886, 0.795261216501054, 0.7929717341482048, 0.798315153052596, 0.7906627181765153, 0.7891724941724944]\n",
      "El valor maximo es :\n",
      "0.7991012947448591\n",
      "En el valor de k igual a :\n",
      "13\n",
      "-----------------------------------------------------------------\n",
      "-----------------------------------------------------------------\n",
      "La lista de valores de k es: \n",
      "[2, 3, 4, 5, 6, 7, 8, 9, 10, 11, 12, 13, 14, 15, 16, 17, 18, 19, 20]\n",
      "El modelo es:\n",
      "XGBClassifier(base_score=None, booster=None, callbacks=None,\n",
      "              colsample_bylevel=None, colsample_bynode=None,\n",
      "              colsample_bytree=None, device=None, early_stopping_rounds=None,\n",
      "              enable_categorical=False, eval_metric=None, feature_types=None,\n",
      "              gamma=None, grow_policy=None, importance_type=None,\n",
      "              interaction_constraints=None, learning_rate=None, max_bin=None,\n",
      "              max_cat_threshold=None, max_cat_to_onehot=None,\n",
      "              max_delta_step=None, max_depth=None, max_leaves=None,\n",
      "              min_child_weight=None, missing=nan, monotone_constraints=None,\n",
      "              multi_strategy=None, n_estimators=None, n_jobs=None,\n",
      "              num_parallel_tree=None, random_state=None, ...)\n",
      "la lista que contiene los valores de k promedio de cada iteracion es:\n",
      "[0.7761654644349512, 0.7784641600011196, 0.7967805996867309, 0.797551987365096, 0.7983222319969837, 0.8021390374331551, 0.7944925557384408, 0.8074738886264631, 0.7983206106870229, 0.8067226890756303, 0.8028843480678344, 0.8037166793602437, 0.8051851488708044, 0.7982932776036225, 0.7991098313760915, 0.8029029793735676, 0.8060206325046507, 0.8006236819670661, 0.7953613053613054]\n",
      "El valor maximo es :\n",
      "0.8074738886264631\n",
      "En el valor de k igual a :\n",
      "9\n",
      "-----------------------------------------------------------------\n"
     ]
    }
   ],
   "source": [
    "X = pd.concat([X_train, X_test])\n",
    "y = pd.concat([y_train, y_test])\n",
    "\n",
    "# Definicion de las funciones\n",
    "models = [\n",
    "    DummyClassifier(),\n",
    "    LogisticRegression(),\n",
    "    DecisionTreeClassifier(),\n",
    "    KNeighborsClassifier(),\n",
    "    GaussianNB(),\n",
    "    SVC(),\n",
    "    RandomForestClassifier(),\n",
    "    xgboost.XGBClassifier()\n",
    "]\n",
    "\n",
    "# Crear una lista con los valores del rango\n",
    "rango_inferior=2\n",
    "rango_superior=20\n",
    "lista_valores = list(range(rango_inferior, rango_superior+1))\n",
    "\n",
    "# Lista para armazenar as pontuações médias\n",
    "mean_scores = []\n",
    "for model in models:\n",
    "    mean_scores_iteracion=[]\n",
    "    # Iterar sobre el número de divisiones en la validación cruzada (k)\n",
    "    # Definir los intervalos de divisiones cruzadas\n",
    "    for k in range(rango_inferior, rango_superior+1):\n",
    "        kfold = model_selection.KFold(n_splits=k, shuffle=True, random_state=42)\n",
    "        scores = model_selection.cross_val_score(model, X, y, cv=kfold)\n",
    "        mean_score = scores.mean()\n",
    "        mean_scores_iteracion.append(mean_score)\n",
    "    print(\"-----------------------------------------------------------------\")\n",
    "    print(\"La lista de valores de k es: \")\n",
    "    print(lista_valores)\n",
    "    print(\"El modelo es:\")\n",
    "    print(model)\n",
    "    print(\"la lista que contiene los valores de k promedio de cada iteracion es:\")\n",
    "    print(mean_scores_iteracion) \n",
    "    print(\"El valor maximo es :\")\n",
    "    valor_maximo = max(mean_scores_iteracion)\n",
    "    print(valor_maximo)\n",
    "    print(\"En el valor de k igual a :\")\n",
    "    posicion_valor_maximo = mean_scores_iteracion.index(valor_maximo)\n",
    "    valor=lista_valores[posicion_valor_maximo]\n",
    "    print(valor)\n",
    "    print(\"-----------------------------------------------------------------\")\n",
    "\n"
   ]
  },
  {
   "cell_type": "markdown",
   "metadata": {},
   "source": [
    "# Analisis de los resultados \n",
    "\n",
    "**El resultado que se ha proporcionado muestra la precisión media de varios modelos de aprendizaje automático cuando se evalúan utilizando \"validación cruzada de 10 pliegues\". Aquí tienes lo que significa:**\n",
    "\n",
    "**Cuando se realiza validación cruzada de 10 pliegues en un conjunto de datos, significa que el conjunto de datos se divide en 10 partes iguales o \"pliegues\". Luego, se entrena y evalúa un modelo en 10 iteraciones diferentes. En cada iteración, se utiliza un pliegue diferente como conjunto de prueba, mientras que los otros 9 pliegues se utilizan como conjunto de entrenamiento. Esto permite evaluar el rendimiento del modelo de manera más robusta, ya que se prueban múltiples combinaciones de datos de entrenamiento y prueba.**\n",
    "**La \"precisión media\" se refiere al promedio de las medidas de precisión obtenidas en las 10 iteraciones de la validación cruzada. La precisión es una métrica común utilizada en problemas de clasificación y mide la proporción de predicciones correctas realizadas por el modelo. La precisión media representa el rendimiento general promedio de los modelos en las 10 pruebas.**\n",
    "\n",
    "**\"DummyClassifier - Precisión media\"**: *0.6180-El Dummy Classifier es un clasificador simple que realiza predicciones aleatorias. La precisión media de este modelo, después de ejecutar la validación cruzada de 10 pliegues, es aproximadamente 0.6180. Esto indica que su desempeño es pobre y no realiza predicciones significativas.*\n",
    "\n",
    "**\"LogisticRegression - Precisión media\"**: *0.7907-La Regresión Logística es un modelo de clasificación lineal común. La precisión media de este modelo es aproximadamente 0.7907, lo que sugiere que se desempeña razonablemente bien en la clasificación de los datos.*\n",
    "\n",
    "**\"DecisionTreeClassifier - Precisión media\"**: *0.7685-El Clasificador de Árbol de Decisión es un modelo no lineal que aprende reglas de decisión. Su precisión media es aproximadamente 0.7685, lo que indica un desempeño decente.*\n",
    "\n",
    "**\"KNeighborsClassifier - Precisión media\"**: *0.7876-El Clasificador de K-Vecinos más Cercanos es un modelo no lineal que clasifica datos en función de la clase mayoritaria de sus vecinos más cercanos. La precisión media es aproximadamente 0.7876.*\n",
    "\n",
    "**\"GaussianNB - Precisión media\"**: *0.7723-El Naive Bayes Gaussiano es un modelo de clasificación probabilística. Su precisión media es alrededor de 0.7723.*\n",
    "\n",
    "**\"SVC - Precisión media\"**: *0.8075-La Máquina de Soporte Vectorial (SVC) es un algoritmo de clasificación potente. Muestra una precisión media de aproximadamente 0.8075, lo que indica un buen desempeño.*\n",
    "\n",
    "**\"RandomForestClassifier-Precisión media**: *0.7876-Random Forest es un método de conjunto que utiliza múltiples árboles de decisión. Tiene una precisión media similar a la del modelo de K-Vecinos más Cercanos, aproximadamente 0.7876.*\n",
    "\n",
    "**\"XGBClassifier - Precisión media\"**: *0.7983-XGBoost es un método de conjunto avanzado. Tiene la precisión media más alta en tu lista, alrededor de 0.7983, lo que indica un sólido desempeño.*\n",
    "\n",
    "*En resumen, los valores de precisión media proporcionan una estimación de qué tan bien cada modelo se desempeña en tu conjunto de datos. Una precisión más alta significa que el modelo es mejor para hacer predicciones. Normalmente, elegirías el modelo con la precisión más alta para tu tarea específica, pero también debes considerar otros factores como la complejidad del modelo, la interpretabilidad y la naturaleza del problema.*"
   ]
  },
  {
   "cell_type": "code",
   "execution_count": 69,
   "metadata": {},
   "outputs": [
    {
     "ename": "ValueError",
     "evalue": "shape mismatch: objects cannot be broadcast to a single shape.  Mismatch is between arg 2 with shape (0,) and arg 3 with shape (8,).",
     "output_type": "error",
     "traceback": [
      "\u001b[1;31m---------------------------------------------------------------------------\u001b[0m",
      "\u001b[1;31mValueError\u001b[0m                                Traceback (most recent call last)",
      "\u001b[1;32mc:\\Users\\felip\\OneDrive\\Documentos\\Python\\Codigos\\Ciencia_Datos\\Cap3_Dataejemplo\\titanic.ipynb Cell 90\u001b[0m line \u001b[0;36m3\n\u001b[0;32m      <a href='vscode-notebook-cell:/c%3A/Users/felip/OneDrive/Documentos/Python/Codigos/Ciencia_Datos/Cap3_Dataejemplo/titanic.ipynb#Y142sZmlsZQ%3D%3D?line=0'>1</a>\u001b[0m \u001b[39m# Criar um gráfico de barras\u001b[39;00m\n\u001b[0;32m      <a href='vscode-notebook-cell:/c%3A/Users/felip/OneDrive/Documentos/Python/Codigos/Ciencia_Datos/Cap3_Dataejemplo/titanic.ipynb#Y142sZmlsZQ%3D%3D?line=1'>2</a>\u001b[0m plt\u001b[39m.\u001b[39mfigure(figsize\u001b[39m=\u001b[39m(\u001b[39m10\u001b[39m, \u001b[39m6\u001b[39m))\n\u001b[1;32m----> <a href='vscode-notebook-cell:/c%3A/Users/felip/OneDrive/Documentos/Python/Codigos/Ciencia_Datos/Cap3_Dataejemplo/titanic.ipynb#Y142sZmlsZQ%3D%3D?line=2'>3</a>\u001b[0m plt\u001b[39m.\u001b[39;49mbarh([\u001b[39mstr\u001b[39;49m(model\u001b[39m.\u001b[39;49m\u001b[39m__class__\u001b[39;49m\u001b[39m.\u001b[39;49m\u001b[39m__name__\u001b[39;49m) \u001b[39mfor\u001b[39;49;00m model \u001b[39min\u001b[39;49;00m models], mean_scores, color\u001b[39m=\u001b[39;49m\u001b[39m'\u001b[39;49m\u001b[39mskyblue\u001b[39;49m\u001b[39m'\u001b[39;49m)\n\u001b[0;32m      <a href='vscode-notebook-cell:/c%3A/Users/felip/OneDrive/Documentos/Python/Codigos/Ciencia_Datos/Cap3_Dataejemplo/titanic.ipynb#Y142sZmlsZQ%3D%3D?line=3'>4</a>\u001b[0m plt\u001b[39m.\u001b[39mxlabel(\u001b[39m'\u001b[39m\u001b[39mMean Accuracy\u001b[39m\u001b[39m'\u001b[39m)\n\u001b[0;32m      <a href='vscode-notebook-cell:/c%3A/Users/felip/OneDrive/Documentos/Python/Codigos/Ciencia_Datos/Cap3_Dataejemplo/titanic.ipynb#Y142sZmlsZQ%3D%3D?line=4'>5</a>\u001b[0m plt\u001b[39m.\u001b[39mtitle(\u001b[39m'\u001b[39m\u001b[39mMean Accuracy of Different Models\u001b[39m\u001b[39m'\u001b[39m)\n",
      "File \u001b[1;32mc:\\Users\\felip\\OneDrive\\Documentos\\Python\\Codigos\\Ciencia_Datos\\datos\\Lib\\site-packages\\matplotlib\\pyplot.py:2771\u001b[0m, in \u001b[0;36mbarh\u001b[1;34m(y, width, height, left, align, data, **kwargs)\u001b[0m\n\u001b[0;32m   2760\u001b[0m \u001b[39m@_copy_docstring_and_deprecators\u001b[39m(Axes\u001b[39m.\u001b[39mbarh)\n\u001b[0;32m   2761\u001b[0m \u001b[39mdef\u001b[39;00m \u001b[39mbarh\u001b[39m(\n\u001b[0;32m   2762\u001b[0m     y: \u001b[39mfloat\u001b[39m \u001b[39m|\u001b[39m ArrayLike,\n\u001b[1;32m   (...)\u001b[0m\n\u001b[0;32m   2769\u001b[0m     \u001b[39m*\u001b[39m\u001b[39m*\u001b[39mkwargs,\n\u001b[0;32m   2770\u001b[0m ) \u001b[39m-\u001b[39m\u001b[39m>\u001b[39m BarContainer:\n\u001b[1;32m-> 2771\u001b[0m     \u001b[39mreturn\u001b[39;00m gca()\u001b[39m.\u001b[39;49mbarh(\n\u001b[0;32m   2772\u001b[0m         y,\n\u001b[0;32m   2773\u001b[0m         width,\n\u001b[0;32m   2774\u001b[0m         height\u001b[39m=\u001b[39;49mheight,\n\u001b[0;32m   2775\u001b[0m         left\u001b[39m=\u001b[39;49mleft,\n\u001b[0;32m   2776\u001b[0m         align\u001b[39m=\u001b[39;49malign,\n\u001b[0;32m   2777\u001b[0m         \u001b[39m*\u001b[39;49m\u001b[39m*\u001b[39;49m({\u001b[39m\"\u001b[39;49m\u001b[39mdata\u001b[39;49m\u001b[39m\"\u001b[39;49m: data} \u001b[39mif\u001b[39;49;00m data \u001b[39mis\u001b[39;49;00m \u001b[39mnot\u001b[39;49;00m \u001b[39mNone\u001b[39;49;00m \u001b[39melse\u001b[39;49;00m {}),\n\u001b[0;32m   2778\u001b[0m         \u001b[39m*\u001b[39;49m\u001b[39m*\u001b[39;49mkwargs,\n\u001b[0;32m   2779\u001b[0m     )\n",
      "File \u001b[1;32mc:\\Users\\felip\\OneDrive\\Documentos\\Python\\Codigos\\Ciencia_Datos\\datos\\Lib\\site-packages\\matplotlib\\axes\\_axes.py:2698\u001b[0m, in \u001b[0;36mAxes.barh\u001b[1;34m(self, y, width, height, left, align, data, **kwargs)\u001b[0m\n\u001b[0;32m   2579\u001b[0m \u001b[39m\u001b[39m\u001b[39mr\u001b[39m\u001b[39m\"\"\"\u001b[39;00m\n\u001b[0;32m   2580\u001b[0m \u001b[39mMake a horizontal bar plot.\u001b[39;00m\n\u001b[0;32m   2581\u001b[0m \n\u001b[1;32m   (...)\u001b[0m\n\u001b[0;32m   2695\u001b[0m \u001b[39m:doc:`/gallery/lines_bars_and_markers/horizontal_barchart_distribution`.\u001b[39;00m\n\u001b[0;32m   2696\u001b[0m \u001b[39m\"\"\"\u001b[39;00m\n\u001b[0;32m   2697\u001b[0m kwargs\u001b[39m.\u001b[39msetdefault(\u001b[39m'\u001b[39m\u001b[39morientation\u001b[39m\u001b[39m'\u001b[39m, \u001b[39m'\u001b[39m\u001b[39mhorizontal\u001b[39m\u001b[39m'\u001b[39m)\n\u001b[1;32m-> 2698\u001b[0m patches \u001b[39m=\u001b[39m \u001b[39mself\u001b[39;49m\u001b[39m.\u001b[39;49mbar(x\u001b[39m=\u001b[39;49mleft, height\u001b[39m=\u001b[39;49mheight, width\u001b[39m=\u001b[39;49mwidth, bottom\u001b[39m=\u001b[39;49my,\n\u001b[0;32m   2699\u001b[0m                    align\u001b[39m=\u001b[39;49malign, data\u001b[39m=\u001b[39;49mdata, \u001b[39m*\u001b[39;49m\u001b[39m*\u001b[39;49mkwargs)\n\u001b[0;32m   2700\u001b[0m \u001b[39mreturn\u001b[39;00m patches\n",
      "File \u001b[1;32mc:\\Users\\felip\\OneDrive\\Documentos\\Python\\Codigos\\Ciencia_Datos\\datos\\Lib\\site-packages\\matplotlib\\__init__.py:1478\u001b[0m, in \u001b[0;36m_preprocess_data.<locals>.inner\u001b[1;34m(ax, data, *args, **kwargs)\u001b[0m\n\u001b[0;32m   1475\u001b[0m \u001b[39m@functools\u001b[39m\u001b[39m.\u001b[39mwraps(func)\n\u001b[0;32m   1476\u001b[0m \u001b[39mdef\u001b[39;00m \u001b[39minner\u001b[39m(ax, \u001b[39m*\u001b[39margs, data\u001b[39m=\u001b[39m\u001b[39mNone\u001b[39;00m, \u001b[39m*\u001b[39m\u001b[39m*\u001b[39mkwargs):\n\u001b[0;32m   1477\u001b[0m     \u001b[39mif\u001b[39;00m data \u001b[39mis\u001b[39;00m \u001b[39mNone\u001b[39;00m:\n\u001b[1;32m-> 1478\u001b[0m         \u001b[39mreturn\u001b[39;00m func(ax, \u001b[39m*\u001b[39;49m\u001b[39mmap\u001b[39;49m(sanitize_sequence, args), \u001b[39m*\u001b[39;49m\u001b[39m*\u001b[39;49mkwargs)\n\u001b[0;32m   1480\u001b[0m     bound \u001b[39m=\u001b[39m new_sig\u001b[39m.\u001b[39mbind(ax, \u001b[39m*\u001b[39margs, \u001b[39m*\u001b[39m\u001b[39m*\u001b[39mkwargs)\n\u001b[0;32m   1481\u001b[0m     auto_label \u001b[39m=\u001b[39m (bound\u001b[39m.\u001b[39marguments\u001b[39m.\u001b[39mget(label_namer)\n\u001b[0;32m   1482\u001b[0m                   \u001b[39mor\u001b[39;00m bound\u001b[39m.\u001b[39mkwargs\u001b[39m.\u001b[39mget(label_namer))\n",
      "File \u001b[1;32mc:\\Users\\felip\\OneDrive\\Documentos\\Python\\Codigos\\Ciencia_Datos\\datos\\Lib\\site-packages\\matplotlib\\axes\\_axes.py:2457\u001b[0m, in \u001b[0;36mAxes.bar\u001b[1;34m(self, x, height, width, bottom, align, **kwargs)\u001b[0m\n\u001b[0;32m   2454\u001b[0m     \u001b[39mif\u001b[39;00m yerr \u001b[39mis\u001b[39;00m \u001b[39mnot\u001b[39;00m \u001b[39mNone\u001b[39;00m:\n\u001b[0;32m   2455\u001b[0m         yerr \u001b[39m=\u001b[39m \u001b[39mself\u001b[39m\u001b[39m.\u001b[39m_convert_dx(yerr, y0, y, \u001b[39mself\u001b[39m\u001b[39m.\u001b[39mconvert_yunits)\n\u001b[1;32m-> 2457\u001b[0m x, height, width, y, linewidth, hatch \u001b[39m=\u001b[39m np\u001b[39m.\u001b[39;49mbroadcast_arrays(\n\u001b[0;32m   2458\u001b[0m     \u001b[39m# Make args iterable too.\u001b[39;49;00m\n\u001b[0;32m   2459\u001b[0m     np\u001b[39m.\u001b[39;49matleast_1d(x), height, width, y, linewidth, hatch)\n\u001b[0;32m   2461\u001b[0m \u001b[39m# Now that units have been converted, set the tick locations.\u001b[39;00m\n\u001b[0;32m   2462\u001b[0m \u001b[39mif\u001b[39;00m orientation \u001b[39m==\u001b[39m \u001b[39m'\u001b[39m\u001b[39mvertical\u001b[39m\u001b[39m'\u001b[39m:\n",
      "File \u001b[1;32mc:\\Users\\felip\\OneDrive\\Documentos\\Python\\Codigos\\Ciencia_Datos\\datos\\Lib\\site-packages\\numpy\\lib\\stride_tricks.py:540\u001b[0m, in \u001b[0;36mbroadcast_arrays\u001b[1;34m(subok, *args)\u001b[0m\n\u001b[0;32m    533\u001b[0m \u001b[39m# nditer is not used here to avoid the limit of 32 arrays.\u001b[39;00m\n\u001b[0;32m    534\u001b[0m \u001b[39m# Otherwise, something like the following one-liner would suffice:\u001b[39;00m\n\u001b[0;32m    535\u001b[0m \u001b[39m# return np.nditer(args, flags=['multi_index', 'zerosize_ok'],\u001b[39;00m\n\u001b[0;32m    536\u001b[0m \u001b[39m#                  order='C').itviews\u001b[39;00m\n\u001b[0;32m    538\u001b[0m args \u001b[39m=\u001b[39m [np\u001b[39m.\u001b[39marray(_m, copy\u001b[39m=\u001b[39m\u001b[39mFalse\u001b[39;00m, subok\u001b[39m=\u001b[39msubok) \u001b[39mfor\u001b[39;00m _m \u001b[39min\u001b[39;00m args]\n\u001b[1;32m--> 540\u001b[0m shape \u001b[39m=\u001b[39m _broadcast_shape(\u001b[39m*\u001b[39;49margs)\n\u001b[0;32m    542\u001b[0m \u001b[39mif\u001b[39;00m \u001b[39mall\u001b[39m(array\u001b[39m.\u001b[39mshape \u001b[39m==\u001b[39m shape \u001b[39mfor\u001b[39;00m array \u001b[39min\u001b[39;00m args):\n\u001b[0;32m    543\u001b[0m     \u001b[39m# Common case where nothing needs to be broadcasted.\u001b[39;00m\n\u001b[0;32m    544\u001b[0m     \u001b[39mreturn\u001b[39;00m args\n",
      "File \u001b[1;32mc:\\Users\\felip\\OneDrive\\Documentos\\Python\\Codigos\\Ciencia_Datos\\datos\\Lib\\site-packages\\numpy\\lib\\stride_tricks.py:422\u001b[0m, in \u001b[0;36m_broadcast_shape\u001b[1;34m(*args)\u001b[0m\n\u001b[0;32m    417\u001b[0m \u001b[39m\u001b[39m\u001b[39m\"\"\"Returns the shape of the arrays that would result from broadcasting the\u001b[39;00m\n\u001b[0;32m    418\u001b[0m \u001b[39msupplied arrays against each other.\u001b[39;00m\n\u001b[0;32m    419\u001b[0m \u001b[39m\"\"\"\u001b[39;00m\n\u001b[0;32m    420\u001b[0m \u001b[39m# use the old-iterator because np.nditer does not handle size 0 arrays\u001b[39;00m\n\u001b[0;32m    421\u001b[0m \u001b[39m# consistently\u001b[39;00m\n\u001b[1;32m--> 422\u001b[0m b \u001b[39m=\u001b[39m np\u001b[39m.\u001b[39;49mbroadcast(\u001b[39m*\u001b[39;49margs[:\u001b[39m32\u001b[39;49m])\n\u001b[0;32m    423\u001b[0m \u001b[39m# unfortunately, it cannot handle 32 or more arguments directly\u001b[39;00m\n\u001b[0;32m    424\u001b[0m \u001b[39mfor\u001b[39;00m pos \u001b[39min\u001b[39;00m \u001b[39mrange\u001b[39m(\u001b[39m32\u001b[39m, \u001b[39mlen\u001b[39m(args), \u001b[39m31\u001b[39m):\n\u001b[0;32m    425\u001b[0m     \u001b[39m# ironically, np.broadcast does not properly handle np.broadcast\u001b[39;00m\n\u001b[0;32m    426\u001b[0m     \u001b[39m# objects (it treats them as scalars)\u001b[39;00m\n\u001b[0;32m    427\u001b[0m     \u001b[39m# use broadcasting to avoid allocating the full array\u001b[39;00m\n",
      "\u001b[1;31mValueError\u001b[0m: shape mismatch: objects cannot be broadcast to a single shape.  Mismatch is between arg 2 with shape (0,) and arg 3 with shape (8,)."
     ]
    },
    {
     "data": {
      "image/png": "[encoded data removed]",
      "text/plain": [
       "<Figure size 1000x600 with 1 Axes>"
      ]
     },
     "metadata": {},
     "output_type": "display_data"
    }
   ],
   "source": [
    "# Criar um gráfico de barras\n",
    "plt.figure(figsize=(10, 6))\n",
    "plt.barh([str(model.__class__.__name__) for model in models], mean_scores, color='skyblue')\n",
    "plt.xlabel('Mean Accuracy')\n",
    "plt.title('Mean Accuracy of Different Models')\n",
    "plt.xlim(0, 1.0)  \n",
    "plt.gca().invert_yaxis()  \n",
    "plt.show()"
   ]
  },
  {
   "cell_type": "markdown",
   "metadata": {},
   "source": [
    "# Creacion de un modelo"
   ]
  },
  {
   "cell_type": "markdown",
   "metadata": {},
   "source": [
    "*Una buena ventaja de los modelos basados ​​en árboles es que puedes inspeccionar la importancia de la característica. La importancia de la característica le indica cómo Cuánto contribuye una característica al modelo. Tenga en cuenta que eliminar el\n",
    "característica no significa que la puntuación disminuirá en consecuencia, ya que otras características pueden ser colineales (en este caso podríamos eliminar ya sea la columna sex_male o sex_female ya que tienen un perfecto correlación negativa*"
   ]
  },
  {
   "cell_type": "code",
   "execution_count": 70,
   "metadata": {},
   "outputs": [
    {
     "data": {
      "text/html": [
       "<style>#sk-container-id-1 {color: black;}#sk-container-id-1 pre{padding: 0;}#sk-container-id-1 div.sk-toggleable {background-color: white;}#sk-container-id-1 label.sk-toggleable__label {cursor: pointer;display: block;width: 100%;margin-bottom: 0;padding: 0.3em;box-sizing: border-box;text-align: center;}#sk-container-id-1 label.sk-toggleable__label-arrow:before {content: \"▸\";float: left;margin-right: 0.25em;color: #696969;}#sk-container-id-1 label.sk-toggleable__label-arrow:hover:before {color: black;}#sk-container-id-1 div.sk-estimator:hover label.sk-toggleable__label-arrow:before {color: black;}#sk-container-id-1 div.sk-toggleable__content {max-height: 0;max-width: 0;overflow: hidden;text-align: left;background-color: #f0f8ff;}#sk-container-id-1 div.sk-toggleable__content pre {margin: 0.2em;color: black;border-radius: 0.25em;background-color: #f0f8ff;}#sk-container-id-1 input.sk-toggleable__control:checked~div.sk-toggleable__content {max-height: 200px;max-width: 100%;overflow: auto;}#sk-container-id-1 input.sk-toggleable__control:checked~label.sk-toggleable__label-arrow:before {content: \"▾\";}#sk-container-id-1 div.sk-estimator input.sk-toggleable__control:checked~label.sk-toggleable__label {background-color: #d4ebff;}#sk-container-id-1 div.sk-label input.sk-toggleable__control:checked~label.sk-toggleable__label {background-color: #d4ebff;}#sk-container-id-1 input.sk-hidden--visually {border: 0;clip: rect(1px 1px 1px 1px);clip: rect(1px, 1px, 1px, 1px);height: 1px;margin: -1px;overflow: hidden;padding: 0;position: absolute;width: 1px;}#sk-container-id-1 div.sk-estimator {font-family: monospace;background-color: #f0f8ff;border: 1px dotted black;border-radius: 0.25em;box-sizing: border-box;margin-bottom: 0.5em;}#sk-container-id-1 div.sk-estimator:hover {background-color: #d4ebff;}#sk-container-id-1 div.sk-parallel-item::after {content: \"\";width: 100%;border-bottom: 1px solid gray;flex-grow: 1;}#sk-container-id-1 div.sk-label:hover label.sk-toggleable__label {background-color: #d4ebff;}#sk-container-id-1 div.sk-serial::before {content: \"\";position: absolute;border-left: 1px solid gray;box-sizing: border-box;top: 0;bottom: 0;left: 50%;z-index: 0;}#sk-container-id-1 div.sk-serial {display: flex;flex-direction: column;align-items: center;background-color: white;padding-right: 0.2em;padding-left: 0.2em;position: relative;}#sk-container-id-1 div.sk-item {position: relative;z-index: 1;}#sk-container-id-1 div.sk-parallel {display: flex;align-items: stretch;justify-content: center;background-color: white;position: relative;}#sk-container-id-1 div.sk-item::before, #sk-container-id-1 div.sk-parallel-item::before {content: \"\";position: absolute;border-left: 1px solid gray;box-sizing: border-box;top: 0;bottom: 0;left: 50%;z-index: -1;}#sk-container-id-1 div.sk-parallel-item {display: flex;flex-direction: column;z-index: 1;position: relative;background-color: white;}#sk-container-id-1 div.sk-parallel-item:first-child::after {align-self: flex-end;width: 50%;}#sk-container-id-1 div.sk-parallel-item:last-child::after {align-self: flex-start;width: 50%;}#sk-container-id-1 div.sk-parallel-item:only-child::after {width: 0;}#sk-container-id-1 div.sk-dashed-wrapped {border: 1px dashed gray;margin: 0 0.4em 0.5em 0.4em;box-sizing: border-box;padding-bottom: 0.4em;background-color: white;}#sk-container-id-1 div.sk-label label {font-family: monospace;font-weight: bold;display: inline-block;line-height: 1.2em;}#sk-container-id-1 div.sk-label-container {text-align: center;}#sk-container-id-1 div.sk-container {/* jupyter's `normalize.less` sets `[hidden] { display: none; }` but bootstrap.min.css set `[hidden] { display: none !important; }` so we also need the `!important` here to be able to override the default hidden behavior on the sphinx rendered scikit-learn.org. See: https://github.com/scikit-learn/scikit-learn/issues/21755 */display: inline-block !important;position: relative;}#sk-container-id-1 div.sk-text-repr-fallback {display: none;}</style><div id=\"sk-container-id-1\" class=\"sk-top-container\"><div class=\"sk-text-repr-fallback\"><pre>RandomForestClassifier(n_estimators=10, n_jobs=1, random_state=42)</pre><b>In a Jupyter environment, please rerun this cell to show the HTML representation or trust the notebook. <br />On GitHub, the HTML representation is unable to render, please try loading this page with nbviewer.org.</b></div><div class=\"sk-container\" hidden><div class=\"sk-item\"><div class=\"sk-estimator sk-toggleable\"><input class=\"sk-toggleable__control sk-hidden--visually\" id=\"sk-estimator-id-1\" type=\"checkbox\" checked><label for=\"sk-estimator-id-1\" class=\"sk-toggleable__label sk-toggleable__label-arrow\">RandomForestClassifier</label><div class=\"sk-toggleable__content\"><pre>RandomForestClassifier(n_estimators=10, n_jobs=1, random_state=42)</pre></div></div></div></div></div>"
      ],
      "text/plain": [
       "RandomForestClassifier(n_estimators=10, n_jobs=1, random_state=42)"
      ]
     },
     "execution_count": 70,
     "metadata": {},
     "output_type": "execute_result"
    }
   ],
   "source": [
    "from sklearn.ensemble import RandomForestClassifier\n",
    "\n",
    "# Crear una instancia del clasificador sin el parámetro obsoleto\n",
    "rf = RandomForestClassifier(\n",
    "    random_state=42,\n",
    "    bootstrap=True,\n",
    "    class_weight=None,\n",
    "    criterion='gini',\n",
    "    max_depth=None,\n",
    "    max_features='sqrt',  # Reemplazar 'auto' por 'sqrt'\n",
    "    max_leaf_nodes=None,\n",
    "    min_impurity_decrease=0.0,\n",
    "    min_samples_leaf=1,\n",
    "    min_samples_split=2,\n",
    "    min_weight_fraction_leaf=0.0,\n",
    "    n_estimators=10,\n",
    "    n_jobs=1,\n",
    "    oob_score=False,\n",
    "    verbose=0,\n",
    "    warm_start=False\n",
    ")\n",
    "\n",
    "# Ajustar el modelo a los datos de entrenamiento\n",
    "rf.fit(X_train, y_train)\n"
   ]
  },
  {
   "cell_type": "markdown",
   "metadata": {},
   "source": [
    "# Evaluacion del modelo "
   ]
  },
  {
   "cell_type": "markdown",
   "metadata": {},
   "source": [
    "\n",
    "*Ahora que tenemos un modelo, podemos usar los datos de prueba para ver qué tan bien se generaliza el modelo a datos que no ha visto antes. El método .score de un clasificador devuelve el promedio de la precisión de la predicción. Queremos asegurarnos de llamar al método .score con los datos de prueba (presumiblemente debería funcionar mejor con los datos de entrenamiento).*"
   ]
  },
  {
   "cell_type": "code",
   "execution_count": 71,
   "metadata": {},
   "outputs": [
    {
     "data": {
      "text/plain": [
       "0.7659033078880407"
      ]
     },
     "execution_count": 71,
     "metadata": {},
     "output_type": "execute_result"
    }
   ],
   "source": [
    "rf.score(X_test, y_test)"
   ]
  },
  {
   "cell_type": "markdown",
   "metadata": {},
   "source": [
    "*también podemos observar otras métricas, como la precisión:*"
   ]
  },
  {
   "cell_type": "code",
   "execution_count": 72,
   "metadata": {},
   "outputs": [
    {
     "data": {
      "text/plain": [
       "0.7730496453900709"
      ]
     },
     "execution_count": 72,
     "metadata": {},
     "output_type": "execute_result"
    }
   ],
   "source": [
    "metrics.precision_score(y_test, rf.predict(X_test))"
   ]
  },
  {
   "cell_type": "markdown",
   "metadata": {},
   "source": [
    "# Importancia de las características"
   ]
  },
  {
   "cell_type": "markdown",
   "metadata": {},
   "source": [
    "*La importancia de la característica se calcula observando el error aumentar. Si eliminar una característica aumenta el error en el modelo,la característica es más importante.Realmente me gusta la biblioteca SHAP para explorar las características de un\n",
    "el modelo considera importante y para explicar las predicciones. Este La biblioteca funciona con modelos de caja negra y lo mostraremos más adelante.*"
   ]
  },
  {
   "cell_type": "markdown",
   "metadata": {},
   "source": [
    "*Una buena ventaja de los modelos basados ​​en árboles es que puedes inspeccionar la importancia de las características. La importancia de la característica le indica cuánto contribuye una característica al modelo. Tenga en cuenta que eliminar una característica no significa que la puntuación disminuirá en consecuencia, ya que otras características pueden ser colineales (en este caso, podríamos eliminar la columna sex_male o sex_female ya que tienen una correlación negativa perfecta).*"
   ]
  },
  {
   "cell_type": "code",
   "execution_count": 73,
   "metadata": {},
   "outputs": [
    {
     "name": "stdout",
     "output_type": "stream",
     "text": [
      "age            Importancia: 0.280\n",
      "fare           Importancia: 0.274\n",
      "sex_male       Importancia: 0.230\n",
      "pclass         Importancia: 0.086\n",
      "sibsp          Importancia: 0.053\n"
     ]
    }
   ],
   "source": [
    "# Iterar sobre las características y sus importancias, ordenadas por importancia en orden descendente\n",
    "for col, val in sorted(zip(X_train.columns, rf.feature_importances_), key=lambda x: x[1], reverse=True)[:5]:\n",
    "    # Imprimir el nombre de la característica y su importancia, con formato amigable\n",
    "    print(f\"{col: <15}Importancia: {val:.3f}\")"
   ]
  },
  {
   "cell_type": "markdown",
   "metadata": {},
   "source": [
    "*La importancia de la característica se calcula observando el **aumento del error**. Si eliminar una característica aumenta el error en el modelo, la característica es más importante. Me gusta mucho la biblioteca SHAP para explorar qué características un modelo considera importantes y para explicar las predicciones. Esta biblioteca funciona con modelos de caja negra y la mostraremos más adelante.*"
   ]
  },
  {
   "cell_type": "markdown",
   "metadata": {},
   "source": [
    "# Optimizando el Modelo "
   ]
  },
  {
   "cell_type": "markdown",
   "metadata": {},
   "source": [
    "*Los modelos tienen hiperparámetros que controlan cómo se comportan. Por Al variar los valores de estos parámetros, cambiamos su rendimiento.**Sklearn** tiene una clase de búsqueda de cuadrícula para evaluar un modelo\n",
    "con diferentes combinaciones de parámetros y devolver el mejor resultado. Podemos usar esos parámetros para crear una instancia de la clase del modelo.*"
   ]
  },
  {
   "cell_type": "code",
   "execution_count": null,
   "metadata": {},
   "outputs": [
    {
     "name": "stderr",
     "output_type": "stream",
     "text": [
      "c:\\Users\\felip\\OneDrive\\Documentos\\Python\\Codigos\\Ciencia_Datos\\datos\\Lib\\site-packages\\sklearn\\model_selection\\_validation.py:425: FitFailedWarning: \n",
      "20 fits failed out of a total of 40.\n",
      "The score on these train-test partitions for these parameters will be set to nan.\n",
      "If these failures are not expected, you can try to debug them by setting error_score='raise'.\n",
      "\n",
      "Below are more details about the failures:\n",
      "--------------------------------------------------------------------------------\n",
      "20 fits failed with the following error:\n",
      "Traceback (most recent call last):\n",
      "  File \"c:\\Users\\felip\\OneDrive\\Documentos\\Python\\Codigos\\Ciencia_Datos\\datos\\Lib\\site-packages\\sklearn\\model_selection\\_validation.py\", line 729, in _fit_and_score\n",
      "    estimator.fit(X_train, y_train, **fit_params)\n",
      "  File \"c:\\Users\\felip\\OneDrive\\Documentos\\Python\\Codigos\\Ciencia_Datos\\datos\\Lib\\site-packages\\sklearn\\base.py\", line 1145, in wrapper\n",
      "    estimator._validate_params()\n",
      "  File \"c:\\Users\\felip\\OneDrive\\Documentos\\Python\\Codigos\\Ciencia_Datos\\datos\\Lib\\site-packages\\sklearn\\base.py\", line 638, in _validate_params\n",
      "    validate_parameter_constraints(\n",
      "  File \"c:\\Users\\felip\\OneDrive\\Documentos\\Python\\Codigos\\Ciencia_Datos\\datos\\Lib\\site-packages\\sklearn\\utils\\_param_validation.py\", line 96, in validate_parameter_constraints\n",
      "    raise InvalidParameterError(\n",
      "sklearn.utils._param_validation.InvalidParameterError: The 'max_features' parameter of RandomForestClassifier must be an int in the range [1, inf), a float in the range (0.0, 1.0], a str among {'sqrt', 'log2'} or None. Got 'auto' instead.\n",
      "\n",
      "  warnings.warn(some_fits_failed_message, FitFailedWarning)\n",
      "c:\\Users\\felip\\OneDrive\\Documentos\\Python\\Codigos\\Ciencia_Datos\\datos\\Lib\\site-packages\\sklearn\\model_selection\\_search.py:979: UserWarning: One or more of the test scores are non-finite: [0.78275719 0.78385008 0.78169399 0.76749822        nan        nan\n",
      "        nan        nan]\n",
      "  warnings.warn(\n"
     ]
    },
    {
     "name": "stdout",
     "output_type": "stream",
     "text": [
      "GridSearchCV(estimator=RandomForestClassifier(), n_jobs=-1,\n",
      "             param_grid={'max_features': [2, 'auto'],\n",
      "                         'min_samples_leaf': [1, 0.1],\n",
      "                         'n_estimators': [15, 200], 'random_state': [42]})\n",
      "{'max_features': 2, 'min_samples_leaf': 1, 'n_estimators': 200, 'random_state': 42}\n"
     ]
    },
    {
     "data": {
      "text/plain": [
       "0.7531806615776081"
      ]
     },
     "execution_count": 1287,
     "metadata": {},
     "output_type": "execute_result"
    }
   ],
   "source": [
    "# Importar las bibliotecas necesarias\n",
    "from sklearn import ensemble, model_selection\n",
    "\n",
    "# Crear un clasificador RandomForest\n",
    "rf4 = ensemble.RandomForestClassifier()\n",
    "\n",
    "# Definir el diccionario de parámetros para la búsqueda en cuadrícula\n",
    "params = {\n",
    "    \"max_features\": [2, \"auto\"],\n",
    "    \"n_estimators\": [15, 200],\n",
    "    \"min_samples_leaf\": [1, 0.1],\n",
    "    \"random_state\": [42],\n",
    "}\n",
    "\n",
    "# Realizar la búsqueda en cuadrícula con validación cruzada\n",
    "cv = model_selection.GridSearchCV(rf4, params, n_jobs=-1).fit(X_train, y_train)\n",
    "print(cv)\n",
    "# Imprimir los mejores parámetros encontrados por la búsqueda en cuadrícula\n",
    "print(cv.best_params_)\n",
    "\n",
    "\n",
    "# Crear un nuevo clasificador RandomForest con los mejores parámetros encontrados\n",
    "rf5 = ensemble.RandomForestClassifier(\n",
    "    {\n",
    "        \"max_features\": None,  # Cambiado de 'auto' a None\n",
    "        \"min_samples_leaf\": 1,\n",
    "        \"n_estimators\": 200,\n",
    "        \"random_state\": 42,\n",
    "    }\n",
    ")\n",
    "\n",
    "# Ajustar el modelo al conjunto de entrenamiento\n",
    "rf5.fit(X_train, y_train)\n",
    "# \n",
    "rf5.score(X_test, y_test)\n",
    "\n"
   ]
  },
  {
   "cell_type": "markdown",
   "metadata": {},
   "source": [
    "# Matriz de confusion "
   ]
  },
  {
   "cell_type": "markdown",
   "metadata": {},
   "source": [
    "*Una matriz de confusión nos permite ver las clasificaciones correctas así como falsos positivos y falsos negativos. Puede ser que nosotros desea optimizar hacia falsos positivos o falsos negativos, y diferentes modelos o parámetros pueden alterar eso. Nosotros podemos usar \"sklearn\" para obtener una versión de texto, o Yellowbrick.*"
   ]
  },
  {
   "cell_type": "code",
   "execution_count": null,
   "metadata": {},
   "outputs": [
    {
     "name": "stderr",
     "output_type": "stream",
     "text": [
      "c:\\Users\\felip\\OneDrive\\Documentos\\Python\\Codigos\\Ciencia_Datos\\datos\\Lib\\site-packages\\yellowbrick\\classifier\\base.py:232: YellowbrickWarning: could not determine class_counts_ from previously fitted classifier\n",
      "  warnings.warn(\n"
     ]
    },
    {
     "data": {
      "image/png": "[encoded data removed]",
      "text/plain": [
       "<Figure size 600x600 with 1 Axes>"
      ]
     },
     "metadata": {},
     "output_type": "display_data"
    }
   ],
   "source": [
    "from sklearn.metrics import confusion_matrix\n",
    "from yellowbrick.classifier import ConfusionMatrix\n",
    "\n",
    "# Calcula la matriz de confusión\n",
    "y_pred = rf5.predict(X_test)\n",
    "cm = confusion_matrix(y_test, y_pred)\n",
    "\n",
    "# Define el mapeo de etiquetas\n",
    "mapping = {0: \"died\", 1: \"survived\"}\n",
    "\n",
    "# Configura la visualización de la matriz de confusión\n",
    "fig, ax = plt.subplots(figsize=(6, 6))\n",
    "cm_viz = ConfusionMatrix(\n",
    "    rf5,\n",
    "    classes=[\"died\", \"survived\"],\n",
    "    label_encoder=mapping,\n",
    ")\n",
    "\n",
    "# Calcula la puntuación y muestra la visualización\n",
    "cm_viz.score(X_test, y_test)\n",
    "cm_viz.poof()\n",
    "\n",
    "# Guarda la figura en una imagen\n",
    "# Guarda la figura en una imagen en el directorio \"images\"\n",
    "fig.savefig(\"images/mlpr_0304.png\", dpi=300, bbox_inches=\"tight\")\n"
   ]
  },
  {
   "cell_type": "markdown",
   "metadata": {},
   "source": [
    "# ROC CURVE"
   ]
  },
  {
   "cell_type": "markdown",
   "metadata": {},
   "source": [
    "*Un gráfico de característica operativa del receptor (ROC) es un método común Herramienta utilizada para evaluar clasificadores. Midiendo el área bajo la curva (AUC), podemos obtener una métrica para comparar diferentes clasificadores\n",
    "(ver Figura 3-5). Traza la tasa positiva verdadera contra la tasa de falsos positivos. Podemos usar sklearn para calcular el AUC.*"
   ]
  },
  {
   "cell_type": "code",
   "execution_count": null,
   "metadata": {},
   "outputs": [
    {
     "data": {
      "text/plain": [
       "0.7173763736263736"
      ]
     },
     "execution_count": 1289,
     "metadata": {},
     "output_type": "execute_result"
    }
   ],
   "source": [
    "from sklearn.metrics import roc_auc_score\n",
    "\n",
    "y_pred = rf5.predict(X_test)\n",
    "roc_auc_score(y_test, y_pred)"
   ]
  },
  {
   "cell_type": "code",
   "execution_count": null,
   "metadata": {},
   "outputs": [
    {
     "data": {
      "image/png": "[encoded data removed]",
      "text/plain": [
       "<Figure size 600x600 with 1 Axes>"
      ]
     },
     "metadata": {},
     "output_type": "display_data"
    }
   ],
   "source": [
    "from sklearn.metrics import roc_curve, auc\n",
    "\n",
    "# Obtener las puntuaciones de la clase positiva\n",
    "y_scores = rf5.predict_proba(X_test)[:, 1]\n",
    "\n",
    "# Calcular la curva ROC\n",
    "fpr, tpr, thresholds = roc_curve(y_test, y_scores)\n",
    "\n",
    "# Calcular el área bajo la curva (AUC)\n",
    "roc_auc = auc(fpr, tpr)\n",
    "\n",
    "# Visualizar la curva ROC\n",
    "import os\n",
    "\n",
    "# Ruta del directorio de imágenes\n",
    "image_dir = \"images\"\n",
    "\n",
    "# Crea el directorio si no existe\n",
    "os.makedirs(image_dir, exist_ok=True)\n",
    "\n",
    "# Configurar la visualización de la curva ROC\n",
    "plt.figure(figsize=(6, 6))\n",
    "plt.plot(fpr, tpr, color='darkorange', lw=2, label=f'AUC = {roc_auc:.2f}')\n",
    "plt.plot([0, 1], [0, 1], color='navy', lw=2, linestyle='--')\n",
    "plt.xlabel('Tasa de Falsos Positivos')\n",
    "plt.ylabel('Tasa de Verdaderos Positivos')\n",
    "plt.title('Curva ROC')\n",
    "plt.legend(loc=\"lower right\")\n",
    "\n",
    "# Guardar la figura en el directorio 'images'\n",
    "plt.savefig(os.path.join(image_dir, \"mlpr_0305_alternative.png\"))\n",
    "plt.show()\n"
   ]
  },
  {
   "cell_type": "markdown",
   "metadata": {},
   "source": [
    "# Curva de aprendizaje"
   ]
  },
  {
   "cell_type": "code",
   "execution_count": null,
   "metadata": {},
   "outputs": [
    {
     "data": {
      "image/png": "[encoded data removed]",
      "text/plain": [
       "<Figure size 600x400 with 1 Axes>"
      ]
     },
     "metadata": {},
     "output_type": "display_data"
    }
   ],
   "source": [
    "import numpy as np\n",
    "import matplotlib.pyplot as plt\n",
    "from sklearn.model_selection import StratifiedKFold\n",
    "from sklearn.ensemble import RandomForestClassifier\n",
    "from yellowbrick.model_selection import LearningCurve\n",
    "\n",
    "rf5 = RandomForestClassifier()\n",
    "\n",
    "# Crear una figura y ejes\n",
    "fig, ax = plt.subplots(figsize=(6, 4))\n",
    "\n",
    "# Configurar validación cruzada\n",
    "cv = StratifiedKFold(n_splits=12)\n",
    "\n",
    "# Crear tamaños de entrenamiento\n",
    "sizes = np.linspace(0.3, 1.0, 10)\n",
    "\n",
    "# Inicializar visualizador de curva de aprendizaje\n",
    "lc_viz = LearningCurve(\n",
    "    rf5,\n",
    "    cv=cv,\n",
    "    train_sizes=sizes,\n",
    "    scoring=\"f1_weighted\",\n",
    "    n_jobs=4,\n",
    "    ax=ax,\n",
    ")\n",
    "\n",
    "# Ajustar el visualizador a los datos\n",
    "lc_viz.fit(X, y)\n",
    "\n",
    "# Hacer visible el gráfico\n",
    "lc_viz.poof()\n",
    "\n",
    "# Guardar la figura como imagen\n",
    "fig.savefig(\"images/mlpr_0306.png\")"
   ]
  },
  {
   "cell_type": "markdown",
   "metadata": {},
   "source": [
    "# Implementacion del modelo "
   ]
  },
  {
   "cell_type": "code",
   "execution_count": null,
   "metadata": {},
   "outputs": [
    {
     "name": "stdout",
     "output_type": "stream",
     "text": [
      "ROC AUC Score: 0.7791895604395604\n"
     ]
    }
   ],
   "source": [
    "import pickle\n",
    "from sklearn.metrics import roc_auc_score\n",
    "\n",
    "# Supongamos que ya tienes el modelo rf5 definido y entrenado\n",
    "\n",
    "# Guardar el modelo en un archivo usando pickle\n",
    "with open(\"rf5_model.pkl\", \"wb\") as model_file:\n",
    "    pickle.dump(rf5, model_file)\n",
    "\n",
    "# Cargar el modelo desde el archivo usando pickle\n",
    "with open(\"rf5_model.pkl\", \"rb\") as model_file:\n",
    "    rf6 = pickle.load(model_file)\n",
    "\n",
    "# Ajustar el modelo cargado con los datos de entrenamiento\n",
    "rf6.fit(X_train, y_train)\n",
    "\n",
    "# Ahora puedes usar el modelo cargado para hacer predicciones\n",
    "y_pred = rf6.predict(X_test)\n",
    "roc_auc = roc_auc_score(y_test, y_pred)\n",
    "\n",
    "print(\"ROC AUC Score:\", roc_auc)\n"
   ]
  }
 ],
 "metadata": {
  "kernelspec": {
   "display_name": "Python 3",
   "language": "python",
   "name": "python3"
  },
  "language_info": {
   "codemirror_mode": {
    "name": "ipython",
    "version": 3
   },
   "file_extension": ".py",
   "mimetype": "text/x-python",
   "name": "python",
   "nbconvert_exporter": "python",
   "pygments_lexer": "ipython3",
   "version": "3.11.4"
  }
 },
 "nbformat": 4,
 "nbformat_minor": 2
}
